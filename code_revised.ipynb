{
 "cells": [
  {
   "cell_type": "code",
   "execution_count": 1,
   "metadata": {},
   "outputs": [
    {
     "name": "stdout",
     "output_type": "stream",
     "text": [
      "Requirement already satisfied: numpy in c:\\users\\govin\\appdata\\local\\programs\\python\\python310\\lib\\site-packages (1.22.1)\n",
      "Requirement already satisfied: matplotlib in c:\\users\\govin\\appdata\\local\\programs\\python\\python310\\lib\\site-packages (3.7.1)\n",
      "Requirement already satisfied: plotly in c:\\users\\govin\\appdata\\local\\programs\\python\\python310\\lib\\site-packages (5.13.1)\n",
      "Requirement already satisfied: pgmpy in c:\\users\\govin\\appdata\\local\\programs\\python\\python310\\lib\\site-packages (0.1.22)\n",
      "Requirement already satisfied: seaborn in c:\\users\\govin\\appdata\\local\\programs\\python\\python310\\lib\\site-packages (0.12.2)\n",
      "Requirement already satisfied: contourpy>=1.0.1 in c:\\users\\govin\\appdata\\local\\programs\\python\\python310\\lib\\site-packages (from matplotlib) (1.0.7)\n",
      "Requirement already satisfied: cycler>=0.10 in c:\\users\\govin\\appdata\\local\\programs\\python\\python310\\lib\\site-packages (from matplotlib) (0.11.0)\n",
      "Requirement already satisfied: fonttools>=4.22.0 in c:\\users\\govin\\appdata\\local\\programs\\python\\python310\\lib\\site-packages (from matplotlib) (4.39.2)\n",
      "Requirement already satisfied: python-dateutil>=2.7 in c:\\users\\govin\\appdata\\local\\programs\\python\\python310\\lib\\site-packages (from matplotlib) (2.8.2)\n",
      "Requirement already satisfied: kiwisolver>=1.0.1 in c:\\users\\govin\\appdata\\local\\programs\\python\\python310\\lib\\site-packages (from matplotlib) (1.4.4)\n",
      "Requirement already satisfied: pillow>=6.2.0 in c:\\users\\govin\\appdata\\local\\programs\\python\\python310\\lib\\site-packages (from matplotlib) (9.4.0)\n",
      "Requirement already satisfied: pyparsing>=2.3.1 in c:\\users\\govin\\appdata\\local\\programs\\python\\python310\\lib\\site-packages (from matplotlib) (3.0.9)\n",
      "Requirement already satisfied: packaging>=20.0 in c:\\users\\govin\\appdata\\local\\programs\\python\\python310\\lib\\site-packages (from matplotlib) (23.0)\n",
      "Requirement already satisfied: tenacity>=6.2.0 in c:\\users\\govin\\appdata\\local\\programs\\python\\python310\\lib\\site-packages (from plotly) (8.2.2)\n",
      "Requirement already satisfied: tqdm in c:\\users\\govin\\appdata\\local\\programs\\python\\python310\\lib\\site-packages (from pgmpy) (4.65.0)\n",
      "Requirement already satisfied: networkx in c:\\users\\govin\\appdata\\local\\programs\\python\\python310\\lib\\site-packages (from pgmpy) (3.1)\n",
      "Requirement already satisfied: statsmodels in c:\\users\\govin\\appdata\\local\\programs\\python\\python310\\lib\\site-packages (from pgmpy) (0.13.5)\n",
      "Requirement already satisfied: joblib in c:\\users\\govin\\appdata\\local\\programs\\python\\python310\\lib\\site-packages (from pgmpy) (1.2.0)\n",
      "Requirement already satisfied: pandas in c:\\users\\govin\\appdata\\local\\programs\\python\\python310\\lib\\site-packages (from pgmpy) (1.5.3)\n",
      "Requirement already satisfied: torch in c:\\users\\govin\\appdata\\local\\programs\\python\\python310\\lib\\site-packages (from pgmpy) (2.0.0)\n",
      "Requirement already satisfied: scipy in c:\\users\\govin\\appdata\\local\\programs\\python\\python310\\lib\\site-packages (from pgmpy) (1.7.3)\n",
      "Requirement already satisfied: opt-einsum in c:\\users\\govin\\appdata\\local\\programs\\python\\python310\\lib\\site-packages (from pgmpy) (3.3.0)\n",
      "Requirement already satisfied: scikit-learn in c:\\users\\govin\\appdata\\local\\programs\\python\\python310\\lib\\site-packages (from pgmpy) (1.2.2)\n",
      "Requirement already satisfied: pytz>=2020.1 in c:\\users\\govin\\appdata\\local\\programs\\python\\python310\\lib\\site-packages (from pandas->pgmpy) (2022.7.1)\n",
      "Requirement already satisfied: six>=1.5 in c:\\users\\govin\\appdata\\local\\programs\\python\\python310\\lib\\site-packages (from python-dateutil>=2.7->matplotlib) (1.16.0)\n",
      "Requirement already satisfied: threadpoolctl>=2.0.0 in c:\\users\\govin\\appdata\\local\\programs\\python\\python310\\lib\\site-packages (from scikit-learn->pgmpy) (3.1.0)\n",
      "Collecting numpy\n",
      "  Downloading numpy-1.22.4-cp310-cp310-win_amd64.whl (14.7 MB)\n",
      "     ---------------------------------------- 0.0/14.7 MB ? eta -:--:--\n",
      "     --------------------------------------- 0.0/14.7 MB 660.6 kB/s eta 0:00:23\n",
      "     ---------------------------------------- 0.1/14.7 MB 1.1 MB/s eta 0:00:14\n",
      "      --------------------------------------- 0.3/14.7 MB 2.0 MB/s eta 0:00:08\n",
      "      --------------------------------------- 0.3/14.7 MB 2.0 MB/s eta 0:00:08\n",
      "     - -------------------------------------- 0.5/14.7 MB 2.2 MB/s eta 0:00:07\n",
      "     - -------------------------------------- 0.6/14.7 MB 2.4 MB/s eta 0:00:06\n",
      "     --- ------------------------------------ 1.2/14.7 MB 3.8 MB/s eta 0:00:04\n",
      "     ---- ----------------------------------- 1.6/14.7 MB 4.6 MB/s eta 0:00:03\n",
      "     ----- ---------------------------------- 2.1/14.7 MB 5.4 MB/s eta 0:00:03\n",
      "     ------ --------------------------------- 2.3/14.7 MB 5.4 MB/s eta 0:00:03\n",
      "     ---------- ----------------------------- 3.9/14.7 MB 7.7 MB/s eta 0:00:02\n",
      "     -------------- ------------------------- 5.5/14.7 MB 10.3 MB/s eta 0:00:01\n",
      "     --------------- ------------------------ 5.5/14.7 MB 9.5 MB/s eta 0:00:01\n",
      "     --------------- ------------------------ 5.5/14.7 MB 9.5 MB/s eta 0:00:01\n",
      "     --------------- ------------------------ 5.5/14.7 MB 9.5 MB/s eta 0:00:01\n",
      "     ----------------- ---------------------- 6.6/14.7 MB 9.4 MB/s eta 0:00:01\n",
      "     ------------------ --------------------- 6.7/14.7 MB 8.8 MB/s eta 0:00:01\n",
      "     ------------------ --------------------- 6.7/14.7 MB 8.3 MB/s eta 0:00:01\n",
      "     ------------------------- -------------- 9.4/14.7 MB 11.0 MB/s eta 0:00:01\n",
      "     ---------------------------------- ---- 13.1/14.7 MB 25.2 MB/s eta 0:00:01\n",
      "     --------------------------------------  14.7/14.7 MB 24.2 MB/s eta 0:00:01\n",
      "     --------------------------------------- 14.7/14.7 MB 22.5 MB/s eta 0:00:00\n",
      "Requirement already satisfied: patsy>=0.5.2 in c:\\users\\govin\\appdata\\local\\programs\\python\\python310\\lib\\site-packages (from statsmodels->pgmpy) (0.5.3)\n",
      "Requirement already satisfied: typing-extensions in c:\\users\\govin\\appdata\\local\\programs\\python\\python310\\lib\\site-packages (from torch->pgmpy) (4.5.0)\n",
      "Requirement already satisfied: jinja2 in c:\\users\\govin\\appdata\\local\\programs\\python\\python310\\lib\\site-packages (from torch->pgmpy) (3.1.2)\n",
      "Requirement already satisfied: filelock in c:\\users\\govin\\appdata\\local\\programs\\python\\python310\\lib\\site-packages (from torch->pgmpy) (3.11.0)\n",
      "Requirement already satisfied: sympy in c:\\users\\govin\\appdata\\local\\programs\\python\\python310\\lib\\site-packages (from torch->pgmpy) (1.11.1)\n",
      "Requirement already satisfied: colorama in c:\\users\\govin\\appdata\\local\\programs\\python\\python310\\lib\\site-packages (from tqdm->pgmpy) (0.4.6)\n",
      "Requirement already satisfied: MarkupSafe>=2.0 in c:\\users\\govin\\appdata\\local\\programs\\python\\python310\\lib\\site-packages (from jinja2->torch->pgmpy) (2.1.2)\n",
      "Requirement already satisfied: mpmath>=0.19 in c:\\users\\govin\\appdata\\local\\programs\\python\\python310\\lib\\site-packages (from sympy->torch->pgmpy) (1.3.0)\n",
      "Installing collected packages: numpy\n",
      "  Attempting uninstall: numpy\n",
      "    Found existing installation: numpy 1.22.1\n",
      "    Uninstalling numpy-1.22.1:\n",
      "      Successfully uninstalled numpy-1.22.1\n"
     ]
    },
    {
     "name": "stderr",
     "output_type": "stream",
     "text": [
      "ERROR: Could not install packages due to an OSError: [WinError 5] Access is denied: 'C:\\\\Users\\\\govin\\\\AppData\\\\Local\\\\Programs\\\\Python\\\\Python310\\\\Lib\\\\site-packages\\\\~umpy\\\\.libs\\\\libopenblas.EL2C6PLE4ZYW3ECEVIV3OXXGRN2NRFM2.gfortran-win_amd64.dll'\n",
      "Consider using the `--user` option or check the permissions.\n",
      "\n",
      "\n",
      "[notice] A new release of pip is available: 23.0.1 -> 23.1\n",
      "[notice] To update, run: python.exe -m pip install --upgrade pip\n"
     ]
    }
   ],
   "source": [
    "! pip install numpy matplotlib plotly pgmpy seaborn"
   ]
  },
  {
   "cell_type": "code",
   "execution_count": 2,
   "metadata": {},
   "outputs": [
    {
     "name": "stderr",
     "output_type": "stream",
     "text": [
      "c:\\Users\\govin\\AppData\\Local\\Programs\\Python\\Python310\\lib\\site-packages\\pgmpy\\global_vars.py:11: UserWarning: Failed to initialize NumPy: module compiled against API version 0x10 but this version of numpy is 0xf . Check the section C-API incompatibility at the Troubleshooting ImportError section at https://numpy.org/devdocs/user/troubleshooting-importerror.html#c-api-incompatibility for indications on how to solve this problem . (Triggered internally at ..\\torch\\csrc\\utils\\tensor_numpy.cpp:84.)\n",
      "  device = torch.device(\"cpu\")\n",
      "c:\\Users\\govin\\AppData\\Local\\Programs\\Python\\Python310\\lib\\site-packages\\tqdm\\auto.py:21: TqdmWarning: IProgress not found. Please update jupyter and ipywidgets. See https://ipywidgets.readthedocs.io/en/stable/user_install.html\n",
      "  from .autonotebook import tqdm as notebook_tqdm\n"
     ]
    },
    {
     "name": "stdout",
     "output_type": "stream",
     "text": [
      "Model is consistent:  True\n",
      "\n",
      "Nodes in the Bayesian Network:\n",
      "['Introduction to Programming', 'Basic Syntax', 'Data Types', 'Variables and Constants', 'Operators', 'Control Structures', 'If-else statements', 'Switch statements', 'Loops', 'For loop', 'While loop', 'Do-while loop', 'Functions', 'Arrays and Vectors', 'Pointers', 'Strings', 'File I/O', 'Object-Oriented Programming', 'Classes and Objects', 'Inheritance and Polymorphism']\n",
      "\n",
      "Edges in the Bayesian Network:\n",
      "[('Introduction to Programming', 'Basic Syntax'), ('Basic Syntax', 'Data Types'), ('Data Types', 'Variables and Constants'), ('Data Types', 'Functions'), ('Data Types', 'Arrays and Vectors'), ('Data Types', 'Pointers'), ('Data Types', 'Strings'), ('Data Types', 'File I/O'), ('Data Types', 'Object-Oriented Programming'), ('Variables and Constants', 'Operators'), ('Operators', 'Control Structures'), ('Operators', 'Loops'), ('Control Structures', 'If-else statements'), ('Control Structures', 'Switch statements'), ('Loops', 'For loop'), ('Loops', 'While loop'), ('Loops', 'Do-while loop'), ('Object-Oriented Programming', 'Classes and Objects'), ('Object-Oriented Programming', 'Inheritance and Polymorphism')]\n",
      "Node: Introduction to Programming\n",
      "Content: Content for Introduction to Programming\n",
      "\n",
      "Node: Basic Syntax\n",
      "Content: Content for Basic Syntax\n",
      "\n",
      "Node: Data Types\n",
      "Content: Content for Data Types\n",
      "\n",
      "Node: Variables and Constants\n",
      "Content: Content for Variables and Constants\n",
      "\n",
      "Node: Operators\n",
      "Content: Content for Operators\n",
      "\n",
      "Node: Control Structures\n",
      "Content: Content for Control Structures\n",
      "\n",
      "Node: If-else statements\n",
      "Content: Content for If-else statements\n",
      "\n",
      "Node: Switch statements\n",
      "Content: Content for Switch statements\n",
      "\n",
      "Node: Loops\n",
      "Content: Content for Loops\n",
      "\n",
      "Node: For loop\n",
      "Content: Content for For loop\n",
      "\n",
      "Node: While loop\n",
      "Content: Content for While loop\n",
      "\n",
      "Node: Do-while loop\n",
      "Content: Content for Do-while loop\n",
      "\n",
      "Node: Functions\n",
      "Content: Content for Functions\n",
      "\n",
      "Node: Arrays and Vectors\n",
      "Content: Content for Arrays and Vectors\n",
      "\n",
      "Node: Pointers\n",
      "Content: Content for Pointers\n",
      "\n",
      "Node: Strings\n",
      "Content: Content for Strings\n",
      "\n",
      "Node: File I/O\n",
      "Content: Content for File I/O\n",
      "\n",
      "Node: Object-Oriented Programming\n",
      "Content: Content for Object-Oriented Programming\n",
      "\n",
      "Node: Classes and Objects\n",
      "Content: Content for Classes and Objects\n",
      "\n",
      "Node: Inheritance and Polymorphism\n",
      "Content: Content for Inheritance and Polymorphism\n",
      "\n",
      "Cannot access node: Data Types due to unsatisfied parent requirements.\n",
      "\n",
      "+--------------------------------+-----+\n",
      "| Introduction to Programming(0) | 0.5 |\n",
      "+--------------------------------+-----+\n",
      "| Introduction to Programming(1) | 0.5 |\n",
      "+--------------------------------+-----+\n",
      "+-----------------------------+-----+--------------------------------+\n",
      "| Introduction to Programming | ... | Introduction to Programming(1) |\n",
      "+-----------------------------+-----+--------------------------------+\n",
      "| Basic Syntax(0)             | ... | 0.2                            |\n",
      "+-----------------------------+-----+--------------------------------+\n",
      "| Basic Syntax(1)             | ... | 0.8                            |\n",
      "+-----------------------------+-----+--------------------------------+\n",
      "+---------------+-----------------+-----------------+\n",
      "| Basic Syntax  | Basic Syntax(0) | Basic Syntax(1) |\n",
      "+---------------+-----------------+-----------------+\n",
      "| Data Types(0) | 0.9             | 0.3             |\n",
      "+---------------+-----------------+-----------------+\n",
      "| Data Types(1) | 0.1             | 0.7             |\n",
      "+---------------+-----------------+-----------------+\n",
      "+----------------------------+---------------+---------------+\n",
      "| Data Types                 | Data Types(0) | Data Types(1) |\n",
      "+----------------------------+---------------+---------------+\n",
      "| Variables and Constants(0) | 0.8           | 0.2           |\n",
      "+----------------------------+---------------+---------------+\n",
      "| Variables and Constants(1) | 0.2           | 0.8           |\n",
      "+----------------------------+---------------+---------------+\n",
      "+-------------------------+-----+----------------------------+\n",
      "| Variables and Constants | ... | Variables and Constants(1) |\n",
      "+-------------------------+-----+----------------------------+\n",
      "| Operators(0)            | ... | 0.3                        |\n",
      "+-------------------------+-----+----------------------------+\n",
      "| Operators(1)            | ... | 0.7                        |\n",
      "+-------------------------+-----+----------------------------+\n",
      "+-----------------------+--------------+--------------+\n",
      "| Operators             | Operators(0) | Operators(1) |\n",
      "+-----------------------+--------------+--------------+\n",
      "| Control Structures(0) | 0.8          | 0.2          |\n",
      "+-----------------------+--------------+--------------+\n",
      "| Control Structures(1) | 0.2          | 0.8          |\n",
      "+-----------------------+--------------+--------------+\n",
      "+-----------------------+-----------------------+-----------------------+\n",
      "| Control Structures    | Control Structures(0) | Control Structures(1) |\n",
      "+-----------------------+-----------------------+-----------------------+\n",
      "| If-else statements(0) | 0.9                   | 0.4                   |\n",
      "+-----------------------+-----------------------+-----------------------+\n",
      "| If-else statements(1) | 0.1                   | 0.6                   |\n",
      "+-----------------------+-----------------------+-----------------------+\n",
      "+----------------------+-----------------------+-----------------------+\n",
      "| Control Structures   | Control Structures(0) | Control Structures(1) |\n",
      "+----------------------+-----------------------+-----------------------+\n",
      "| Switch statements(0) | 0.9                   | 0.4                   |\n",
      "+----------------------+-----------------------+-----------------------+\n",
      "| Switch statements(1) | 0.1                   | 0.6                   |\n",
      "+----------------------+-----------------------+-----------------------+\n",
      "+-----------+--------------+--------------+\n",
      "| Operators | Operators(0) | Operators(1) |\n",
      "+-----------+--------------+--------------+\n",
      "| Loops(0)  | 0.8          | 0.2          |\n",
      "+-----------+--------------+--------------+\n",
      "| Loops(1)  | 0.2          | 0.8          |\n",
      "+-----------+--------------+--------------+\n",
      "+-------------+----------+----------+\n",
      "| Loops       | Loops(0) | Loops(1) |\n",
      "+-------------+----------+----------+\n",
      "| For loop(0) | 0.9      | 0.4      |\n",
      "+-------------+----------+----------+\n",
      "| For loop(1) | 0.1      | 0.6      |\n",
      "+-------------+----------+----------+\n",
      "+---------------+----------+----------+\n",
      "| Loops         | Loops(0) | Loops(1) |\n",
      "+---------------+----------+----------+\n",
      "| While loop(0) | 0.9      | 0.4      |\n",
      "+---------------+----------+----------+\n",
      "| While loop(1) | 0.1      | 0.6      |\n",
      "+---------------+----------+----------+\n",
      "+------------------+----------+----------+\n",
      "| Loops            | Loops(0) | Loops(1) |\n",
      "+------------------+----------+----------+\n",
      "| Do-while loop(0) | 0.9      | 0.4      |\n",
      "+------------------+----------+----------+\n",
      "| Do-while loop(1) | 0.1      | 0.6      |\n",
      "+------------------+----------+----------+\n",
      "+--------------+---------------+---------------+\n",
      "| Data Types   | Data Types(0) | Data Types(1) |\n",
      "+--------------+---------------+---------------+\n",
      "| Functions(0) | 0.9           | 0.4           |\n",
      "+--------------+---------------+---------------+\n",
      "| Functions(1) | 0.1           | 0.6           |\n",
      "+--------------+---------------+---------------+\n",
      "+-----------------------+---------------+---------------+\n",
      "| Data Types            | Data Types(0) | Data Types(1) |\n",
      "+-----------------------+---------------+---------------+\n",
      "| Arrays and Vectors(0) | 0.9           | 0.4           |\n",
      "+-----------------------+---------------+---------------+\n",
      "| Arrays and Vectors(1) | 0.1           | 0.6           |\n",
      "+-----------------------+---------------+---------------+\n",
      "+-------------+---------------+---------------+\n",
      "| Data Types  | Data Types(0) | Data Types(1) |\n",
      "+-------------+---------------+---------------+\n",
      "| Pointers(0) | 0.9           | 0.4           |\n",
      "+-------------+---------------+---------------+\n",
      "| Pointers(1) | 0.1           | 0.6           |\n",
      "+-------------+---------------+---------------+\n",
      "+------------+---------------+---------------+\n",
      "| Data Types | Data Types(0) | Data Types(1) |\n",
      "+------------+---------------+---------------+\n",
      "| Strings(0) | 0.9           | 0.4           |\n",
      "+------------+---------------+---------------+\n",
      "| Strings(1) | 0.1           | 0.6           |\n",
      "+------------+---------------+---------------+\n",
      "+-------------+---------------+---------------+\n",
      "| Data Types  | Data Types(0) | Data Types(1) |\n",
      "+-------------+---------------+---------------+\n",
      "| File I/O(0) | 0.9           | 0.4           |\n",
      "+-------------+---------------+---------------+\n",
      "| File I/O(1) | 0.1           | 0.6           |\n",
      "+-------------+---------------+---------------+\n",
      "+--------------------------------+---------------+---------------+\n",
      "| Data Types                     | Data Types(0) | Data Types(1) |\n",
      "+--------------------------------+---------------+---------------+\n",
      "| Object-Oriented Programming(0) | 0.8           | 0.2           |\n",
      "+--------------------------------+---------------+---------------+\n",
      "| Object-Oriented Programming(1) | 0.2           | 0.8           |\n",
      "+--------------------------------+---------------+---------------+\n",
      "+-----------------------------+-----+--------------------------------+\n",
      "| Object-Oriented Programming | ... | Object-Oriented Programming(1) |\n",
      "+-----------------------------+-----+--------------------------------+\n",
      "| Classes and Objects(0)      | ... | 0.3                            |\n",
      "+-----------------------------+-----+--------------------------------+\n",
      "| Classes and Objects(1)      | ... | 0.7                            |\n",
      "+-----------------------------+-----+--------------------------------+\n",
      "+---------------------------------+-----+--------------------------------+\n",
      "| Object-Oriented Programming     | ... | Object-Oriented Programming(1) |\n",
      "+---------------------------------+-----+--------------------------------+\n",
      "| Inheritance and Polymorphism(0) | ... | 0.3                            |\n",
      "+---------------------------------+-----+--------------------------------+\n",
      "| Inheritance and Polymorphism(1) | ... | 0.7                            |\n",
      "+---------------------------------+-----+--------------------------------+\n",
      "Node: Introduction to Programming, Probability known: 0.30\n",
      "Node: Basic Syntax, Probability known: 0.30\n",
      "Node: Data Types, Probability known: 0.30\n",
      "Node: Variables and Constants, Probability known: 0.30\n",
      "Node: Operators, Probability known: 0.30\n",
      "Node: Control Structures, Probability known: 0.30\n",
      "Node: If-else statements, Probability known: 0.30\n",
      "Node: Switch statements, Probability known: 0.30\n",
      "Node: Loops, Probability known: 0.30\n",
      "Node: For loop, Probability known: 0.30\n",
      "Node: While loop, Probability known: 0.30\n",
      "Node: Do-while loop, Probability known: 0.30\n",
      "Node: Functions, Probability known: 0.30\n",
      "Node: Arrays and Vectors, Probability known: 0.30\n",
      "Node: Pointers, Probability known: 0.30\n",
      "Node: Strings, Probability known: 0.30\n",
      "Node: File I/O, Probability known: 0.30\n",
      "Node: Object-Oriented Programming, Probability known: 0.30\n",
      "Node: Classes and Objects, Probability known: 0.30\n",
      "Node: Inheritance and Polymorphism, Probability known: 0.30\n"
     ]
    },
    {
     "data": {
      "application/vnd.plotly.v1+json": {
       "config": {
        "plotlyServerURL": "https://plot.ly"
       },
       "data": [
        {
         "hovertemplate": "Weight of Parent Node=%{x}<br>Probability of Correct Answer=%{y}<br>Final Probability=%{z}<br>color=%{marker.color}<extra></extra>",
         "legendgroup": "",
         "marker": {
          "color": [
           0.4797147284458669,
           0.3622006458619112,
           0.3447100855195473,
           0.3834827564380787,
           0.4539034949408637,
           0.5421262714597914,
           0.6403626943627994,
           0.7442317933568524,
           0.8512692726521184,
           0.9163389658668166,
           0.4457865239352081,
           0.32527752816067185,
           0.3237085872733599,
           0.3800023757906436,
           0.46444560023448733,
           0.5625831448588198,
           0.667382791192579,
           0.7754234599795731,
           0.885040842392465,
           0.9440739233260641,
           0.4046031099968846,
           0.2940362534907283,
           0.31014252133729625,
           0.38053727104931745,
           0.47419851298939003,
           0.5778311087414846,
           0.6857371418415887,
           0.7954746480908396,
           0.9059970714040105,
           0.9597130306017188,
           0.36754967129427524,
           0.27102375118125904,
           0.3026142971427043,
           0.3832707237284116,
           0.4827183386383042,
           0.5893625788638424,
           0.698762973465585,
           0.8092189165518316,
           0.9200791122491648,
           0.9693920004358504,
           0.33555876938164053,
           0.25418914666629433,
           0.29867231145286255,
           0.38671990268240114,
           0.4898474876806602,
           0.598195070521938,
           0.7083495756934912,
           0.8191295539793708,
           0.9301260421894403,
           0.9758128607578832,
           0.30815142971301573,
           0.24175542224855467,
           0.2968116538094851,
           0.3902212240100128,
           0.4957423748335712,
           0.6050882353275605,
           0.71564189887537,
           0.8265769739138594,
           0.937632494686248,
           0.9803049983219732,
           0.2846046769321857,
           0.2324479528011005,
           0.29615872464834814,
           0.3935084469409183,
           0.500624316136969,
           0.6105755183049981,
           0.7213498816584403,
           0.8323632272915183,
           0.943445954876749,
           0.9835810836738949,
           0.2642456642705986,
           0.22538606569127193,
           0.2962065383780863,
           0.3964932988677446,
           0.50469637548354,
           0.6150262235959095,
           0.72592744315512,
           0.8369821654910935,
           0.9480781273790334,
           0.9860508401913821,
           0.24651271004784553,
           0.2199615108452947,
           0.29665704437799034,
           0.3991642610944976,
           0.5081243986069577,
           0.6186977663184061,
           0.7296744415796015,
           0.8407519437282336,
           0.951854652598725,
           0.9879636631496813
          ],
          "coloraxis": "coloraxis",
          "symbol": "circle"
         },
         "mode": "markers",
         "name": "",
         "scene": "scene",
         "showlegend": false,
         "type": "scatter3d",
         "x": [
          0.7777777777777778,
          0.7777777777777778,
          0.7777777777777778,
          0.7777777777777778,
          0.7777777777777778,
          0.7777777777777778,
          0.7777777777777778,
          0.7777777777777778,
          0.7777777777777778,
          0.7777777777777778,
          1.0555555555555556,
          1.0555555555555556,
          1.0555555555555556,
          1.0555555555555556,
          1.0555555555555556,
          1.0555555555555556,
          1.0555555555555556,
          1.0555555555555556,
          1.0555555555555556,
          1.0555555555555556,
          1.3333333333333335,
          1.3333333333333335,
          1.3333333333333335,
          1.3333333333333335,
          1.3333333333333335,
          1.3333333333333335,
          1.3333333333333335,
          1.3333333333333335,
          1.3333333333333335,
          1.3333333333333335,
          1.6111111111111112,
          1.6111111111111112,
          1.6111111111111112,
          1.6111111111111112,
          1.6111111111111112,
          1.6111111111111112,
          1.6111111111111112,
          1.6111111111111112,
          1.6111111111111112,
          1.6111111111111112,
          1.8888888888888888,
          1.8888888888888888,
          1.8888888888888888,
          1.8888888888888888,
          1.8888888888888888,
          1.8888888888888888,
          1.8888888888888888,
          1.8888888888888888,
          1.8888888888888888,
          1.8888888888888888,
          2.166666666666667,
          2.166666666666667,
          2.166666666666667,
          2.166666666666667,
          2.166666666666667,
          2.166666666666667,
          2.166666666666667,
          2.166666666666667,
          2.166666666666667,
          2.166666666666667,
          2.4444444444444446,
          2.4444444444444446,
          2.4444444444444446,
          2.4444444444444446,
          2.4444444444444446,
          2.4444444444444446,
          2.4444444444444446,
          2.4444444444444446,
          2.4444444444444446,
          2.4444444444444446,
          2.7222222222222223,
          2.7222222222222223,
          2.7222222222222223,
          2.7222222222222223,
          2.7222222222222223,
          2.7222222222222223,
          2.7222222222222223,
          2.7222222222222223,
          2.7222222222222223,
          2.7222222222222223,
          3,
          3,
          3,
          3,
          3,
          3,
          3,
          3,
          3,
          3
         ],
         "y": [
          0,
          0.1111111111111111,
          0.2222222222222222,
          0.3333333333333333,
          0.4444444444444444,
          0.5555555555555556,
          0.6666666666666666,
          0.7777777777777777,
          0.8888888888888888,
          1,
          0,
          0.1111111111111111,
          0.2222222222222222,
          0.3333333333333333,
          0.4444444444444444,
          0.5555555555555556,
          0.6666666666666666,
          0.7777777777777777,
          0.8888888888888888,
          1,
          0,
          0.1111111111111111,
          0.2222222222222222,
          0.3333333333333333,
          0.4444444444444444,
          0.5555555555555556,
          0.6666666666666666,
          0.7777777777777777,
          0.8888888888888888,
          1,
          0,
          0.1111111111111111,
          0.2222222222222222,
          0.3333333333333333,
          0.4444444444444444,
          0.5555555555555556,
          0.6666666666666666,
          0.7777777777777777,
          0.8888888888888888,
          1,
          0,
          0.1111111111111111,
          0.2222222222222222,
          0.3333333333333333,
          0.4444444444444444,
          0.5555555555555556,
          0.6666666666666666,
          0.7777777777777777,
          0.8888888888888888,
          1,
          0,
          0.1111111111111111,
          0.2222222222222222,
          0.3333333333333333,
          0.4444444444444444,
          0.5555555555555556,
          0.6666666666666666,
          0.7777777777777777,
          0.8888888888888888,
          1,
          0,
          0.1111111111111111,
          0.2222222222222222,
          0.3333333333333333,
          0.4444444444444444,
          0.5555555555555556,
          0.6666666666666666,
          0.7777777777777777,
          0.8888888888888888,
          1,
          0,
          0.1111111111111111,
          0.2222222222222222,
          0.3333333333333333,
          0.4444444444444444,
          0.5555555555555556,
          0.6666666666666666,
          0.7777777777777777,
          0.8888888888888888,
          1,
          0,
          0.1111111111111111,
          0.2222222222222222,
          0.3333333333333333,
          0.4444444444444444,
          0.5555555555555556,
          0.6666666666666666,
          0.7777777777777777,
          0.8888888888888888,
          1
         ],
         "z": [
          0.4797147284458669,
          0.3622006458619112,
          0.3447100855195473,
          0.3834827564380787,
          0.4539034949408637,
          0.5421262714597914,
          0.6403626943627994,
          0.7442317933568524,
          0.8512692726521184,
          0.9163389658668166,
          0.4457865239352081,
          0.32527752816067185,
          0.3237085872733599,
          0.3800023757906436,
          0.46444560023448733,
          0.5625831448588198,
          0.667382791192579,
          0.7754234599795731,
          0.885040842392465,
          0.9440739233260641,
          0.4046031099968846,
          0.2940362534907283,
          0.31014252133729625,
          0.38053727104931745,
          0.47419851298939003,
          0.5778311087414846,
          0.6857371418415887,
          0.7954746480908396,
          0.9059970714040105,
          0.9597130306017188,
          0.36754967129427524,
          0.27102375118125904,
          0.3026142971427043,
          0.3832707237284116,
          0.4827183386383042,
          0.5893625788638424,
          0.698762973465585,
          0.8092189165518316,
          0.9200791122491648,
          0.9693920004358504,
          0.33555876938164053,
          0.25418914666629433,
          0.29867231145286255,
          0.38671990268240114,
          0.4898474876806602,
          0.598195070521938,
          0.7083495756934912,
          0.8191295539793708,
          0.9301260421894403,
          0.9758128607578832,
          0.30815142971301573,
          0.24175542224855467,
          0.2968116538094851,
          0.3902212240100128,
          0.4957423748335712,
          0.6050882353275605,
          0.71564189887537,
          0.8265769739138594,
          0.937632494686248,
          0.9803049983219732,
          0.2846046769321857,
          0.2324479528011005,
          0.29615872464834814,
          0.3935084469409183,
          0.500624316136969,
          0.6105755183049981,
          0.7213498816584403,
          0.8323632272915183,
          0.943445954876749,
          0.9835810836738949,
          0.2642456642705986,
          0.22538606569127193,
          0.2962065383780863,
          0.3964932988677446,
          0.50469637548354,
          0.6150262235959095,
          0.72592744315512,
          0.8369821654910935,
          0.9480781273790334,
          0.9860508401913821,
          0.24651271004784553,
          0.2199615108452947,
          0.29665704437799034,
          0.3991642610944976,
          0.5081243986069577,
          0.6186977663184061,
          0.7296744415796015,
          0.8407519437282336,
          0.951854652598725,
          0.9879636631496813
         ]
        }
       ],
       "layout": {
        "coloraxis": {
         "colorbar": {
          "title": {
           "text": "color"
          }
         },
         "colorscale": [
          [
           0,
           "#0d0887"
          ],
          [
           0.1111111111111111,
           "#46039f"
          ],
          [
           0.2222222222222222,
           "#7201a8"
          ],
          [
           0.3333333333333333,
           "#9c179e"
          ],
          [
           0.4444444444444444,
           "#bd3786"
          ],
          [
           0.5555555555555556,
           "#d8576b"
          ],
          [
           0.6666666666666666,
           "#ed7953"
          ],
          [
           0.7777777777777778,
           "#fb9f3a"
          ],
          [
           0.8888888888888888,
           "#fdca26"
          ],
          [
           1,
           "#f0f921"
          ]
         ]
        },
        "legend": {
         "tracegroupgap": 0
        },
        "scene": {
         "domain": {
          "x": [
           0,
           1
          ],
          "y": [
           0,
           1
          ]
         },
         "xaxis": {
          "title": {
           "text": "Weight of Parent Node"
          }
         },
         "yaxis": {
          "title": {
           "text": "Probability of Correct Answer"
          }
         },
         "zaxis": {
          "title": {
           "text": "Final Probability"
          }
         }
        },
        "template": {
         "data": {
          "bar": [
           {
            "error_x": {
             "color": "#2a3f5f"
            },
            "error_y": {
             "color": "#2a3f5f"
            },
            "marker": {
             "line": {
              "color": "#E5ECF6",
              "width": 0.5
             },
             "pattern": {
              "fillmode": "overlay",
              "size": 10,
              "solidity": 0.2
             }
            },
            "type": "bar"
           }
          ],
          "barpolar": [
           {
            "marker": {
             "line": {
              "color": "#E5ECF6",
              "width": 0.5
             },
             "pattern": {
              "fillmode": "overlay",
              "size": 10,
              "solidity": 0.2
             }
            },
            "type": "barpolar"
           }
          ],
          "carpet": [
           {
            "aaxis": {
             "endlinecolor": "#2a3f5f",
             "gridcolor": "white",
             "linecolor": "white",
             "minorgridcolor": "white",
             "startlinecolor": "#2a3f5f"
            },
            "baxis": {
             "endlinecolor": "#2a3f5f",
             "gridcolor": "white",
             "linecolor": "white",
             "minorgridcolor": "white",
             "startlinecolor": "#2a3f5f"
            },
            "type": "carpet"
           }
          ],
          "choropleth": [
           {
            "colorbar": {
             "outlinewidth": 0,
             "ticks": ""
            },
            "type": "choropleth"
           }
          ],
          "contour": [
           {
            "colorbar": {
             "outlinewidth": 0,
             "ticks": ""
            },
            "colorscale": [
             [
              0,
              "#0d0887"
             ],
             [
              0.1111111111111111,
              "#46039f"
             ],
             [
              0.2222222222222222,
              "#7201a8"
             ],
             [
              0.3333333333333333,
              "#9c179e"
             ],
             [
              0.4444444444444444,
              "#bd3786"
             ],
             [
              0.5555555555555556,
              "#d8576b"
             ],
             [
              0.6666666666666666,
              "#ed7953"
             ],
             [
              0.7777777777777778,
              "#fb9f3a"
             ],
             [
              0.8888888888888888,
              "#fdca26"
             ],
             [
              1,
              "#f0f921"
             ]
            ],
            "type": "contour"
           }
          ],
          "contourcarpet": [
           {
            "colorbar": {
             "outlinewidth": 0,
             "ticks": ""
            },
            "type": "contourcarpet"
           }
          ],
          "heatmap": [
           {
            "colorbar": {
             "outlinewidth": 0,
             "ticks": ""
            },
            "colorscale": [
             [
              0,
              "#0d0887"
             ],
             [
              0.1111111111111111,
              "#46039f"
             ],
             [
              0.2222222222222222,
              "#7201a8"
             ],
             [
              0.3333333333333333,
              "#9c179e"
             ],
             [
              0.4444444444444444,
              "#bd3786"
             ],
             [
              0.5555555555555556,
              "#d8576b"
             ],
             [
              0.6666666666666666,
              "#ed7953"
             ],
             [
              0.7777777777777778,
              "#fb9f3a"
             ],
             [
              0.8888888888888888,
              "#fdca26"
             ],
             [
              1,
              "#f0f921"
             ]
            ],
            "type": "heatmap"
           }
          ],
          "heatmapgl": [
           {
            "colorbar": {
             "outlinewidth": 0,
             "ticks": ""
            },
            "colorscale": [
             [
              0,
              "#0d0887"
             ],
             [
              0.1111111111111111,
              "#46039f"
             ],
             [
              0.2222222222222222,
              "#7201a8"
             ],
             [
              0.3333333333333333,
              "#9c179e"
             ],
             [
              0.4444444444444444,
              "#bd3786"
             ],
             [
              0.5555555555555556,
              "#d8576b"
             ],
             [
              0.6666666666666666,
              "#ed7953"
             ],
             [
              0.7777777777777778,
              "#fb9f3a"
             ],
             [
              0.8888888888888888,
              "#fdca26"
             ],
             [
              1,
              "#f0f921"
             ]
            ],
            "type": "heatmapgl"
           }
          ],
          "histogram": [
           {
            "marker": {
             "pattern": {
              "fillmode": "overlay",
              "size": 10,
              "solidity": 0.2
             }
            },
            "type": "histogram"
           }
          ],
          "histogram2d": [
           {
            "colorbar": {
             "outlinewidth": 0,
             "ticks": ""
            },
            "colorscale": [
             [
              0,
              "#0d0887"
             ],
             [
              0.1111111111111111,
              "#46039f"
             ],
             [
              0.2222222222222222,
              "#7201a8"
             ],
             [
              0.3333333333333333,
              "#9c179e"
             ],
             [
              0.4444444444444444,
              "#bd3786"
             ],
             [
              0.5555555555555556,
              "#d8576b"
             ],
             [
              0.6666666666666666,
              "#ed7953"
             ],
             [
              0.7777777777777778,
              "#fb9f3a"
             ],
             [
              0.8888888888888888,
              "#fdca26"
             ],
             [
              1,
              "#f0f921"
             ]
            ],
            "type": "histogram2d"
           }
          ],
          "histogram2dcontour": [
           {
            "colorbar": {
             "outlinewidth": 0,
             "ticks": ""
            },
            "colorscale": [
             [
              0,
              "#0d0887"
             ],
             [
              0.1111111111111111,
              "#46039f"
             ],
             [
              0.2222222222222222,
              "#7201a8"
             ],
             [
              0.3333333333333333,
              "#9c179e"
             ],
             [
              0.4444444444444444,
              "#bd3786"
             ],
             [
              0.5555555555555556,
              "#d8576b"
             ],
             [
              0.6666666666666666,
              "#ed7953"
             ],
             [
              0.7777777777777778,
              "#fb9f3a"
             ],
             [
              0.8888888888888888,
              "#fdca26"
             ],
             [
              1,
              "#f0f921"
             ]
            ],
            "type": "histogram2dcontour"
           }
          ],
          "mesh3d": [
           {
            "colorbar": {
             "outlinewidth": 0,
             "ticks": ""
            },
            "type": "mesh3d"
           }
          ],
          "parcoords": [
           {
            "line": {
             "colorbar": {
              "outlinewidth": 0,
              "ticks": ""
             }
            },
            "type": "parcoords"
           }
          ],
          "pie": [
           {
            "automargin": true,
            "type": "pie"
           }
          ],
          "scatter": [
           {
            "fillpattern": {
             "fillmode": "overlay",
             "size": 10,
             "solidity": 0.2
            },
            "type": "scatter"
           }
          ],
          "scatter3d": [
           {
            "line": {
             "colorbar": {
              "outlinewidth": 0,
              "ticks": ""
             }
            },
            "marker": {
             "colorbar": {
              "outlinewidth": 0,
              "ticks": ""
             }
            },
            "type": "scatter3d"
           }
          ],
          "scattercarpet": [
           {
            "marker": {
             "colorbar": {
              "outlinewidth": 0,
              "ticks": ""
             }
            },
            "type": "scattercarpet"
           }
          ],
          "scattergeo": [
           {
            "marker": {
             "colorbar": {
              "outlinewidth": 0,
              "ticks": ""
             }
            },
            "type": "scattergeo"
           }
          ],
          "scattergl": [
           {
            "marker": {
             "colorbar": {
              "outlinewidth": 0,
              "ticks": ""
             }
            },
            "type": "scattergl"
           }
          ],
          "scattermapbox": [
           {
            "marker": {
             "colorbar": {
              "outlinewidth": 0,
              "ticks": ""
             }
            },
            "type": "scattermapbox"
           }
          ],
          "scatterpolar": [
           {
            "marker": {
             "colorbar": {
              "outlinewidth": 0,
              "ticks": ""
             }
            },
            "type": "scatterpolar"
           }
          ],
          "scatterpolargl": [
           {
            "marker": {
             "colorbar": {
              "outlinewidth": 0,
              "ticks": ""
             }
            },
            "type": "scatterpolargl"
           }
          ],
          "scatterternary": [
           {
            "marker": {
             "colorbar": {
              "outlinewidth": 0,
              "ticks": ""
             }
            },
            "type": "scatterternary"
           }
          ],
          "surface": [
           {
            "colorbar": {
             "outlinewidth": 0,
             "ticks": ""
            },
            "colorscale": [
             [
              0,
              "#0d0887"
             ],
             [
              0.1111111111111111,
              "#46039f"
             ],
             [
              0.2222222222222222,
              "#7201a8"
             ],
             [
              0.3333333333333333,
              "#9c179e"
             ],
             [
              0.4444444444444444,
              "#bd3786"
             ],
             [
              0.5555555555555556,
              "#d8576b"
             ],
             [
              0.6666666666666666,
              "#ed7953"
             ],
             [
              0.7777777777777778,
              "#fb9f3a"
             ],
             [
              0.8888888888888888,
              "#fdca26"
             ],
             [
              1,
              "#f0f921"
             ]
            ],
            "type": "surface"
           }
          ],
          "table": [
           {
            "cells": {
             "fill": {
              "color": "#EBF0F8"
             },
             "line": {
              "color": "white"
             }
            },
            "header": {
             "fill": {
              "color": "#C8D4E3"
             },
             "line": {
              "color": "white"
             }
            },
            "type": "table"
           }
          ]
         },
         "layout": {
          "annotationdefaults": {
           "arrowcolor": "#2a3f5f",
           "arrowhead": 0,
           "arrowwidth": 1
          },
          "autotypenumbers": "strict",
          "coloraxis": {
           "colorbar": {
            "outlinewidth": 0,
            "ticks": ""
           }
          },
          "colorscale": {
           "diverging": [
            [
             0,
             "#8e0152"
            ],
            [
             0.1,
             "#c51b7d"
            ],
            [
             0.2,
             "#de77ae"
            ],
            [
             0.3,
             "#f1b6da"
            ],
            [
             0.4,
             "#fde0ef"
            ],
            [
             0.5,
             "#f7f7f7"
            ],
            [
             0.6,
             "#e6f5d0"
            ],
            [
             0.7,
             "#b8e186"
            ],
            [
             0.8,
             "#7fbc41"
            ],
            [
             0.9,
             "#4d9221"
            ],
            [
             1,
             "#276419"
            ]
           ],
           "sequential": [
            [
             0,
             "#0d0887"
            ],
            [
             0.1111111111111111,
             "#46039f"
            ],
            [
             0.2222222222222222,
             "#7201a8"
            ],
            [
             0.3333333333333333,
             "#9c179e"
            ],
            [
             0.4444444444444444,
             "#bd3786"
            ],
            [
             0.5555555555555556,
             "#d8576b"
            ],
            [
             0.6666666666666666,
             "#ed7953"
            ],
            [
             0.7777777777777778,
             "#fb9f3a"
            ],
            [
             0.8888888888888888,
             "#fdca26"
            ],
            [
             1,
             "#f0f921"
            ]
           ],
           "sequentialminus": [
            [
             0,
             "#0d0887"
            ],
            [
             0.1111111111111111,
             "#46039f"
            ],
            [
             0.2222222222222222,
             "#7201a8"
            ],
            [
             0.3333333333333333,
             "#9c179e"
            ],
            [
             0.4444444444444444,
             "#bd3786"
            ],
            [
             0.5555555555555556,
             "#d8576b"
            ],
            [
             0.6666666666666666,
             "#ed7953"
            ],
            [
             0.7777777777777778,
             "#fb9f3a"
            ],
            [
             0.8888888888888888,
             "#fdca26"
            ],
            [
             1,
             "#f0f921"
            ]
           ]
          },
          "colorway": [
           "#636efa",
           "#EF553B",
           "#00cc96",
           "#ab63fa",
           "#FFA15A",
           "#19d3f3",
           "#FF6692",
           "#B6E880",
           "#FF97FF",
           "#FECB52"
          ],
          "font": {
           "color": "#2a3f5f"
          },
          "geo": {
           "bgcolor": "white",
           "lakecolor": "white",
           "landcolor": "#E5ECF6",
           "showlakes": true,
           "showland": true,
           "subunitcolor": "white"
          },
          "hoverlabel": {
           "align": "left"
          },
          "hovermode": "closest",
          "mapbox": {
           "style": "light"
          },
          "paper_bgcolor": "white",
          "plot_bgcolor": "#E5ECF6",
          "polar": {
           "angularaxis": {
            "gridcolor": "white",
            "linecolor": "white",
            "ticks": ""
           },
           "bgcolor": "#E5ECF6",
           "radialaxis": {
            "gridcolor": "white",
            "linecolor": "white",
            "ticks": ""
           }
          },
          "scene": {
           "xaxis": {
            "backgroundcolor": "#E5ECF6",
            "gridcolor": "white",
            "gridwidth": 2,
            "linecolor": "white",
            "showbackground": true,
            "ticks": "",
            "zerolinecolor": "white"
           },
           "yaxis": {
            "backgroundcolor": "#E5ECF6",
            "gridcolor": "white",
            "gridwidth": 2,
            "linecolor": "white",
            "showbackground": true,
            "ticks": "",
            "zerolinecolor": "white"
           },
           "zaxis": {
            "backgroundcolor": "#E5ECF6",
            "gridcolor": "white",
            "gridwidth": 2,
            "linecolor": "white",
            "showbackground": true,
            "ticks": "",
            "zerolinecolor": "white"
           }
          },
          "shapedefaults": {
           "line": {
            "color": "#2a3f5f"
           }
          },
          "ternary": {
           "aaxis": {
            "gridcolor": "white",
            "linecolor": "white",
            "ticks": ""
           },
           "baxis": {
            "gridcolor": "white",
            "linecolor": "white",
            "ticks": ""
           },
           "bgcolor": "#E5ECF6",
           "caxis": {
            "gridcolor": "white",
            "linecolor": "white",
            "ticks": ""
           }
          },
          "title": {
           "x": 0.05
          },
          "xaxis": {
           "automargin": true,
           "gridcolor": "white",
           "linecolor": "white",
           "ticks": "",
           "title": {
            "standoff": 15
           },
           "zerolinecolor": "white",
           "zerolinewidth": 2
          },
          "yaxis": {
           "automargin": true,
           "gridcolor": "white",
           "linecolor": "white",
           "ticks": "",
           "title": {
            "standoff": 15
           },
           "zerolinecolor": "white",
           "zerolinewidth": 2
          }
         }
        },
        "title": {
         "text": "3D Scatter Plot for Introduction to Programming (Parent of Basic Syntax)"
        }
       }
      }
     },
     "metadata": {},
     "output_type": "display_data"
    },
    {
     "data": {
      "application/vnd.plotly.v1+json": {
       "config": {
        "plotlyServerURL": "https://plot.ly"
       },
       "data": [
        {
         "hovertemplate": "Weight of Parent Node=%{x}<br>Probability of Correct Answer=%{y}<br>Final Probability=%{z}<br>color=%{marker.color}<extra></extra>",
         "legendgroup": "",
         "marker": {
          "color": [
           0.4928720215414317,
           0.39147662322816645,
           0.3830528227880659,
           0.4269255461516204,
           0.5002150641547309,
           0.5900515291425917,
           0.6891956518093746,
           0.793575331920551,
           0.88388612420531,
           0.9346859448654868,
           0.45471208128591256,
           0.3552953668718254,
           0.3639875358355427,
           0.42527321563170556,
           0.5121449277247337,
           0.6114638987729937,
           0.7168382930967718,
           0.8251585690140453,
           0.9149420065473735,
           0.9586204356176412,
           0.41083732955041763,
           0.32527949044224247,
           0.3521039086022309,
           0.42709215130571804,
           0.522722033099276,
           0.6271983316457215,
           0.7354659516576901,
           0.8453584237263116,
           0.9337250387398478,
           0.9715964451742204,
           0.37210076623693544,
           0.30361778754227786,
           0.34594818340862654,
           0.4307177440004669,
           0.531740601721219,
           0.6389881264275118,
           0.7486195661495435,
           0.8591639946010071,
           0.9460628064429388,
           0.9793432024675086,
           0.33900341623875296,
           0.2880738321168333,
           0.34309393333958754,
           0.43478892564319055,
           0.5391790725517027,
           0.6479636960542219,
           0.7582694845315896,
           0.8691018301156357,
           0.9546890950400279,
           0.9843154559753943,
           0.31083645978170343,
           0.27681385279656134,
           0.34209326345622404,
           0.4387312060037198,
           0.545271842831584,
           0.6549396462743015,
           0.7655949760164461,
           0.8765621561689361,
           0.9610196282638747,
           0.987690408925434,
           0.28674882839770666,
           0.2685543193556066,
           0.3421250891319144,
           0.4423373914684053,
           0.5502843322901105,
           0.6604768133172005,
           0.7713212253716605,
           0.8823549077243888,
           0.9658449732103065,
           0.9900840244804117,
           0.2659927229947375,
           0.26242258893059284,
           0.34272381327820245,
           0.44555764137822357,
           0.5544450048147135,
           0.6649586911774189,
           0.7759093001173164,
           0.8869772912421314,
           0.9696356901844533,
           0.9918424242286591,
           0.24796060605716477,
           0.2578234848476246,
           0.34362253787857283,
           0.4484056344696432,
           0.5579347419507441,
           0.6686503521543528,
           0.7796625880385882,
           0.8907489803429803,
           0.9726872450857451,
           0.9931718112714363
          ],
          "coloraxis": "coloraxis",
          "symbol": "circle"
         },
         "mode": "markers",
         "name": "",
         "scene": "scene",
         "showlegend": false,
         "type": "scatter3d",
         "x": [
          0.7777777777777778,
          0.7777777777777778,
          0.7777777777777778,
          0.7777777777777778,
          0.7777777777777778,
          0.7777777777777778,
          0.7777777777777778,
          0.7777777777777778,
          0.7777777777777778,
          0.7777777777777778,
          1.0555555555555556,
          1.0555555555555556,
          1.0555555555555556,
          1.0555555555555556,
          1.0555555555555556,
          1.0555555555555556,
          1.0555555555555556,
          1.0555555555555556,
          1.0555555555555556,
          1.0555555555555556,
          1.3333333333333335,
          1.3333333333333335,
          1.3333333333333335,
          1.3333333333333335,
          1.3333333333333335,
          1.3333333333333335,
          1.3333333333333335,
          1.3333333333333335,
          1.3333333333333335,
          1.3333333333333335,
          1.6111111111111112,
          1.6111111111111112,
          1.6111111111111112,
          1.6111111111111112,
          1.6111111111111112,
          1.6111111111111112,
          1.6111111111111112,
          1.6111111111111112,
          1.6111111111111112,
          1.6111111111111112,
          1.8888888888888888,
          1.8888888888888888,
          1.8888888888888888,
          1.8888888888888888,
          1.8888888888888888,
          1.8888888888888888,
          1.8888888888888888,
          1.8888888888888888,
          1.8888888888888888,
          1.8888888888888888,
          2.166666666666667,
          2.166666666666667,
          2.166666666666667,
          2.166666666666667,
          2.166666666666667,
          2.166666666666667,
          2.166666666666667,
          2.166666666666667,
          2.166666666666667,
          2.166666666666667,
          2.4444444444444446,
          2.4444444444444446,
          2.4444444444444446,
          2.4444444444444446,
          2.4444444444444446,
          2.4444444444444446,
          2.4444444444444446,
          2.4444444444444446,
          2.4444444444444446,
          2.4444444444444446,
          2.7222222222222223,
          2.7222222222222223,
          2.7222222222222223,
          2.7222222222222223,
          2.7222222222222223,
          2.7222222222222223,
          2.7222222222222223,
          2.7222222222222223,
          2.7222222222222223,
          2.7222222222222223,
          3,
          3,
          3,
          3,
          3,
          3,
          3,
          3,
          3,
          3
         ],
         "y": [
          0,
          0.1111111111111111,
          0.2222222222222222,
          0.3333333333333333,
          0.4444444444444444,
          0.5555555555555556,
          0.6666666666666666,
          0.7777777777777777,
          0.8888888888888888,
          1,
          0,
          0.1111111111111111,
          0.2222222222222222,
          0.3333333333333333,
          0.4444444444444444,
          0.5555555555555556,
          0.6666666666666666,
          0.7777777777777777,
          0.8888888888888888,
          1,
          0,
          0.1111111111111111,
          0.2222222222222222,
          0.3333333333333333,
          0.4444444444444444,
          0.5555555555555556,
          0.6666666666666666,
          0.7777777777777777,
          0.8888888888888888,
          1,
          0,
          0.1111111111111111,
          0.2222222222222222,
          0.3333333333333333,
          0.4444444444444444,
          0.5555555555555556,
          0.6666666666666666,
          0.7777777777777777,
          0.8888888888888888,
          1,
          0,
          0.1111111111111111,
          0.2222222222222222,
          0.3333333333333333,
          0.4444444444444444,
          0.5555555555555556,
          0.6666666666666666,
          0.7777777777777777,
          0.8888888888888888,
          1,
          0,
          0.1111111111111111,
          0.2222222222222222,
          0.3333333333333333,
          0.4444444444444444,
          0.5555555555555556,
          0.6666666666666666,
          0.7777777777777777,
          0.8888888888888888,
          1,
          0,
          0.1111111111111111,
          0.2222222222222222,
          0.3333333333333333,
          0.4444444444444444,
          0.5555555555555556,
          0.6666666666666666,
          0.7777777777777777,
          0.8888888888888888,
          1,
          0,
          0.1111111111111111,
          0.2222222222222222,
          0.3333333333333333,
          0.4444444444444444,
          0.5555555555555556,
          0.6666666666666666,
          0.7777777777777777,
          0.8888888888888888,
          1,
          0,
          0.1111111111111111,
          0.2222222222222222,
          0.3333333333333333,
          0.4444444444444444,
          0.5555555555555556,
          0.6666666666666666,
          0.7777777777777777,
          0.8888888888888888,
          1
         ],
         "z": [
          0.4928720215414317,
          0.39147662322816645,
          0.3830528227880659,
          0.4269255461516204,
          0.5002150641547309,
          0.5900515291425917,
          0.6891956518093746,
          0.793575331920551,
          0.88388612420531,
          0.9346859448654868,
          0.45471208128591256,
          0.3552953668718254,
          0.3639875358355427,
          0.42527321563170556,
          0.5121449277247337,
          0.6114638987729937,
          0.7168382930967718,
          0.8251585690140453,
          0.9149420065473735,
          0.9586204356176412,
          0.41083732955041763,
          0.32527949044224247,
          0.3521039086022309,
          0.42709215130571804,
          0.522722033099276,
          0.6271983316457215,
          0.7354659516576901,
          0.8453584237263116,
          0.9337250387398478,
          0.9715964451742204,
          0.37210076623693544,
          0.30361778754227786,
          0.34594818340862654,
          0.4307177440004669,
          0.531740601721219,
          0.6389881264275118,
          0.7486195661495435,
          0.8591639946010071,
          0.9460628064429388,
          0.9793432024675086,
          0.33900341623875296,
          0.2880738321168333,
          0.34309393333958754,
          0.43478892564319055,
          0.5391790725517027,
          0.6479636960542219,
          0.7582694845315896,
          0.8691018301156357,
          0.9546890950400279,
          0.9843154559753943,
          0.31083645978170343,
          0.27681385279656134,
          0.34209326345622404,
          0.4387312060037198,
          0.545271842831584,
          0.6549396462743015,
          0.7655949760164461,
          0.8765621561689361,
          0.9610196282638747,
          0.987690408925434,
          0.28674882839770666,
          0.2685543193556066,
          0.3421250891319144,
          0.4423373914684053,
          0.5502843322901105,
          0.6604768133172005,
          0.7713212253716605,
          0.8823549077243888,
          0.9658449732103065,
          0.9900840244804117,
          0.2659927229947375,
          0.26242258893059284,
          0.34272381327820245,
          0.44555764137822357,
          0.5544450048147135,
          0.6649586911774189,
          0.7759093001173164,
          0.8869772912421314,
          0.9696356901844533,
          0.9918424242286591,
          0.24796060605716477,
          0.2578234848476246,
          0.34362253787857283,
          0.4484056344696432,
          0.5579347419507441,
          0.6686503521543528,
          0.7796625880385882,
          0.8907489803429803,
          0.9726872450857451,
          0.9931718112714363
         ]
        }
       ],
       "layout": {
        "coloraxis": {
         "colorbar": {
          "title": {
           "text": "color"
          }
         },
         "colorscale": [
          [
           0,
           "#0d0887"
          ],
          [
           0.1111111111111111,
           "#46039f"
          ],
          [
           0.2222222222222222,
           "#7201a8"
          ],
          [
           0.3333333333333333,
           "#9c179e"
          ],
          [
           0.4444444444444444,
           "#bd3786"
          ],
          [
           0.5555555555555556,
           "#d8576b"
          ],
          [
           0.6666666666666666,
           "#ed7953"
          ],
          [
           0.7777777777777778,
           "#fb9f3a"
          ],
          [
           0.8888888888888888,
           "#fdca26"
          ],
          [
           1,
           "#f0f921"
          ]
         ]
        },
        "legend": {
         "tracegroupgap": 0
        },
        "scene": {
         "domain": {
          "x": [
           0,
           1
          ],
          "y": [
           0,
           1
          ]
         },
         "xaxis": {
          "title": {
           "text": "Weight of Parent Node"
          }
         },
         "yaxis": {
          "title": {
           "text": "Probability of Correct Answer"
          }
         },
         "zaxis": {
          "title": {
           "text": "Final Probability"
          }
         }
        },
        "template": {
         "data": {
          "bar": [
           {
            "error_x": {
             "color": "#2a3f5f"
            },
            "error_y": {
             "color": "#2a3f5f"
            },
            "marker": {
             "line": {
              "color": "#E5ECF6",
              "width": 0.5
             },
             "pattern": {
              "fillmode": "overlay",
              "size": 10,
              "solidity": 0.2
             }
            },
            "type": "bar"
           }
          ],
          "barpolar": [
           {
            "marker": {
             "line": {
              "color": "#E5ECF6",
              "width": 0.5
             },
             "pattern": {
              "fillmode": "overlay",
              "size": 10,
              "solidity": 0.2
             }
            },
            "type": "barpolar"
           }
          ],
          "carpet": [
           {
            "aaxis": {
             "endlinecolor": "#2a3f5f",
             "gridcolor": "white",
             "linecolor": "white",
             "minorgridcolor": "white",
             "startlinecolor": "#2a3f5f"
            },
            "baxis": {
             "endlinecolor": "#2a3f5f",
             "gridcolor": "white",
             "linecolor": "white",
             "minorgridcolor": "white",
             "startlinecolor": "#2a3f5f"
            },
            "type": "carpet"
           }
          ],
          "choropleth": [
           {
            "colorbar": {
             "outlinewidth": 0,
             "ticks": ""
            },
            "type": "choropleth"
           }
          ],
          "contour": [
           {
            "colorbar": {
             "outlinewidth": 0,
             "ticks": ""
            },
            "colorscale": [
             [
              0,
              "#0d0887"
             ],
             [
              0.1111111111111111,
              "#46039f"
             ],
             [
              0.2222222222222222,
              "#7201a8"
             ],
             [
              0.3333333333333333,
              "#9c179e"
             ],
             [
              0.4444444444444444,
              "#bd3786"
             ],
             [
              0.5555555555555556,
              "#d8576b"
             ],
             [
              0.6666666666666666,
              "#ed7953"
             ],
             [
              0.7777777777777778,
              "#fb9f3a"
             ],
             [
              0.8888888888888888,
              "#fdca26"
             ],
             [
              1,
              "#f0f921"
             ]
            ],
            "type": "contour"
           }
          ],
          "contourcarpet": [
           {
            "colorbar": {
             "outlinewidth": 0,
             "ticks": ""
            },
            "type": "contourcarpet"
           }
          ],
          "heatmap": [
           {
            "colorbar": {
             "outlinewidth": 0,
             "ticks": ""
            },
            "colorscale": [
             [
              0,
              "#0d0887"
             ],
             [
              0.1111111111111111,
              "#46039f"
             ],
             [
              0.2222222222222222,
              "#7201a8"
             ],
             [
              0.3333333333333333,
              "#9c179e"
             ],
             [
              0.4444444444444444,
              "#bd3786"
             ],
             [
              0.5555555555555556,
              "#d8576b"
             ],
             [
              0.6666666666666666,
              "#ed7953"
             ],
             [
              0.7777777777777778,
              "#fb9f3a"
             ],
             [
              0.8888888888888888,
              "#fdca26"
             ],
             [
              1,
              "#f0f921"
             ]
            ],
            "type": "heatmap"
           }
          ],
          "heatmapgl": [
           {
            "colorbar": {
             "outlinewidth": 0,
             "ticks": ""
            },
            "colorscale": [
             [
              0,
              "#0d0887"
             ],
             [
              0.1111111111111111,
              "#46039f"
             ],
             [
              0.2222222222222222,
              "#7201a8"
             ],
             [
              0.3333333333333333,
              "#9c179e"
             ],
             [
              0.4444444444444444,
              "#bd3786"
             ],
             [
              0.5555555555555556,
              "#d8576b"
             ],
             [
              0.6666666666666666,
              "#ed7953"
             ],
             [
              0.7777777777777778,
              "#fb9f3a"
             ],
             [
              0.8888888888888888,
              "#fdca26"
             ],
             [
              1,
              "#f0f921"
             ]
            ],
            "type": "heatmapgl"
           }
          ],
          "histogram": [
           {
            "marker": {
             "pattern": {
              "fillmode": "overlay",
              "size": 10,
              "solidity": 0.2
             }
            },
            "type": "histogram"
           }
          ],
          "histogram2d": [
           {
            "colorbar": {
             "outlinewidth": 0,
             "ticks": ""
            },
            "colorscale": [
             [
              0,
              "#0d0887"
             ],
             [
              0.1111111111111111,
              "#46039f"
             ],
             [
              0.2222222222222222,
              "#7201a8"
             ],
             [
              0.3333333333333333,
              "#9c179e"
             ],
             [
              0.4444444444444444,
              "#bd3786"
             ],
             [
              0.5555555555555556,
              "#d8576b"
             ],
             [
              0.6666666666666666,
              "#ed7953"
             ],
             [
              0.7777777777777778,
              "#fb9f3a"
             ],
             [
              0.8888888888888888,
              "#fdca26"
             ],
             [
              1,
              "#f0f921"
             ]
            ],
            "type": "histogram2d"
           }
          ],
          "histogram2dcontour": [
           {
            "colorbar": {
             "outlinewidth": 0,
             "ticks": ""
            },
            "colorscale": [
             [
              0,
              "#0d0887"
             ],
             [
              0.1111111111111111,
              "#46039f"
             ],
             [
              0.2222222222222222,
              "#7201a8"
             ],
             [
              0.3333333333333333,
              "#9c179e"
             ],
             [
              0.4444444444444444,
              "#bd3786"
             ],
             [
              0.5555555555555556,
              "#d8576b"
             ],
             [
              0.6666666666666666,
              "#ed7953"
             ],
             [
              0.7777777777777778,
              "#fb9f3a"
             ],
             [
              0.8888888888888888,
              "#fdca26"
             ],
             [
              1,
              "#f0f921"
             ]
            ],
            "type": "histogram2dcontour"
           }
          ],
          "mesh3d": [
           {
            "colorbar": {
             "outlinewidth": 0,
             "ticks": ""
            },
            "type": "mesh3d"
           }
          ],
          "parcoords": [
           {
            "line": {
             "colorbar": {
              "outlinewidth": 0,
              "ticks": ""
             }
            },
            "type": "parcoords"
           }
          ],
          "pie": [
           {
            "automargin": true,
            "type": "pie"
           }
          ],
          "scatter": [
           {
            "fillpattern": {
             "fillmode": "overlay",
             "size": 10,
             "solidity": 0.2
            },
            "type": "scatter"
           }
          ],
          "scatter3d": [
           {
            "line": {
             "colorbar": {
              "outlinewidth": 0,
              "ticks": ""
             }
            },
            "marker": {
             "colorbar": {
              "outlinewidth": 0,
              "ticks": ""
             }
            },
            "type": "scatter3d"
           }
          ],
          "scattercarpet": [
           {
            "marker": {
             "colorbar": {
              "outlinewidth": 0,
              "ticks": ""
             }
            },
            "type": "scattercarpet"
           }
          ],
          "scattergeo": [
           {
            "marker": {
             "colorbar": {
              "outlinewidth": 0,
              "ticks": ""
             }
            },
            "type": "scattergeo"
           }
          ],
          "scattergl": [
           {
            "marker": {
             "colorbar": {
              "outlinewidth": 0,
              "ticks": ""
             }
            },
            "type": "scattergl"
           }
          ],
          "scattermapbox": [
           {
            "marker": {
             "colorbar": {
              "outlinewidth": 0,
              "ticks": ""
             }
            },
            "type": "scattermapbox"
           }
          ],
          "scatterpolar": [
           {
            "marker": {
             "colorbar": {
              "outlinewidth": 0,
              "ticks": ""
             }
            },
            "type": "scatterpolar"
           }
          ],
          "scatterpolargl": [
           {
            "marker": {
             "colorbar": {
              "outlinewidth": 0,
              "ticks": ""
             }
            },
            "type": "scatterpolargl"
           }
          ],
          "scatterternary": [
           {
            "marker": {
             "colorbar": {
              "outlinewidth": 0,
              "ticks": ""
             }
            },
            "type": "scatterternary"
           }
          ],
          "surface": [
           {
            "colorbar": {
             "outlinewidth": 0,
             "ticks": ""
            },
            "colorscale": [
             [
              0,
              "#0d0887"
             ],
             [
              0.1111111111111111,
              "#46039f"
             ],
             [
              0.2222222222222222,
              "#7201a8"
             ],
             [
              0.3333333333333333,
              "#9c179e"
             ],
             [
              0.4444444444444444,
              "#bd3786"
             ],
             [
              0.5555555555555556,
              "#d8576b"
             ],
             [
              0.6666666666666666,
              "#ed7953"
             ],
             [
              0.7777777777777778,
              "#fb9f3a"
             ],
             [
              0.8888888888888888,
              "#fdca26"
             ],
             [
              1,
              "#f0f921"
             ]
            ],
            "type": "surface"
           }
          ],
          "table": [
           {
            "cells": {
             "fill": {
              "color": "#EBF0F8"
             },
             "line": {
              "color": "white"
             }
            },
            "header": {
             "fill": {
              "color": "#C8D4E3"
             },
             "line": {
              "color": "white"
             }
            },
            "type": "table"
           }
          ]
         },
         "layout": {
          "annotationdefaults": {
           "arrowcolor": "#2a3f5f",
           "arrowhead": 0,
           "arrowwidth": 1
          },
          "autotypenumbers": "strict",
          "coloraxis": {
           "colorbar": {
            "outlinewidth": 0,
            "ticks": ""
           }
          },
          "colorscale": {
           "diverging": [
            [
             0,
             "#8e0152"
            ],
            [
             0.1,
             "#c51b7d"
            ],
            [
             0.2,
             "#de77ae"
            ],
            [
             0.3,
             "#f1b6da"
            ],
            [
             0.4,
             "#fde0ef"
            ],
            [
             0.5,
             "#f7f7f7"
            ],
            [
             0.6,
             "#e6f5d0"
            ],
            [
             0.7,
             "#b8e186"
            ],
            [
             0.8,
             "#7fbc41"
            ],
            [
             0.9,
             "#4d9221"
            ],
            [
             1,
             "#276419"
            ]
           ],
           "sequential": [
            [
             0,
             "#0d0887"
            ],
            [
             0.1111111111111111,
             "#46039f"
            ],
            [
             0.2222222222222222,
             "#7201a8"
            ],
            [
             0.3333333333333333,
             "#9c179e"
            ],
            [
             0.4444444444444444,
             "#bd3786"
            ],
            [
             0.5555555555555556,
             "#d8576b"
            ],
            [
             0.6666666666666666,
             "#ed7953"
            ],
            [
             0.7777777777777778,
             "#fb9f3a"
            ],
            [
             0.8888888888888888,
             "#fdca26"
            ],
            [
             1,
             "#f0f921"
            ]
           ],
           "sequentialminus": [
            [
             0,
             "#0d0887"
            ],
            [
             0.1111111111111111,
             "#46039f"
            ],
            [
             0.2222222222222222,
             "#7201a8"
            ],
            [
             0.3333333333333333,
             "#9c179e"
            ],
            [
             0.4444444444444444,
             "#bd3786"
            ],
            [
             0.5555555555555556,
             "#d8576b"
            ],
            [
             0.6666666666666666,
             "#ed7953"
            ],
            [
             0.7777777777777778,
             "#fb9f3a"
            ],
            [
             0.8888888888888888,
             "#fdca26"
            ],
            [
             1,
             "#f0f921"
            ]
           ]
          },
          "colorway": [
           "#636efa",
           "#EF553B",
           "#00cc96",
           "#ab63fa",
           "#FFA15A",
           "#19d3f3",
           "#FF6692",
           "#B6E880",
           "#FF97FF",
           "#FECB52"
          ],
          "font": {
           "color": "#2a3f5f"
          },
          "geo": {
           "bgcolor": "white",
           "lakecolor": "white",
           "landcolor": "#E5ECF6",
           "showlakes": true,
           "showland": true,
           "subunitcolor": "white"
          },
          "hoverlabel": {
           "align": "left"
          },
          "hovermode": "closest",
          "mapbox": {
           "style": "light"
          },
          "paper_bgcolor": "white",
          "plot_bgcolor": "#E5ECF6",
          "polar": {
           "angularaxis": {
            "gridcolor": "white",
            "linecolor": "white",
            "ticks": ""
           },
           "bgcolor": "#E5ECF6",
           "radialaxis": {
            "gridcolor": "white",
            "linecolor": "white",
            "ticks": ""
           }
          },
          "scene": {
           "xaxis": {
            "backgroundcolor": "#E5ECF6",
            "gridcolor": "white",
            "gridwidth": 2,
            "linecolor": "white",
            "showbackground": true,
            "ticks": "",
            "zerolinecolor": "white"
           },
           "yaxis": {
            "backgroundcolor": "#E5ECF6",
            "gridcolor": "white",
            "gridwidth": 2,
            "linecolor": "white",
            "showbackground": true,
            "ticks": "",
            "zerolinecolor": "white"
           },
           "zaxis": {
            "backgroundcolor": "#E5ECF6",
            "gridcolor": "white",
            "gridwidth": 2,
            "linecolor": "white",
            "showbackground": true,
            "ticks": "",
            "zerolinecolor": "white"
           }
          },
          "shapedefaults": {
           "line": {
            "color": "#2a3f5f"
           }
          },
          "ternary": {
           "aaxis": {
            "gridcolor": "white",
            "linecolor": "white",
            "ticks": ""
           },
           "baxis": {
            "gridcolor": "white",
            "linecolor": "white",
            "ticks": ""
           },
           "bgcolor": "#E5ECF6",
           "caxis": {
            "gridcolor": "white",
            "linecolor": "white",
            "ticks": ""
           }
          },
          "title": {
           "x": 0.05
          },
          "xaxis": {
           "automargin": true,
           "gridcolor": "white",
           "linecolor": "white",
           "ticks": "",
           "title": {
            "standoff": 15
           },
           "zerolinecolor": "white",
           "zerolinewidth": 2
          },
          "yaxis": {
           "automargin": true,
           "gridcolor": "white",
           "linecolor": "white",
           "ticks": "",
           "title": {
            "standoff": 15
           },
           "zerolinecolor": "white",
           "zerolinewidth": 2
          }
         }
        },
        "title": {
         "text": "3D Scatter Plot for Basic Syntax (Parent of Data Types)"
        }
       }
      }
     },
     "metadata": {},
     "output_type": "display_data"
    },
    {
     "data": {
      "application/vnd.plotly.v1+json": {
       "config": {
        "plotlyServerURL": "https://plot.ly"
       },
       "data": [
        {
         "hovertemplate": "Weight of Parent Node=%{x}<br>Probability of Correct Answer=%{y}<br>Final Probability=%{z}<br>color=%{marker.color}<extra></extra>",
         "legendgroup": "",
         "marker": {
          "color": [
           0.3180817520195092,
           0.3085759334276406,
           0.3077862021363812,
           0.3118992699517144,
           0.3187701622645061,
           0.327192330857118,
           0.33648709235712887,
           0.3462726873675517,
           0.35473932414424786,
           0.35950180733113946,
           0.31450425762055434,
           0.3051839406442337,
           0.3059988314845822,
           0.3117443639654724,
           0.3198885869741938,
           0.3291997405099682,
           0.33907858997782236,
           0.3492336158450668,
           0.3576508131138163,
           0.3617456658391539,
           0.3103909996453516,
           0.30236995222896024,
           0.3048847414314591,
           0.311914889184911,
           0.32088019060305717,
           0.3306748435917864,
           0.3408249329679084,
           0.3511273522243417,
           0.3594117223818607,
           0.36296216673508314,
           0.3067594468347127,
           0.30033916758208856,
           0.30430764219455875,
           0.31225478850004373,
           0.32172568141136426,
           0.3317801368525792,
           0.3420580843265197,
           0.35242162449384445,
           0.3605683881040255,
           0.3636884252313289,
           0.303656570272383,
           0.29888192176095313,
           0.30404005625058633,
           0.31263646177904914,
           0.3224230380517222,
           0.33262159650508333,
           0.34296276417483645,
           0.35335329657334086,
           0.3613771026600026,
           0.3641545739976932,
           0.3010159181045347,
           0.2978262986996777,
           0.303946243449021,
           0.3130060505628487,
           0.322994235265461,
           0.33327559183821576,
           0.3436495290015418,
           0.3540527021408378,
           0.3619705901497382,
           0.36447097583675936,
           0.2987577026622849,
           0.2970519674395881,
           0.30394922710611694,
           0.31334413045016296,
           0.3234641561521978,
           0.33379470124848754,
           0.34418636487859317,
           0.35459577259916153,
           0.36242296623846626,
           0.3646953772950386,
           0.29681181778075666,
           0.29647711771224305,
           0.3040053574948315,
           0.3136460288792084,
           0.3238542192013794,
           0.334214877297883,
           0.3446164968859984,
           0.35502912105394985,
           0.36277834595479247,
           0.36486022727143674,
           0.2951213068178592,
           0.2960459517044648,
           0.3040896129261162,
           0.313913028231529,
           0.3241813820578823,
           0.3345609705144706,
           0.3449683676286176,
           0.3553827169071544,
           0.36306442922678855,
           0.3649848573066971
          ],
          "coloraxis": "coloraxis",
          "symbol": "circle"
         },
         "mode": "markers",
         "name": "",
         "scene": "scene",
         "showlegend": false,
         "type": "scatter3d",
         "x": [
          0.7777777777777778,
          0.7777777777777778,
          0.7777777777777778,
          0.7777777777777778,
          0.7777777777777778,
          0.7777777777777778,
          0.7777777777777778,
          0.7777777777777778,
          0.7777777777777778,
          0.7777777777777778,
          1.0555555555555556,
          1.0555555555555556,
          1.0555555555555556,
          1.0555555555555556,
          1.0555555555555556,
          1.0555555555555556,
          1.0555555555555556,
          1.0555555555555556,
          1.0555555555555556,
          1.0555555555555556,
          1.3333333333333335,
          1.3333333333333335,
          1.3333333333333335,
          1.3333333333333335,
          1.3333333333333335,
          1.3333333333333335,
          1.3333333333333335,
          1.3333333333333335,
          1.3333333333333335,
          1.3333333333333335,
          1.6111111111111112,
          1.6111111111111112,
          1.6111111111111112,
          1.6111111111111112,
          1.6111111111111112,
          1.6111111111111112,
          1.6111111111111112,
          1.6111111111111112,
          1.6111111111111112,
          1.6111111111111112,
          1.8888888888888888,
          1.8888888888888888,
          1.8888888888888888,
          1.8888888888888888,
          1.8888888888888888,
          1.8888888888888888,
          1.8888888888888888,
          1.8888888888888888,
          1.8888888888888888,
          1.8888888888888888,
          2.166666666666667,
          2.166666666666667,
          2.166666666666667,
          2.166666666666667,
          2.166666666666667,
          2.166666666666667,
          2.166666666666667,
          2.166666666666667,
          2.166666666666667,
          2.166666666666667,
          2.4444444444444446,
          2.4444444444444446,
          2.4444444444444446,
          2.4444444444444446,
          2.4444444444444446,
          2.4444444444444446,
          2.4444444444444446,
          2.4444444444444446,
          2.4444444444444446,
          2.4444444444444446,
          2.7222222222222223,
          2.7222222222222223,
          2.7222222222222223,
          2.7222222222222223,
          2.7222222222222223,
          2.7222222222222223,
          2.7222222222222223,
          2.7222222222222223,
          2.7222222222222223,
          2.7222222222222223,
          3,
          3,
          3,
          3,
          3,
          3,
          3,
          3,
          3,
          3
         ],
         "y": [
          0,
          0.1111111111111111,
          0.2222222222222222,
          0.3333333333333333,
          0.4444444444444444,
          0.5555555555555556,
          0.6666666666666666,
          0.7777777777777777,
          0.8888888888888888,
          1,
          0,
          0.1111111111111111,
          0.2222222222222222,
          0.3333333333333333,
          0.4444444444444444,
          0.5555555555555556,
          0.6666666666666666,
          0.7777777777777777,
          0.8888888888888888,
          1,
          0,
          0.1111111111111111,
          0.2222222222222222,
          0.3333333333333333,
          0.4444444444444444,
          0.5555555555555556,
          0.6666666666666666,
          0.7777777777777777,
          0.8888888888888888,
          1,
          0,
          0.1111111111111111,
          0.2222222222222222,
          0.3333333333333333,
          0.4444444444444444,
          0.5555555555555556,
          0.6666666666666666,
          0.7777777777777777,
          0.8888888888888888,
          1,
          0,
          0.1111111111111111,
          0.2222222222222222,
          0.3333333333333333,
          0.4444444444444444,
          0.5555555555555556,
          0.6666666666666666,
          0.7777777777777777,
          0.8888888888888888,
          1,
          0,
          0.1111111111111111,
          0.2222222222222222,
          0.3333333333333333,
          0.4444444444444444,
          0.5555555555555556,
          0.6666666666666666,
          0.7777777777777777,
          0.8888888888888888,
          1,
          0,
          0.1111111111111111,
          0.2222222222222222,
          0.3333333333333333,
          0.4444444444444444,
          0.5555555555555556,
          0.6666666666666666,
          0.7777777777777777,
          0.8888888888888888,
          1,
          0,
          0.1111111111111111,
          0.2222222222222222,
          0.3333333333333333,
          0.4444444444444444,
          0.5555555555555556,
          0.6666666666666666,
          0.7777777777777777,
          0.8888888888888888,
          1,
          0,
          0.1111111111111111,
          0.2222222222222222,
          0.3333333333333333,
          0.4444444444444444,
          0.5555555555555556,
          0.6666666666666666,
          0.7777777777777777,
          0.8888888888888888,
          1
         ],
         "z": [
          0.3180817520195092,
          0.3085759334276406,
          0.3077862021363812,
          0.3118992699517144,
          0.3187701622645061,
          0.327192330857118,
          0.33648709235712887,
          0.3462726873675517,
          0.35473932414424786,
          0.35950180733113946,
          0.31450425762055434,
          0.3051839406442337,
          0.3059988314845822,
          0.3117443639654724,
          0.3198885869741938,
          0.3291997405099682,
          0.33907858997782236,
          0.3492336158450668,
          0.3576508131138163,
          0.3617456658391539,
          0.3103909996453516,
          0.30236995222896024,
          0.3048847414314591,
          0.311914889184911,
          0.32088019060305717,
          0.3306748435917864,
          0.3408249329679084,
          0.3511273522243417,
          0.3594117223818607,
          0.36296216673508314,
          0.3067594468347127,
          0.30033916758208856,
          0.30430764219455875,
          0.31225478850004373,
          0.32172568141136426,
          0.3317801368525792,
          0.3420580843265197,
          0.35242162449384445,
          0.3605683881040255,
          0.3636884252313289,
          0.303656570272383,
          0.29888192176095313,
          0.30404005625058633,
          0.31263646177904914,
          0.3224230380517222,
          0.33262159650508333,
          0.34296276417483645,
          0.35335329657334086,
          0.3613771026600026,
          0.3641545739976932,
          0.3010159181045347,
          0.2978262986996777,
          0.303946243449021,
          0.3130060505628487,
          0.322994235265461,
          0.33327559183821576,
          0.3436495290015418,
          0.3540527021408378,
          0.3619705901497382,
          0.36447097583675936,
          0.2987577026622849,
          0.2970519674395881,
          0.30394922710611694,
          0.31334413045016296,
          0.3234641561521978,
          0.33379470124848754,
          0.34418636487859317,
          0.35459577259916153,
          0.36242296623846626,
          0.3646953772950386,
          0.29681181778075666,
          0.29647711771224305,
          0.3040053574948315,
          0.3136460288792084,
          0.3238542192013794,
          0.334214877297883,
          0.3446164968859984,
          0.35502912105394985,
          0.36277834595479247,
          0.36486022727143674,
          0.2951213068178592,
          0.2960459517044648,
          0.3040896129261162,
          0.313913028231529,
          0.3241813820578823,
          0.3345609705144706,
          0.3449683676286176,
          0.3553827169071544,
          0.36306442922678855,
          0.3649848573066971
         ]
        }
       ],
       "layout": {
        "coloraxis": {
         "colorbar": {
          "title": {
           "text": "color"
          }
         },
         "colorscale": [
          [
           0,
           "#0d0887"
          ],
          [
           0.1111111111111111,
           "#46039f"
          ],
          [
           0.2222222222222222,
           "#7201a8"
          ],
          [
           0.3333333333333333,
           "#9c179e"
          ],
          [
           0.4444444444444444,
           "#bd3786"
          ],
          [
           0.5555555555555556,
           "#d8576b"
          ],
          [
           0.6666666666666666,
           "#ed7953"
          ],
          [
           0.7777777777777778,
           "#fb9f3a"
          ],
          [
           0.8888888888888888,
           "#fdca26"
          ],
          [
           1,
           "#f0f921"
          ]
         ]
        },
        "legend": {
         "tracegroupgap": 0
        },
        "scene": {
         "domain": {
          "x": [
           0,
           1
          ],
          "y": [
           0,
           1
          ]
         },
         "xaxis": {
          "title": {
           "text": "Weight of Parent Node"
          }
         },
         "yaxis": {
          "title": {
           "text": "Probability of Correct Answer"
          }
         },
         "zaxis": {
          "title": {
           "text": "Final Probability"
          }
         }
        },
        "template": {
         "data": {
          "bar": [
           {
            "error_x": {
             "color": "#2a3f5f"
            },
            "error_y": {
             "color": "#2a3f5f"
            },
            "marker": {
             "line": {
              "color": "#E5ECF6",
              "width": 0.5
             },
             "pattern": {
              "fillmode": "overlay",
              "size": 10,
              "solidity": 0.2
             }
            },
            "type": "bar"
           }
          ],
          "barpolar": [
           {
            "marker": {
             "line": {
              "color": "#E5ECF6",
              "width": 0.5
             },
             "pattern": {
              "fillmode": "overlay",
              "size": 10,
              "solidity": 0.2
             }
            },
            "type": "barpolar"
           }
          ],
          "carpet": [
           {
            "aaxis": {
             "endlinecolor": "#2a3f5f",
             "gridcolor": "white",
             "linecolor": "white",
             "minorgridcolor": "white",
             "startlinecolor": "#2a3f5f"
            },
            "baxis": {
             "endlinecolor": "#2a3f5f",
             "gridcolor": "white",
             "linecolor": "white",
             "minorgridcolor": "white",
             "startlinecolor": "#2a3f5f"
            },
            "type": "carpet"
           }
          ],
          "choropleth": [
           {
            "colorbar": {
             "outlinewidth": 0,
             "ticks": ""
            },
            "type": "choropleth"
           }
          ],
          "contour": [
           {
            "colorbar": {
             "outlinewidth": 0,
             "ticks": ""
            },
            "colorscale": [
             [
              0,
              "#0d0887"
             ],
             [
              0.1111111111111111,
              "#46039f"
             ],
             [
              0.2222222222222222,
              "#7201a8"
             ],
             [
              0.3333333333333333,
              "#9c179e"
             ],
             [
              0.4444444444444444,
              "#bd3786"
             ],
             [
              0.5555555555555556,
              "#d8576b"
             ],
             [
              0.6666666666666666,
              "#ed7953"
             ],
             [
              0.7777777777777778,
              "#fb9f3a"
             ],
             [
              0.8888888888888888,
              "#fdca26"
             ],
             [
              1,
              "#f0f921"
             ]
            ],
            "type": "contour"
           }
          ],
          "contourcarpet": [
           {
            "colorbar": {
             "outlinewidth": 0,
             "ticks": ""
            },
            "type": "contourcarpet"
           }
          ],
          "heatmap": [
           {
            "colorbar": {
             "outlinewidth": 0,
             "ticks": ""
            },
            "colorscale": [
             [
              0,
              "#0d0887"
             ],
             [
              0.1111111111111111,
              "#46039f"
             ],
             [
              0.2222222222222222,
              "#7201a8"
             ],
             [
              0.3333333333333333,
              "#9c179e"
             ],
             [
              0.4444444444444444,
              "#bd3786"
             ],
             [
              0.5555555555555556,
              "#d8576b"
             ],
             [
              0.6666666666666666,
              "#ed7953"
             ],
             [
              0.7777777777777778,
              "#fb9f3a"
             ],
             [
              0.8888888888888888,
              "#fdca26"
             ],
             [
              1,
              "#f0f921"
             ]
            ],
            "type": "heatmap"
           }
          ],
          "heatmapgl": [
           {
            "colorbar": {
             "outlinewidth": 0,
             "ticks": ""
            },
            "colorscale": [
             [
              0,
              "#0d0887"
             ],
             [
              0.1111111111111111,
              "#46039f"
             ],
             [
              0.2222222222222222,
              "#7201a8"
             ],
             [
              0.3333333333333333,
              "#9c179e"
             ],
             [
              0.4444444444444444,
              "#bd3786"
             ],
             [
              0.5555555555555556,
              "#d8576b"
             ],
             [
              0.6666666666666666,
              "#ed7953"
             ],
             [
              0.7777777777777778,
              "#fb9f3a"
             ],
             [
              0.8888888888888888,
              "#fdca26"
             ],
             [
              1,
              "#f0f921"
             ]
            ],
            "type": "heatmapgl"
           }
          ],
          "histogram": [
           {
            "marker": {
             "pattern": {
              "fillmode": "overlay",
              "size": 10,
              "solidity": 0.2
             }
            },
            "type": "histogram"
           }
          ],
          "histogram2d": [
           {
            "colorbar": {
             "outlinewidth": 0,
             "ticks": ""
            },
            "colorscale": [
             [
              0,
              "#0d0887"
             ],
             [
              0.1111111111111111,
              "#46039f"
             ],
             [
              0.2222222222222222,
              "#7201a8"
             ],
             [
              0.3333333333333333,
              "#9c179e"
             ],
             [
              0.4444444444444444,
              "#bd3786"
             ],
             [
              0.5555555555555556,
              "#d8576b"
             ],
             [
              0.6666666666666666,
              "#ed7953"
             ],
             [
              0.7777777777777778,
              "#fb9f3a"
             ],
             [
              0.8888888888888888,
              "#fdca26"
             ],
             [
              1,
              "#f0f921"
             ]
            ],
            "type": "histogram2d"
           }
          ],
          "histogram2dcontour": [
           {
            "colorbar": {
             "outlinewidth": 0,
             "ticks": ""
            },
            "colorscale": [
             [
              0,
              "#0d0887"
             ],
             [
              0.1111111111111111,
              "#46039f"
             ],
             [
              0.2222222222222222,
              "#7201a8"
             ],
             [
              0.3333333333333333,
              "#9c179e"
             ],
             [
              0.4444444444444444,
              "#bd3786"
             ],
             [
              0.5555555555555556,
              "#d8576b"
             ],
             [
              0.6666666666666666,
              "#ed7953"
             ],
             [
              0.7777777777777778,
              "#fb9f3a"
             ],
             [
              0.8888888888888888,
              "#fdca26"
             ],
             [
              1,
              "#f0f921"
             ]
            ],
            "type": "histogram2dcontour"
           }
          ],
          "mesh3d": [
           {
            "colorbar": {
             "outlinewidth": 0,
             "ticks": ""
            },
            "type": "mesh3d"
           }
          ],
          "parcoords": [
           {
            "line": {
             "colorbar": {
              "outlinewidth": 0,
              "ticks": ""
             }
            },
            "type": "parcoords"
           }
          ],
          "pie": [
           {
            "automargin": true,
            "type": "pie"
           }
          ],
          "scatter": [
           {
            "fillpattern": {
             "fillmode": "overlay",
             "size": 10,
             "solidity": 0.2
            },
            "type": "scatter"
           }
          ],
          "scatter3d": [
           {
            "line": {
             "colorbar": {
              "outlinewidth": 0,
              "ticks": ""
             }
            },
            "marker": {
             "colorbar": {
              "outlinewidth": 0,
              "ticks": ""
             }
            },
            "type": "scatter3d"
           }
          ],
          "scattercarpet": [
           {
            "marker": {
             "colorbar": {
              "outlinewidth": 0,
              "ticks": ""
             }
            },
            "type": "scattercarpet"
           }
          ],
          "scattergeo": [
           {
            "marker": {
             "colorbar": {
              "outlinewidth": 0,
              "ticks": ""
             }
            },
            "type": "scattergeo"
           }
          ],
          "scattergl": [
           {
            "marker": {
             "colorbar": {
              "outlinewidth": 0,
              "ticks": ""
             }
            },
            "type": "scattergl"
           }
          ],
          "scattermapbox": [
           {
            "marker": {
             "colorbar": {
              "outlinewidth": 0,
              "ticks": ""
             }
            },
            "type": "scattermapbox"
           }
          ],
          "scatterpolar": [
           {
            "marker": {
             "colorbar": {
              "outlinewidth": 0,
              "ticks": ""
             }
            },
            "type": "scatterpolar"
           }
          ],
          "scatterpolargl": [
           {
            "marker": {
             "colorbar": {
              "outlinewidth": 0,
              "ticks": ""
             }
            },
            "type": "scatterpolargl"
           }
          ],
          "scatterternary": [
           {
            "marker": {
             "colorbar": {
              "outlinewidth": 0,
              "ticks": ""
             }
            },
            "type": "scatterternary"
           }
          ],
          "surface": [
           {
            "colorbar": {
             "outlinewidth": 0,
             "ticks": ""
            },
            "colorscale": [
             [
              0,
              "#0d0887"
             ],
             [
              0.1111111111111111,
              "#46039f"
             ],
             [
              0.2222222222222222,
              "#7201a8"
             ],
             [
              0.3333333333333333,
              "#9c179e"
             ],
             [
              0.4444444444444444,
              "#bd3786"
             ],
             [
              0.5555555555555556,
              "#d8576b"
             ],
             [
              0.6666666666666666,
              "#ed7953"
             ],
             [
              0.7777777777777778,
              "#fb9f3a"
             ],
             [
              0.8888888888888888,
              "#fdca26"
             ],
             [
              1,
              "#f0f921"
             ]
            ],
            "type": "surface"
           }
          ],
          "table": [
           {
            "cells": {
             "fill": {
              "color": "#EBF0F8"
             },
             "line": {
              "color": "white"
             }
            },
            "header": {
             "fill": {
              "color": "#C8D4E3"
             },
             "line": {
              "color": "white"
             }
            },
            "type": "table"
           }
          ]
         },
         "layout": {
          "annotationdefaults": {
           "arrowcolor": "#2a3f5f",
           "arrowhead": 0,
           "arrowwidth": 1
          },
          "autotypenumbers": "strict",
          "coloraxis": {
           "colorbar": {
            "outlinewidth": 0,
            "ticks": ""
           }
          },
          "colorscale": {
           "diverging": [
            [
             0,
             "#8e0152"
            ],
            [
             0.1,
             "#c51b7d"
            ],
            [
             0.2,
             "#de77ae"
            ],
            [
             0.3,
             "#f1b6da"
            ],
            [
             0.4,
             "#fde0ef"
            ],
            [
             0.5,
             "#f7f7f7"
            ],
            [
             0.6,
             "#e6f5d0"
            ],
            [
             0.7,
             "#b8e186"
            ],
            [
             0.8,
             "#7fbc41"
            ],
            [
             0.9,
             "#4d9221"
            ],
            [
             1,
             "#276419"
            ]
           ],
           "sequential": [
            [
             0,
             "#0d0887"
            ],
            [
             0.1111111111111111,
             "#46039f"
            ],
            [
             0.2222222222222222,
             "#7201a8"
            ],
            [
             0.3333333333333333,
             "#9c179e"
            ],
            [
             0.4444444444444444,
             "#bd3786"
            ],
            [
             0.5555555555555556,
             "#d8576b"
            ],
            [
             0.6666666666666666,
             "#ed7953"
            ],
            [
             0.7777777777777778,
             "#fb9f3a"
            ],
            [
             0.8888888888888888,
             "#fdca26"
            ],
            [
             1,
             "#f0f921"
            ]
           ],
           "sequentialminus": [
            [
             0,
             "#0d0887"
            ],
            [
             0.1111111111111111,
             "#46039f"
            ],
            [
             0.2222222222222222,
             "#7201a8"
            ],
            [
             0.3333333333333333,
             "#9c179e"
            ],
            [
             0.4444444444444444,
             "#bd3786"
            ],
            [
             0.5555555555555556,
             "#d8576b"
            ],
            [
             0.6666666666666666,
             "#ed7953"
            ],
            [
             0.7777777777777778,
             "#fb9f3a"
            ],
            [
             0.8888888888888888,
             "#fdca26"
            ],
            [
             1,
             "#f0f921"
            ]
           ]
          },
          "colorway": [
           "#636efa",
           "#EF553B",
           "#00cc96",
           "#ab63fa",
           "#FFA15A",
           "#19d3f3",
           "#FF6692",
           "#B6E880",
           "#FF97FF",
           "#FECB52"
          ],
          "font": {
           "color": "#2a3f5f"
          },
          "geo": {
           "bgcolor": "white",
           "lakecolor": "white",
           "landcolor": "#E5ECF6",
           "showlakes": true,
           "showland": true,
           "subunitcolor": "white"
          },
          "hoverlabel": {
           "align": "left"
          },
          "hovermode": "closest",
          "mapbox": {
           "style": "light"
          },
          "paper_bgcolor": "white",
          "plot_bgcolor": "#E5ECF6",
          "polar": {
           "angularaxis": {
            "gridcolor": "white",
            "linecolor": "white",
            "ticks": ""
           },
           "bgcolor": "#E5ECF6",
           "radialaxis": {
            "gridcolor": "white",
            "linecolor": "white",
            "ticks": ""
           }
          },
          "scene": {
           "xaxis": {
            "backgroundcolor": "#E5ECF6",
            "gridcolor": "white",
            "gridwidth": 2,
            "linecolor": "white",
            "showbackground": true,
            "ticks": "",
            "zerolinecolor": "white"
           },
           "yaxis": {
            "backgroundcolor": "#E5ECF6",
            "gridcolor": "white",
            "gridwidth": 2,
            "linecolor": "white",
            "showbackground": true,
            "ticks": "",
            "zerolinecolor": "white"
           },
           "zaxis": {
            "backgroundcolor": "#E5ECF6",
            "gridcolor": "white",
            "gridwidth": 2,
            "linecolor": "white",
            "showbackground": true,
            "ticks": "",
            "zerolinecolor": "white"
           }
          },
          "shapedefaults": {
           "line": {
            "color": "#2a3f5f"
           }
          },
          "ternary": {
           "aaxis": {
            "gridcolor": "white",
            "linecolor": "white",
            "ticks": ""
           },
           "baxis": {
            "gridcolor": "white",
            "linecolor": "white",
            "ticks": ""
           },
           "bgcolor": "#E5ECF6",
           "caxis": {
            "gridcolor": "white",
            "linecolor": "white",
            "ticks": ""
           }
          },
          "title": {
           "x": 0.05
          },
          "xaxis": {
           "automargin": true,
           "gridcolor": "white",
           "linecolor": "white",
           "ticks": "",
           "title": {
            "standoff": 15
           },
           "zerolinecolor": "white",
           "zerolinewidth": 2
          },
          "yaxis": {
           "automargin": true,
           "gridcolor": "white",
           "linecolor": "white",
           "ticks": "",
           "title": {
            "standoff": 15
           },
           "zerolinecolor": "white",
           "zerolinewidth": 2
          }
         }
        },
        "title": {
         "text": "3D Scatter Plot for Data Types (Parent of Variables and Constants)"
        }
       }
      }
     },
     "metadata": {},
     "output_type": "display_data"
    },
    {
     "data": {
      "application/vnd.plotly.v1+json": {
       "config": {
        "plotlyServerURL": "https://plot.ly"
       },
       "data": [
        {
         "hovertemplate": "Weight of Parent Node=%{x}<br>Probability of Correct Answer=%{y}<br>Final Probability=%{z}<br>color=%{marker.color}<extra></extra>",
         "legendgroup": "",
         "marker": {
          "color": [
           0.4797147284458669,
           0.3622006458619112,
           0.3447100855195473,
           0.3834827564380787,
           0.4539034949408637,
           0.5421262714597914,
           0.6403626943627994,
           0.7442317933568524,
           0.8512692726521184,
           0.9163389658668166,
           0.4457865239352081,
           0.32527752816067185,
           0.3237085872733599,
           0.3800023757906436,
           0.46444560023448733,
           0.5625831448588198,
           0.667382791192579,
           0.7754234599795731,
           0.885040842392465,
           0.9440739233260641,
           0.4046031099968846,
           0.2940362534907283,
           0.31014252133729625,
           0.38053727104931745,
           0.47419851298939003,
           0.5778311087414846,
           0.6857371418415887,
           0.7954746480908396,
           0.9059970714040105,
           0.9597130306017188,
           0.36754967129427524,
           0.27102375118125904,
           0.3026142971427043,
           0.3832707237284116,
           0.4827183386383042,
           0.5893625788638424,
           0.698762973465585,
           0.8092189165518316,
           0.9200791122491648,
           0.9693920004358504,
           0.33555876938164053,
           0.25418914666629433,
           0.29867231145286255,
           0.38671990268240114,
           0.4898474876806602,
           0.598195070521938,
           0.7083495756934912,
           0.8191295539793708,
           0.9301260421894403,
           0.9758128607578832,
           0.30815142971301573,
           0.24175542224855467,
           0.2968116538094851,
           0.3902212240100128,
           0.4957423748335712,
           0.6050882353275605,
           0.71564189887537,
           0.8265769739138594,
           0.937632494686248,
           0.9803049983219732,
           0.2846046769321857,
           0.2324479528011005,
           0.29615872464834814,
           0.3935084469409183,
           0.500624316136969,
           0.6105755183049981,
           0.7213498816584403,
           0.8323632272915183,
           0.943445954876749,
           0.9835810836738949,
           0.2642456642705986,
           0.22538606569127193,
           0.2962065383780863,
           0.3964932988677446,
           0.50469637548354,
           0.6150262235959095,
           0.72592744315512,
           0.8369821654910935,
           0.9480781273790334,
           0.9860508401913821,
           0.24651271004784553,
           0.2199615108452947,
           0.29665704437799034,
           0.3991642610944976,
           0.5081243986069577,
           0.6186977663184061,
           0.7296744415796015,
           0.8407519437282336,
           0.951854652598725,
           0.9879636631496813
          ],
          "coloraxis": "coloraxis",
          "symbol": "circle"
         },
         "mode": "markers",
         "name": "",
         "scene": "scene",
         "showlegend": false,
         "type": "scatter3d",
         "x": [
          0.7777777777777778,
          0.7777777777777778,
          0.7777777777777778,
          0.7777777777777778,
          0.7777777777777778,
          0.7777777777777778,
          0.7777777777777778,
          0.7777777777777778,
          0.7777777777777778,
          0.7777777777777778,
          1.0555555555555556,
          1.0555555555555556,
          1.0555555555555556,
          1.0555555555555556,
          1.0555555555555556,
          1.0555555555555556,
          1.0555555555555556,
          1.0555555555555556,
          1.0555555555555556,
          1.0555555555555556,
          1.3333333333333335,
          1.3333333333333335,
          1.3333333333333335,
          1.3333333333333335,
          1.3333333333333335,
          1.3333333333333335,
          1.3333333333333335,
          1.3333333333333335,
          1.3333333333333335,
          1.3333333333333335,
          1.6111111111111112,
          1.6111111111111112,
          1.6111111111111112,
          1.6111111111111112,
          1.6111111111111112,
          1.6111111111111112,
          1.6111111111111112,
          1.6111111111111112,
          1.6111111111111112,
          1.6111111111111112,
          1.8888888888888888,
          1.8888888888888888,
          1.8888888888888888,
          1.8888888888888888,
          1.8888888888888888,
          1.8888888888888888,
          1.8888888888888888,
          1.8888888888888888,
          1.8888888888888888,
          1.8888888888888888,
          2.166666666666667,
          2.166666666666667,
          2.166666666666667,
          2.166666666666667,
          2.166666666666667,
          2.166666666666667,
          2.166666666666667,
          2.166666666666667,
          2.166666666666667,
          2.166666666666667,
          2.4444444444444446,
          2.4444444444444446,
          2.4444444444444446,
          2.4444444444444446,
          2.4444444444444446,
          2.4444444444444446,
          2.4444444444444446,
          2.4444444444444446,
          2.4444444444444446,
          2.4444444444444446,
          2.7222222222222223,
          2.7222222222222223,
          2.7222222222222223,
          2.7222222222222223,
          2.7222222222222223,
          2.7222222222222223,
          2.7222222222222223,
          2.7222222222222223,
          2.7222222222222223,
          2.7222222222222223,
          3,
          3,
          3,
          3,
          3,
          3,
          3,
          3,
          3,
          3
         ],
         "y": [
          0,
          0.1111111111111111,
          0.2222222222222222,
          0.3333333333333333,
          0.4444444444444444,
          0.5555555555555556,
          0.6666666666666666,
          0.7777777777777777,
          0.8888888888888888,
          1,
          0,
          0.1111111111111111,
          0.2222222222222222,
          0.3333333333333333,
          0.4444444444444444,
          0.5555555555555556,
          0.6666666666666666,
          0.7777777777777777,
          0.8888888888888888,
          1,
          0,
          0.1111111111111111,
          0.2222222222222222,
          0.3333333333333333,
          0.4444444444444444,
          0.5555555555555556,
          0.6666666666666666,
          0.7777777777777777,
          0.8888888888888888,
          1,
          0,
          0.1111111111111111,
          0.2222222222222222,
          0.3333333333333333,
          0.4444444444444444,
          0.5555555555555556,
          0.6666666666666666,
          0.7777777777777777,
          0.8888888888888888,
          1,
          0,
          0.1111111111111111,
          0.2222222222222222,
          0.3333333333333333,
          0.4444444444444444,
          0.5555555555555556,
          0.6666666666666666,
          0.7777777777777777,
          0.8888888888888888,
          1,
          0,
          0.1111111111111111,
          0.2222222222222222,
          0.3333333333333333,
          0.4444444444444444,
          0.5555555555555556,
          0.6666666666666666,
          0.7777777777777777,
          0.8888888888888888,
          1,
          0,
          0.1111111111111111,
          0.2222222222222222,
          0.3333333333333333,
          0.4444444444444444,
          0.5555555555555556,
          0.6666666666666666,
          0.7777777777777777,
          0.8888888888888888,
          1,
          0,
          0.1111111111111111,
          0.2222222222222222,
          0.3333333333333333,
          0.4444444444444444,
          0.5555555555555556,
          0.6666666666666666,
          0.7777777777777777,
          0.8888888888888888,
          1,
          0,
          0.1111111111111111,
          0.2222222222222222,
          0.3333333333333333,
          0.4444444444444444,
          0.5555555555555556,
          0.6666666666666666,
          0.7777777777777777,
          0.8888888888888888,
          1
         ],
         "z": [
          0.4797147284458669,
          0.3622006458619112,
          0.3447100855195473,
          0.3834827564380787,
          0.4539034949408637,
          0.5421262714597914,
          0.6403626943627994,
          0.7442317933568524,
          0.8512692726521184,
          0.9163389658668166,
          0.4457865239352081,
          0.32527752816067185,
          0.3237085872733599,
          0.3800023757906436,
          0.46444560023448733,
          0.5625831448588198,
          0.667382791192579,
          0.7754234599795731,
          0.885040842392465,
          0.9440739233260641,
          0.4046031099968846,
          0.2940362534907283,
          0.31014252133729625,
          0.38053727104931745,
          0.47419851298939003,
          0.5778311087414846,
          0.6857371418415887,
          0.7954746480908396,
          0.9059970714040105,
          0.9597130306017188,
          0.36754967129427524,
          0.27102375118125904,
          0.3026142971427043,
          0.3832707237284116,
          0.4827183386383042,
          0.5893625788638424,
          0.698762973465585,
          0.8092189165518316,
          0.9200791122491648,
          0.9693920004358504,
          0.33555876938164053,
          0.25418914666629433,
          0.29867231145286255,
          0.38671990268240114,
          0.4898474876806602,
          0.598195070521938,
          0.7083495756934912,
          0.8191295539793708,
          0.9301260421894403,
          0.9758128607578832,
          0.30815142971301573,
          0.24175542224855467,
          0.2968116538094851,
          0.3902212240100128,
          0.4957423748335712,
          0.6050882353275605,
          0.71564189887537,
          0.8265769739138594,
          0.937632494686248,
          0.9803049983219732,
          0.2846046769321857,
          0.2324479528011005,
          0.29615872464834814,
          0.3935084469409183,
          0.500624316136969,
          0.6105755183049981,
          0.7213498816584403,
          0.8323632272915183,
          0.943445954876749,
          0.9835810836738949,
          0.2642456642705986,
          0.22538606569127193,
          0.2962065383780863,
          0.3964932988677446,
          0.50469637548354,
          0.6150262235959095,
          0.72592744315512,
          0.8369821654910935,
          0.9480781273790334,
          0.9860508401913821,
          0.24651271004784553,
          0.2199615108452947,
          0.29665704437799034,
          0.3991642610944976,
          0.5081243986069577,
          0.6186977663184061,
          0.7296744415796015,
          0.8407519437282336,
          0.951854652598725,
          0.9879636631496813
         ]
        }
       ],
       "layout": {
        "coloraxis": {
         "colorbar": {
          "title": {
           "text": "color"
          }
         },
         "colorscale": [
          [
           0,
           "#0d0887"
          ],
          [
           0.1111111111111111,
           "#46039f"
          ],
          [
           0.2222222222222222,
           "#7201a8"
          ],
          [
           0.3333333333333333,
           "#9c179e"
          ],
          [
           0.4444444444444444,
           "#bd3786"
          ],
          [
           0.5555555555555556,
           "#d8576b"
          ],
          [
           0.6666666666666666,
           "#ed7953"
          ],
          [
           0.7777777777777778,
           "#fb9f3a"
          ],
          [
           0.8888888888888888,
           "#fdca26"
          ],
          [
           1,
           "#f0f921"
          ]
         ]
        },
        "legend": {
         "tracegroupgap": 0
        },
        "scene": {
         "domain": {
          "x": [
           0,
           1
          ],
          "y": [
           0,
           1
          ]
         },
         "xaxis": {
          "title": {
           "text": "Weight of Parent Node"
          }
         },
         "yaxis": {
          "title": {
           "text": "Probability of Correct Answer"
          }
         },
         "zaxis": {
          "title": {
           "text": "Final Probability"
          }
         }
        },
        "template": {
         "data": {
          "bar": [
           {
            "error_x": {
             "color": "#2a3f5f"
            },
            "error_y": {
             "color": "#2a3f5f"
            },
            "marker": {
             "line": {
              "color": "#E5ECF6",
              "width": 0.5
             },
             "pattern": {
              "fillmode": "overlay",
              "size": 10,
              "solidity": 0.2
             }
            },
            "type": "bar"
           }
          ],
          "barpolar": [
           {
            "marker": {
             "line": {
              "color": "#E5ECF6",
              "width": 0.5
             },
             "pattern": {
              "fillmode": "overlay",
              "size": 10,
              "solidity": 0.2
             }
            },
            "type": "barpolar"
           }
          ],
          "carpet": [
           {
            "aaxis": {
             "endlinecolor": "#2a3f5f",
             "gridcolor": "white",
             "linecolor": "white",
             "minorgridcolor": "white",
             "startlinecolor": "#2a3f5f"
            },
            "baxis": {
             "endlinecolor": "#2a3f5f",
             "gridcolor": "white",
             "linecolor": "white",
             "minorgridcolor": "white",
             "startlinecolor": "#2a3f5f"
            },
            "type": "carpet"
           }
          ],
          "choropleth": [
           {
            "colorbar": {
             "outlinewidth": 0,
             "ticks": ""
            },
            "type": "choropleth"
           }
          ],
          "contour": [
           {
            "colorbar": {
             "outlinewidth": 0,
             "ticks": ""
            },
            "colorscale": [
             [
              0,
              "#0d0887"
             ],
             [
              0.1111111111111111,
              "#46039f"
             ],
             [
              0.2222222222222222,
              "#7201a8"
             ],
             [
              0.3333333333333333,
              "#9c179e"
             ],
             [
              0.4444444444444444,
              "#bd3786"
             ],
             [
              0.5555555555555556,
              "#d8576b"
             ],
             [
              0.6666666666666666,
              "#ed7953"
             ],
             [
              0.7777777777777778,
              "#fb9f3a"
             ],
             [
              0.8888888888888888,
              "#fdca26"
             ],
             [
              1,
              "#f0f921"
             ]
            ],
            "type": "contour"
           }
          ],
          "contourcarpet": [
           {
            "colorbar": {
             "outlinewidth": 0,
             "ticks": ""
            },
            "type": "contourcarpet"
           }
          ],
          "heatmap": [
           {
            "colorbar": {
             "outlinewidth": 0,
             "ticks": ""
            },
            "colorscale": [
             [
              0,
              "#0d0887"
             ],
             [
              0.1111111111111111,
              "#46039f"
             ],
             [
              0.2222222222222222,
              "#7201a8"
             ],
             [
              0.3333333333333333,
              "#9c179e"
             ],
             [
              0.4444444444444444,
              "#bd3786"
             ],
             [
              0.5555555555555556,
              "#d8576b"
             ],
             [
              0.6666666666666666,
              "#ed7953"
             ],
             [
              0.7777777777777778,
              "#fb9f3a"
             ],
             [
              0.8888888888888888,
              "#fdca26"
             ],
             [
              1,
              "#f0f921"
             ]
            ],
            "type": "heatmap"
           }
          ],
          "heatmapgl": [
           {
            "colorbar": {
             "outlinewidth": 0,
             "ticks": ""
            },
            "colorscale": [
             [
              0,
              "#0d0887"
             ],
             [
              0.1111111111111111,
              "#46039f"
             ],
             [
              0.2222222222222222,
              "#7201a8"
             ],
             [
              0.3333333333333333,
              "#9c179e"
             ],
             [
              0.4444444444444444,
              "#bd3786"
             ],
             [
              0.5555555555555556,
              "#d8576b"
             ],
             [
              0.6666666666666666,
              "#ed7953"
             ],
             [
              0.7777777777777778,
              "#fb9f3a"
             ],
             [
              0.8888888888888888,
              "#fdca26"
             ],
             [
              1,
              "#f0f921"
             ]
            ],
            "type": "heatmapgl"
           }
          ],
          "histogram": [
           {
            "marker": {
             "pattern": {
              "fillmode": "overlay",
              "size": 10,
              "solidity": 0.2
             }
            },
            "type": "histogram"
           }
          ],
          "histogram2d": [
           {
            "colorbar": {
             "outlinewidth": 0,
             "ticks": ""
            },
            "colorscale": [
             [
              0,
              "#0d0887"
             ],
             [
              0.1111111111111111,
              "#46039f"
             ],
             [
              0.2222222222222222,
              "#7201a8"
             ],
             [
              0.3333333333333333,
              "#9c179e"
             ],
             [
              0.4444444444444444,
              "#bd3786"
             ],
             [
              0.5555555555555556,
              "#d8576b"
             ],
             [
              0.6666666666666666,
              "#ed7953"
             ],
             [
              0.7777777777777778,
              "#fb9f3a"
             ],
             [
              0.8888888888888888,
              "#fdca26"
             ],
             [
              1,
              "#f0f921"
             ]
            ],
            "type": "histogram2d"
           }
          ],
          "histogram2dcontour": [
           {
            "colorbar": {
             "outlinewidth": 0,
             "ticks": ""
            },
            "colorscale": [
             [
              0,
              "#0d0887"
             ],
             [
              0.1111111111111111,
              "#46039f"
             ],
             [
              0.2222222222222222,
              "#7201a8"
             ],
             [
              0.3333333333333333,
              "#9c179e"
             ],
             [
              0.4444444444444444,
              "#bd3786"
             ],
             [
              0.5555555555555556,
              "#d8576b"
             ],
             [
              0.6666666666666666,
              "#ed7953"
             ],
             [
              0.7777777777777778,
              "#fb9f3a"
             ],
             [
              0.8888888888888888,
              "#fdca26"
             ],
             [
              1,
              "#f0f921"
             ]
            ],
            "type": "histogram2dcontour"
           }
          ],
          "mesh3d": [
           {
            "colorbar": {
             "outlinewidth": 0,
             "ticks": ""
            },
            "type": "mesh3d"
           }
          ],
          "parcoords": [
           {
            "line": {
             "colorbar": {
              "outlinewidth": 0,
              "ticks": ""
             }
            },
            "type": "parcoords"
           }
          ],
          "pie": [
           {
            "automargin": true,
            "type": "pie"
           }
          ],
          "scatter": [
           {
            "fillpattern": {
             "fillmode": "overlay",
             "size": 10,
             "solidity": 0.2
            },
            "type": "scatter"
           }
          ],
          "scatter3d": [
           {
            "line": {
             "colorbar": {
              "outlinewidth": 0,
              "ticks": ""
             }
            },
            "marker": {
             "colorbar": {
              "outlinewidth": 0,
              "ticks": ""
             }
            },
            "type": "scatter3d"
           }
          ],
          "scattercarpet": [
           {
            "marker": {
             "colorbar": {
              "outlinewidth": 0,
              "ticks": ""
             }
            },
            "type": "scattercarpet"
           }
          ],
          "scattergeo": [
           {
            "marker": {
             "colorbar": {
              "outlinewidth": 0,
              "ticks": ""
             }
            },
            "type": "scattergeo"
           }
          ],
          "scattergl": [
           {
            "marker": {
             "colorbar": {
              "outlinewidth": 0,
              "ticks": ""
             }
            },
            "type": "scattergl"
           }
          ],
          "scattermapbox": [
           {
            "marker": {
             "colorbar": {
              "outlinewidth": 0,
              "ticks": ""
             }
            },
            "type": "scattermapbox"
           }
          ],
          "scatterpolar": [
           {
            "marker": {
             "colorbar": {
              "outlinewidth": 0,
              "ticks": ""
             }
            },
            "type": "scatterpolar"
           }
          ],
          "scatterpolargl": [
           {
            "marker": {
             "colorbar": {
              "outlinewidth": 0,
              "ticks": ""
             }
            },
            "type": "scatterpolargl"
           }
          ],
          "scatterternary": [
           {
            "marker": {
             "colorbar": {
              "outlinewidth": 0,
              "ticks": ""
             }
            },
            "type": "scatterternary"
           }
          ],
          "surface": [
           {
            "colorbar": {
             "outlinewidth": 0,
             "ticks": ""
            },
            "colorscale": [
             [
              0,
              "#0d0887"
             ],
             [
              0.1111111111111111,
              "#46039f"
             ],
             [
              0.2222222222222222,
              "#7201a8"
             ],
             [
              0.3333333333333333,
              "#9c179e"
             ],
             [
              0.4444444444444444,
              "#bd3786"
             ],
             [
              0.5555555555555556,
              "#d8576b"
             ],
             [
              0.6666666666666666,
              "#ed7953"
             ],
             [
              0.7777777777777778,
              "#fb9f3a"
             ],
             [
              0.8888888888888888,
              "#fdca26"
             ],
             [
              1,
              "#f0f921"
             ]
            ],
            "type": "surface"
           }
          ],
          "table": [
           {
            "cells": {
             "fill": {
              "color": "#EBF0F8"
             },
             "line": {
              "color": "white"
             }
            },
            "header": {
             "fill": {
              "color": "#C8D4E3"
             },
             "line": {
              "color": "white"
             }
            },
            "type": "table"
           }
          ]
         },
         "layout": {
          "annotationdefaults": {
           "arrowcolor": "#2a3f5f",
           "arrowhead": 0,
           "arrowwidth": 1
          },
          "autotypenumbers": "strict",
          "coloraxis": {
           "colorbar": {
            "outlinewidth": 0,
            "ticks": ""
           }
          },
          "colorscale": {
           "diverging": [
            [
             0,
             "#8e0152"
            ],
            [
             0.1,
             "#c51b7d"
            ],
            [
             0.2,
             "#de77ae"
            ],
            [
             0.3,
             "#f1b6da"
            ],
            [
             0.4,
             "#fde0ef"
            ],
            [
             0.5,
             "#f7f7f7"
            ],
            [
             0.6,
             "#e6f5d0"
            ],
            [
             0.7,
             "#b8e186"
            ],
            [
             0.8,
             "#7fbc41"
            ],
            [
             0.9,
             "#4d9221"
            ],
            [
             1,
             "#276419"
            ]
           ],
           "sequential": [
            [
             0,
             "#0d0887"
            ],
            [
             0.1111111111111111,
             "#46039f"
            ],
            [
             0.2222222222222222,
             "#7201a8"
            ],
            [
             0.3333333333333333,
             "#9c179e"
            ],
            [
             0.4444444444444444,
             "#bd3786"
            ],
            [
             0.5555555555555556,
             "#d8576b"
            ],
            [
             0.6666666666666666,
             "#ed7953"
            ],
            [
             0.7777777777777778,
             "#fb9f3a"
            ],
            [
             0.8888888888888888,
             "#fdca26"
            ],
            [
             1,
             "#f0f921"
            ]
           ],
           "sequentialminus": [
            [
             0,
             "#0d0887"
            ],
            [
             0.1111111111111111,
             "#46039f"
            ],
            [
             0.2222222222222222,
             "#7201a8"
            ],
            [
             0.3333333333333333,
             "#9c179e"
            ],
            [
             0.4444444444444444,
             "#bd3786"
            ],
            [
             0.5555555555555556,
             "#d8576b"
            ],
            [
             0.6666666666666666,
             "#ed7953"
            ],
            [
             0.7777777777777778,
             "#fb9f3a"
            ],
            [
             0.8888888888888888,
             "#fdca26"
            ],
            [
             1,
             "#f0f921"
            ]
           ]
          },
          "colorway": [
           "#636efa",
           "#EF553B",
           "#00cc96",
           "#ab63fa",
           "#FFA15A",
           "#19d3f3",
           "#FF6692",
           "#B6E880",
           "#FF97FF",
           "#FECB52"
          ],
          "font": {
           "color": "#2a3f5f"
          },
          "geo": {
           "bgcolor": "white",
           "lakecolor": "white",
           "landcolor": "#E5ECF6",
           "showlakes": true,
           "showland": true,
           "subunitcolor": "white"
          },
          "hoverlabel": {
           "align": "left"
          },
          "hovermode": "closest",
          "mapbox": {
           "style": "light"
          },
          "paper_bgcolor": "white",
          "plot_bgcolor": "#E5ECF6",
          "polar": {
           "angularaxis": {
            "gridcolor": "white",
            "linecolor": "white",
            "ticks": ""
           },
           "bgcolor": "#E5ECF6",
           "radialaxis": {
            "gridcolor": "white",
            "linecolor": "white",
            "ticks": ""
           }
          },
          "scene": {
           "xaxis": {
            "backgroundcolor": "#E5ECF6",
            "gridcolor": "white",
            "gridwidth": 2,
            "linecolor": "white",
            "showbackground": true,
            "ticks": "",
            "zerolinecolor": "white"
           },
           "yaxis": {
            "backgroundcolor": "#E5ECF6",
            "gridcolor": "white",
            "gridwidth": 2,
            "linecolor": "white",
            "showbackground": true,
            "ticks": "",
            "zerolinecolor": "white"
           },
           "zaxis": {
            "backgroundcolor": "#E5ECF6",
            "gridcolor": "white",
            "gridwidth": 2,
            "linecolor": "white",
            "showbackground": true,
            "ticks": "",
            "zerolinecolor": "white"
           }
          },
          "shapedefaults": {
           "line": {
            "color": "#2a3f5f"
           }
          },
          "ternary": {
           "aaxis": {
            "gridcolor": "white",
            "linecolor": "white",
            "ticks": ""
           },
           "baxis": {
            "gridcolor": "white",
            "linecolor": "white",
            "ticks": ""
           },
           "bgcolor": "#E5ECF6",
           "caxis": {
            "gridcolor": "white",
            "linecolor": "white",
            "ticks": ""
           }
          },
          "title": {
           "x": 0.05
          },
          "xaxis": {
           "automargin": true,
           "gridcolor": "white",
           "linecolor": "white",
           "ticks": "",
           "title": {
            "standoff": 15
           },
           "zerolinecolor": "white",
           "zerolinewidth": 2
          },
          "yaxis": {
           "automargin": true,
           "gridcolor": "white",
           "linecolor": "white",
           "ticks": "",
           "title": {
            "standoff": 15
           },
           "zerolinecolor": "white",
           "zerolinewidth": 2
          }
         }
        },
        "title": {
         "text": "3D Scatter Plot for Variables and Constants (Parent of Operators)"
        }
       }
      }
     },
     "metadata": {},
     "output_type": "display_data"
    },
    {
     "data": {
      "application/vnd.plotly.v1+json": {
       "config": {
        "plotlyServerURL": "https://plot.ly"
       },
       "data": [
        {
         "hovertemplate": "Weight of Parent Node=%{x}<br>Probability of Correct Answer=%{y}<br>Final Probability=%{z}<br>color=%{marker.color}<extra></extra>",
         "legendgroup": "",
         "marker": {
          "color": [
           0.38265943780347067,
           0.33920426709778556,
           0.33559406690917104,
           0.3543966626364088,
           0.3858064560663133,
           0.4243077982039679,
           0.46679813648973195,
           0.5115322851088075,
           0.5502369103737043,
           0.5720082620852087,
           0.3663051776939626,
           0.32369801437363943,
           0.327423229643804,
           0.3536885209850167,
           0.39091925473917155,
           0.4334845280455687,
           0.4786449827557593,
           0.5250679581488765,
           0.5635465742345886,
           0.5822659009789891,
           0.34750171266446467,
           0.3108340673323896,
           0.3223302465438132,
           0.35446806484530774,
           0.3954522998996897,
           0.44022785641959494,
           0.4866282649961529,
           0.5337250387398478,
           0.5715964451742205,
           0.5878270479318087,
           0.3309003283872581,
           0.30155048037526194,
           0.319692078603697,
           0.35602189028591436,
           0.3993174007376652,
           0.44528062561179077,
           0.4922655283498043,
           0.5396417119718602,
           0.5768840599041167,
           0.5911470867717893,
           0.3167157498166084,
           0.29488878519292855,
           0.3184688285741089,
           0.3577666824185102,
           0.4025053168078725,
           0.44912729830895215,
           0.4964012076563955,
           0.5439007843352723,
           0.5805810407314405,
           0.5932780525608833,
           0.30464419704930146,
           0.2900630797699548,
           0.3180399700526674,
           0.35945623114445135,
           0.4051165040706788,
           0.4521169912604149,
           0.49954070400704825,
           0.547098066929544,
           0.5832941263988033,
           0.5947244609680431,
           0.2943209264561599,
           0.2865232797238314,
           0.31805360962796336,
           0.36100173920074513,
           0.40726471383861873,
           0.45449006285022875,
           0.5019948108735687,
           0.5495806747390236,
           0.5853621313758456,
           0.5957502962058907,
           0.2854254527120303,
           0.2838953952559683,
           0.3183102056906581,
           0.36238184630495296,
           0.4090478592063057,
           0.45641086764746513,
           0.503961128621707,
           0.5515616962466278,
           0.5869867243647656,
           0.5965038960979967,
           0.27769740259592773,
           0.2819243506489819,
           0.31869537337653114,
           0.3636024147727042,
           0.41054346083603316,
           0.4579930080661511,
           0.5055696805879663,
           0.5531781344327058,
           0.5882945336081764,
           0.5970736334020441
          ],
          "coloraxis": "coloraxis",
          "symbol": "circle"
         },
         "mode": "markers",
         "name": "",
         "scene": "scene",
         "showlegend": false,
         "type": "scatter3d",
         "x": [
          0.7777777777777778,
          0.7777777777777778,
          0.7777777777777778,
          0.7777777777777778,
          0.7777777777777778,
          0.7777777777777778,
          0.7777777777777778,
          0.7777777777777778,
          0.7777777777777778,
          0.7777777777777778,
          1.0555555555555556,
          1.0555555555555556,
          1.0555555555555556,
          1.0555555555555556,
          1.0555555555555556,
          1.0555555555555556,
          1.0555555555555556,
          1.0555555555555556,
          1.0555555555555556,
          1.0555555555555556,
          1.3333333333333335,
          1.3333333333333335,
          1.3333333333333335,
          1.3333333333333335,
          1.3333333333333335,
          1.3333333333333335,
          1.3333333333333335,
          1.3333333333333335,
          1.3333333333333335,
          1.3333333333333335,
          1.6111111111111112,
          1.6111111111111112,
          1.6111111111111112,
          1.6111111111111112,
          1.6111111111111112,
          1.6111111111111112,
          1.6111111111111112,
          1.6111111111111112,
          1.6111111111111112,
          1.6111111111111112,
          1.8888888888888888,
          1.8888888888888888,
          1.8888888888888888,
          1.8888888888888888,
          1.8888888888888888,
          1.8888888888888888,
          1.8888888888888888,
          1.8888888888888888,
          1.8888888888888888,
          1.8888888888888888,
          2.166666666666667,
          2.166666666666667,
          2.166666666666667,
          2.166666666666667,
          2.166666666666667,
          2.166666666666667,
          2.166666666666667,
          2.166666666666667,
          2.166666666666667,
          2.166666666666667,
          2.4444444444444446,
          2.4444444444444446,
          2.4444444444444446,
          2.4444444444444446,
          2.4444444444444446,
          2.4444444444444446,
          2.4444444444444446,
          2.4444444444444446,
          2.4444444444444446,
          2.4444444444444446,
          2.7222222222222223,
          2.7222222222222223,
          2.7222222222222223,
          2.7222222222222223,
          2.7222222222222223,
          2.7222222222222223,
          2.7222222222222223,
          2.7222222222222223,
          2.7222222222222223,
          2.7222222222222223,
          3,
          3,
          3,
          3,
          3,
          3,
          3,
          3,
          3,
          3
         ],
         "y": [
          0,
          0.1111111111111111,
          0.2222222222222222,
          0.3333333333333333,
          0.4444444444444444,
          0.5555555555555556,
          0.6666666666666666,
          0.7777777777777777,
          0.8888888888888888,
          1,
          0,
          0.1111111111111111,
          0.2222222222222222,
          0.3333333333333333,
          0.4444444444444444,
          0.5555555555555556,
          0.6666666666666666,
          0.7777777777777777,
          0.8888888888888888,
          1,
          0,
          0.1111111111111111,
          0.2222222222222222,
          0.3333333333333333,
          0.4444444444444444,
          0.5555555555555556,
          0.6666666666666666,
          0.7777777777777777,
          0.8888888888888888,
          1,
          0,
          0.1111111111111111,
          0.2222222222222222,
          0.3333333333333333,
          0.4444444444444444,
          0.5555555555555556,
          0.6666666666666666,
          0.7777777777777777,
          0.8888888888888888,
          1,
          0,
          0.1111111111111111,
          0.2222222222222222,
          0.3333333333333333,
          0.4444444444444444,
          0.5555555555555556,
          0.6666666666666666,
          0.7777777777777777,
          0.8888888888888888,
          1,
          0,
          0.1111111111111111,
          0.2222222222222222,
          0.3333333333333333,
          0.4444444444444444,
          0.5555555555555556,
          0.6666666666666666,
          0.7777777777777777,
          0.8888888888888888,
          1,
          0,
          0.1111111111111111,
          0.2222222222222222,
          0.3333333333333333,
          0.4444444444444444,
          0.5555555555555556,
          0.6666666666666666,
          0.7777777777777777,
          0.8888888888888888,
          1,
          0,
          0.1111111111111111,
          0.2222222222222222,
          0.3333333333333333,
          0.4444444444444444,
          0.5555555555555556,
          0.6666666666666666,
          0.7777777777777777,
          0.8888888888888888,
          1,
          0,
          0.1111111111111111,
          0.2222222222222222,
          0.3333333333333333,
          0.4444444444444444,
          0.5555555555555556,
          0.6666666666666666,
          0.7777777777777777,
          0.8888888888888888,
          1
         ],
         "z": [
          0.38265943780347067,
          0.33920426709778556,
          0.33559406690917104,
          0.3543966626364088,
          0.3858064560663133,
          0.4243077982039679,
          0.46679813648973195,
          0.5115322851088075,
          0.5502369103737043,
          0.5720082620852087,
          0.3663051776939626,
          0.32369801437363943,
          0.327423229643804,
          0.3536885209850167,
          0.39091925473917155,
          0.4334845280455687,
          0.4786449827557593,
          0.5250679581488765,
          0.5635465742345886,
          0.5822659009789891,
          0.34750171266446467,
          0.3108340673323896,
          0.3223302465438132,
          0.35446806484530774,
          0.3954522998996897,
          0.44022785641959494,
          0.4866282649961529,
          0.5337250387398478,
          0.5715964451742205,
          0.5878270479318087,
          0.3309003283872581,
          0.30155048037526194,
          0.319692078603697,
          0.35602189028591436,
          0.3993174007376652,
          0.44528062561179077,
          0.4922655283498043,
          0.5396417119718602,
          0.5768840599041167,
          0.5911470867717893,
          0.3167157498166084,
          0.29488878519292855,
          0.3184688285741089,
          0.3577666824185102,
          0.4025053168078725,
          0.44912729830895215,
          0.4964012076563955,
          0.5439007843352723,
          0.5805810407314405,
          0.5932780525608833,
          0.30464419704930146,
          0.2900630797699548,
          0.3180399700526674,
          0.35945623114445135,
          0.4051165040706788,
          0.4521169912604149,
          0.49954070400704825,
          0.547098066929544,
          0.5832941263988033,
          0.5947244609680431,
          0.2943209264561599,
          0.2865232797238314,
          0.31805360962796336,
          0.36100173920074513,
          0.40726471383861873,
          0.45449006285022875,
          0.5019948108735687,
          0.5495806747390236,
          0.5853621313758456,
          0.5957502962058907,
          0.2854254527120303,
          0.2838953952559683,
          0.3183102056906581,
          0.36238184630495296,
          0.4090478592063057,
          0.45641086764746513,
          0.503961128621707,
          0.5515616962466278,
          0.5869867243647656,
          0.5965038960979967,
          0.27769740259592773,
          0.2819243506489819,
          0.31869537337653114,
          0.3636024147727042,
          0.41054346083603316,
          0.4579930080661511,
          0.5055696805879663,
          0.5531781344327058,
          0.5882945336081764,
          0.5970736334020441
         ]
        }
       ],
       "layout": {
        "coloraxis": {
         "colorbar": {
          "title": {
           "text": "color"
          }
         },
         "colorscale": [
          [
           0,
           "#0d0887"
          ],
          [
           0.1111111111111111,
           "#46039f"
          ],
          [
           0.2222222222222222,
           "#7201a8"
          ],
          [
           0.3333333333333333,
           "#9c179e"
          ],
          [
           0.4444444444444444,
           "#bd3786"
          ],
          [
           0.5555555555555556,
           "#d8576b"
          ],
          [
           0.6666666666666666,
           "#ed7953"
          ],
          [
           0.7777777777777778,
           "#fb9f3a"
          ],
          [
           0.8888888888888888,
           "#fdca26"
          ],
          [
           1,
           "#f0f921"
          ]
         ]
        },
        "legend": {
         "tracegroupgap": 0
        },
        "scene": {
         "domain": {
          "x": [
           0,
           1
          ],
          "y": [
           0,
           1
          ]
         },
         "xaxis": {
          "title": {
           "text": "Weight of Parent Node"
          }
         },
         "yaxis": {
          "title": {
           "text": "Probability of Correct Answer"
          }
         },
         "zaxis": {
          "title": {
           "text": "Final Probability"
          }
         }
        },
        "template": {
         "data": {
          "bar": [
           {
            "error_x": {
             "color": "#2a3f5f"
            },
            "error_y": {
             "color": "#2a3f5f"
            },
            "marker": {
             "line": {
              "color": "#E5ECF6",
              "width": 0.5
             },
             "pattern": {
              "fillmode": "overlay",
              "size": 10,
              "solidity": 0.2
             }
            },
            "type": "bar"
           }
          ],
          "barpolar": [
           {
            "marker": {
             "line": {
              "color": "#E5ECF6",
              "width": 0.5
             },
             "pattern": {
              "fillmode": "overlay",
              "size": 10,
              "solidity": 0.2
             }
            },
            "type": "barpolar"
           }
          ],
          "carpet": [
           {
            "aaxis": {
             "endlinecolor": "#2a3f5f",
             "gridcolor": "white",
             "linecolor": "white",
             "minorgridcolor": "white",
             "startlinecolor": "#2a3f5f"
            },
            "baxis": {
             "endlinecolor": "#2a3f5f",
             "gridcolor": "white",
             "linecolor": "white",
             "minorgridcolor": "white",
             "startlinecolor": "#2a3f5f"
            },
            "type": "carpet"
           }
          ],
          "choropleth": [
           {
            "colorbar": {
             "outlinewidth": 0,
             "ticks": ""
            },
            "type": "choropleth"
           }
          ],
          "contour": [
           {
            "colorbar": {
             "outlinewidth": 0,
             "ticks": ""
            },
            "colorscale": [
             [
              0,
              "#0d0887"
             ],
             [
              0.1111111111111111,
              "#46039f"
             ],
             [
              0.2222222222222222,
              "#7201a8"
             ],
             [
              0.3333333333333333,
              "#9c179e"
             ],
             [
              0.4444444444444444,
              "#bd3786"
             ],
             [
              0.5555555555555556,
              "#d8576b"
             ],
             [
              0.6666666666666666,
              "#ed7953"
             ],
             [
              0.7777777777777778,
              "#fb9f3a"
             ],
             [
              0.8888888888888888,
              "#fdca26"
             ],
             [
              1,
              "#f0f921"
             ]
            ],
            "type": "contour"
           }
          ],
          "contourcarpet": [
           {
            "colorbar": {
             "outlinewidth": 0,
             "ticks": ""
            },
            "type": "contourcarpet"
           }
          ],
          "heatmap": [
           {
            "colorbar": {
             "outlinewidth": 0,
             "ticks": ""
            },
            "colorscale": [
             [
              0,
              "#0d0887"
             ],
             [
              0.1111111111111111,
              "#46039f"
             ],
             [
              0.2222222222222222,
              "#7201a8"
             ],
             [
              0.3333333333333333,
              "#9c179e"
             ],
             [
              0.4444444444444444,
              "#bd3786"
             ],
             [
              0.5555555555555556,
              "#d8576b"
             ],
             [
              0.6666666666666666,
              "#ed7953"
             ],
             [
              0.7777777777777778,
              "#fb9f3a"
             ],
             [
              0.8888888888888888,
              "#fdca26"
             ],
             [
              1,
              "#f0f921"
             ]
            ],
            "type": "heatmap"
           }
          ],
          "heatmapgl": [
           {
            "colorbar": {
             "outlinewidth": 0,
             "ticks": ""
            },
            "colorscale": [
             [
              0,
              "#0d0887"
             ],
             [
              0.1111111111111111,
              "#46039f"
             ],
             [
              0.2222222222222222,
              "#7201a8"
             ],
             [
              0.3333333333333333,
              "#9c179e"
             ],
             [
              0.4444444444444444,
              "#bd3786"
             ],
             [
              0.5555555555555556,
              "#d8576b"
             ],
             [
              0.6666666666666666,
              "#ed7953"
             ],
             [
              0.7777777777777778,
              "#fb9f3a"
             ],
             [
              0.8888888888888888,
              "#fdca26"
             ],
             [
              1,
              "#f0f921"
             ]
            ],
            "type": "heatmapgl"
           }
          ],
          "histogram": [
           {
            "marker": {
             "pattern": {
              "fillmode": "overlay",
              "size": 10,
              "solidity": 0.2
             }
            },
            "type": "histogram"
           }
          ],
          "histogram2d": [
           {
            "colorbar": {
             "outlinewidth": 0,
             "ticks": ""
            },
            "colorscale": [
             [
              0,
              "#0d0887"
             ],
             [
              0.1111111111111111,
              "#46039f"
             ],
             [
              0.2222222222222222,
              "#7201a8"
             ],
             [
              0.3333333333333333,
              "#9c179e"
             ],
             [
              0.4444444444444444,
              "#bd3786"
             ],
             [
              0.5555555555555556,
              "#d8576b"
             ],
             [
              0.6666666666666666,
              "#ed7953"
             ],
             [
              0.7777777777777778,
              "#fb9f3a"
             ],
             [
              0.8888888888888888,
              "#fdca26"
             ],
             [
              1,
              "#f0f921"
             ]
            ],
            "type": "histogram2d"
           }
          ],
          "histogram2dcontour": [
           {
            "colorbar": {
             "outlinewidth": 0,
             "ticks": ""
            },
            "colorscale": [
             [
              0,
              "#0d0887"
             ],
             [
              0.1111111111111111,
              "#46039f"
             ],
             [
              0.2222222222222222,
              "#7201a8"
             ],
             [
              0.3333333333333333,
              "#9c179e"
             ],
             [
              0.4444444444444444,
              "#bd3786"
             ],
             [
              0.5555555555555556,
              "#d8576b"
             ],
             [
              0.6666666666666666,
              "#ed7953"
             ],
             [
              0.7777777777777778,
              "#fb9f3a"
             ],
             [
              0.8888888888888888,
              "#fdca26"
             ],
             [
              1,
              "#f0f921"
             ]
            ],
            "type": "histogram2dcontour"
           }
          ],
          "mesh3d": [
           {
            "colorbar": {
             "outlinewidth": 0,
             "ticks": ""
            },
            "type": "mesh3d"
           }
          ],
          "parcoords": [
           {
            "line": {
             "colorbar": {
              "outlinewidth": 0,
              "ticks": ""
             }
            },
            "type": "parcoords"
           }
          ],
          "pie": [
           {
            "automargin": true,
            "type": "pie"
           }
          ],
          "scatter": [
           {
            "fillpattern": {
             "fillmode": "overlay",
             "size": 10,
             "solidity": 0.2
            },
            "type": "scatter"
           }
          ],
          "scatter3d": [
           {
            "line": {
             "colorbar": {
              "outlinewidth": 0,
              "ticks": ""
             }
            },
            "marker": {
             "colorbar": {
              "outlinewidth": 0,
              "ticks": ""
             }
            },
            "type": "scatter3d"
           }
          ],
          "scattercarpet": [
           {
            "marker": {
             "colorbar": {
              "outlinewidth": 0,
              "ticks": ""
             }
            },
            "type": "scattercarpet"
           }
          ],
          "scattergeo": [
           {
            "marker": {
             "colorbar": {
              "outlinewidth": 0,
              "ticks": ""
             }
            },
            "type": "scattergeo"
           }
          ],
          "scattergl": [
           {
            "marker": {
             "colorbar": {
              "outlinewidth": 0,
              "ticks": ""
             }
            },
            "type": "scattergl"
           }
          ],
          "scattermapbox": [
           {
            "marker": {
             "colorbar": {
              "outlinewidth": 0,
              "ticks": ""
             }
            },
            "type": "scattermapbox"
           }
          ],
          "scatterpolar": [
           {
            "marker": {
             "colorbar": {
              "outlinewidth": 0,
              "ticks": ""
             }
            },
            "type": "scatterpolar"
           }
          ],
          "scatterpolargl": [
           {
            "marker": {
             "colorbar": {
              "outlinewidth": 0,
              "ticks": ""
             }
            },
            "type": "scatterpolargl"
           }
          ],
          "scatterternary": [
           {
            "marker": {
             "colorbar": {
              "outlinewidth": 0,
              "ticks": ""
             }
            },
            "type": "scatterternary"
           }
          ],
          "surface": [
           {
            "colorbar": {
             "outlinewidth": 0,
             "ticks": ""
            },
            "colorscale": [
             [
              0,
              "#0d0887"
             ],
             [
              0.1111111111111111,
              "#46039f"
             ],
             [
              0.2222222222222222,
              "#7201a8"
             ],
             [
              0.3333333333333333,
              "#9c179e"
             ],
             [
              0.4444444444444444,
              "#bd3786"
             ],
             [
              0.5555555555555556,
              "#d8576b"
             ],
             [
              0.6666666666666666,
              "#ed7953"
             ],
             [
              0.7777777777777778,
              "#fb9f3a"
             ],
             [
              0.8888888888888888,
              "#fdca26"
             ],
             [
              1,
              "#f0f921"
             ]
            ],
            "type": "surface"
           }
          ],
          "table": [
           {
            "cells": {
             "fill": {
              "color": "#EBF0F8"
             },
             "line": {
              "color": "white"
             }
            },
            "header": {
             "fill": {
              "color": "#C8D4E3"
             },
             "line": {
              "color": "white"
             }
            },
            "type": "table"
           }
          ]
         },
         "layout": {
          "annotationdefaults": {
           "arrowcolor": "#2a3f5f",
           "arrowhead": 0,
           "arrowwidth": 1
          },
          "autotypenumbers": "strict",
          "coloraxis": {
           "colorbar": {
            "outlinewidth": 0,
            "ticks": ""
           }
          },
          "colorscale": {
           "diverging": [
            [
             0,
             "#8e0152"
            ],
            [
             0.1,
             "#c51b7d"
            ],
            [
             0.2,
             "#de77ae"
            ],
            [
             0.3,
             "#f1b6da"
            ],
            [
             0.4,
             "#fde0ef"
            ],
            [
             0.5,
             "#f7f7f7"
            ],
            [
             0.6,
             "#e6f5d0"
            ],
            [
             0.7,
             "#b8e186"
            ],
            [
             0.8,
             "#7fbc41"
            ],
            [
             0.9,
             "#4d9221"
            ],
            [
             1,
             "#276419"
            ]
           ],
           "sequential": [
            [
             0,
             "#0d0887"
            ],
            [
             0.1111111111111111,
             "#46039f"
            ],
            [
             0.2222222222222222,
             "#7201a8"
            ],
            [
             0.3333333333333333,
             "#9c179e"
            ],
            [
             0.4444444444444444,
             "#bd3786"
            ],
            [
             0.5555555555555556,
             "#d8576b"
            ],
            [
             0.6666666666666666,
             "#ed7953"
            ],
            [
             0.7777777777777778,
             "#fb9f3a"
            ],
            [
             0.8888888888888888,
             "#fdca26"
            ],
            [
             1,
             "#f0f921"
            ]
           ],
           "sequentialminus": [
            [
             0,
             "#0d0887"
            ],
            [
             0.1111111111111111,
             "#46039f"
            ],
            [
             0.2222222222222222,
             "#7201a8"
            ],
            [
             0.3333333333333333,
             "#9c179e"
            ],
            [
             0.4444444444444444,
             "#bd3786"
            ],
            [
             0.5555555555555556,
             "#d8576b"
            ],
            [
             0.6666666666666666,
             "#ed7953"
            ],
            [
             0.7777777777777778,
             "#fb9f3a"
            ],
            [
             0.8888888888888888,
             "#fdca26"
            ],
            [
             1,
             "#f0f921"
            ]
           ]
          },
          "colorway": [
           "#636efa",
           "#EF553B",
           "#00cc96",
           "#ab63fa",
           "#FFA15A",
           "#19d3f3",
           "#FF6692",
           "#B6E880",
           "#FF97FF",
           "#FECB52"
          ],
          "font": {
           "color": "#2a3f5f"
          },
          "geo": {
           "bgcolor": "white",
           "lakecolor": "white",
           "landcolor": "#E5ECF6",
           "showlakes": true,
           "showland": true,
           "subunitcolor": "white"
          },
          "hoverlabel": {
           "align": "left"
          },
          "hovermode": "closest",
          "mapbox": {
           "style": "light"
          },
          "paper_bgcolor": "white",
          "plot_bgcolor": "#E5ECF6",
          "polar": {
           "angularaxis": {
            "gridcolor": "white",
            "linecolor": "white",
            "ticks": ""
           },
           "bgcolor": "#E5ECF6",
           "radialaxis": {
            "gridcolor": "white",
            "linecolor": "white",
            "ticks": ""
           }
          },
          "scene": {
           "xaxis": {
            "backgroundcolor": "#E5ECF6",
            "gridcolor": "white",
            "gridwidth": 2,
            "linecolor": "white",
            "showbackground": true,
            "ticks": "",
            "zerolinecolor": "white"
           },
           "yaxis": {
            "backgroundcolor": "#E5ECF6",
            "gridcolor": "white",
            "gridwidth": 2,
            "linecolor": "white",
            "showbackground": true,
            "ticks": "",
            "zerolinecolor": "white"
           },
           "zaxis": {
            "backgroundcolor": "#E5ECF6",
            "gridcolor": "white",
            "gridwidth": 2,
            "linecolor": "white",
            "showbackground": true,
            "ticks": "",
            "zerolinecolor": "white"
           }
          },
          "shapedefaults": {
           "line": {
            "color": "#2a3f5f"
           }
          },
          "ternary": {
           "aaxis": {
            "gridcolor": "white",
            "linecolor": "white",
            "ticks": ""
           },
           "baxis": {
            "gridcolor": "white",
            "linecolor": "white",
            "ticks": ""
           },
           "bgcolor": "#E5ECF6",
           "caxis": {
            "gridcolor": "white",
            "linecolor": "white",
            "ticks": ""
           }
          },
          "title": {
           "x": 0.05
          },
          "xaxis": {
           "automargin": true,
           "gridcolor": "white",
           "linecolor": "white",
           "ticks": "",
           "title": {
            "standoff": 15
           },
           "zerolinecolor": "white",
           "zerolinewidth": 2
          },
          "yaxis": {
           "automargin": true,
           "gridcolor": "white",
           "linecolor": "white",
           "ticks": "",
           "title": {
            "standoff": 15
           },
           "zerolinecolor": "white",
           "zerolinewidth": 2
          }
         }
        },
        "title": {
         "text": "3D Scatter Plot for Operators (Parent of Control Structures)"
        }
       }
      }
     },
     "metadata": {},
     "output_type": "display_data"
    },
    {
     "data": {
      "application/vnd.plotly.v1+json": {
       "config": {
        "plotlyServerURL": "https://plot.ly"
       },
       "data": [
        {
         "hovertemplate": "Weight of Parent Node=%{x}<br>Probability of Correct Answer=%{y}<br>Final Probability=%{z}<br>color=%{marker.color}<extra></extra>",
         "legendgroup": "",
         "marker": {
          "color": [
           0.419835223748502,
           0.37018509113631015,
           0.37003466931973,
           0.3977278348256815,
           0.4410830182005569,
           0.49324808662670216,
           0.5503687153941866,
           0.6102768468536746,
           0.6495307263551919,
           0.6716110335747955,
           0.392752858032526,
           0.34838341527622674,
           0.359402313566384,
           0.3973668912845472,
           0.44844017791363217,
           0.5058906742831657,
           0.5664435970129174,
           0.6285058082422343,
           0.6652190418475734,
           0.6830795338717925,
           0.3662177594144417,
           0.33200715766287864,
           0.353626650336245,
           0.3991733263345812,
           0.45497450947219004,
           0.5151704813837731,
           0.5772499341984878,
           0.6401365931145446,
           0.6743442541919477,
           0.6890046803679776,
           0.3432054398977665,
           0.320464359623123,
           0.3509309638002774,
           0.40177497904407783,
           0.46042310916446605,
           0.5220600492375902,
           0.584841639930911,
           0.6480616074574984,
           0.6801087007284036,
           0.692382055598112,
           0.3237366456191267,
           0.3123679353272557,
           0.3499466540479572,
           0.40446871358070313,
           0.4648557757022336,
           0.5272730310275741,
           0.5903930455388489,
           0.6537563228452546,
           0.6839925732925882,
           0.6944589676782036,
           0.30727275671041016,
           0.30664085383169176,
           0.34988324373298196,
           0.40698067345953814,
           0.4684533789203888,
           0.5313077504025957,
           0.5945984374704938,
           0.6580269084075577,
           0.6867453394971235,
           0.6958143177359338,
           0.2932548480062849,
           0.3025476184431969,
           0.35030440330634544,
           0.40922816009969165,
           0.47139394100180493,
           0.5345009547096894,
           0.5978812295547332,
           0.661340838278307,
           0.6887763724033795,
           0.6967415274719488,
           0.28121414170888176,
           0.29959650241598484,
           0.3509695412792529,
           0.41120574740835647,
           0.473823102952162,
           0.537080170279022,
           0.6005091004729711,
           0.6639842027804664,
           0.6903241141798268,
           0.6974005082871176,
           0.27077869850035086,
           0.2974565793869925,
           0.3517450972277005,
           0.4129362743069251,
           0.4758531161957788,
           0.53920137428704,
           0.6026574864289028,
           0.6661405620834161,
           0.691535140520854,
           0.6978837851302134
          ],
          "coloraxis": "coloraxis",
          "symbol": "circle"
         },
         "mode": "markers",
         "name": "",
         "scene": "scene",
         "showlegend": false,
         "type": "scatter3d",
         "x": [
          0.7777777777777778,
          0.7777777777777778,
          0.7777777777777778,
          0.7777777777777778,
          0.7777777777777778,
          0.7777777777777778,
          0.7777777777777778,
          0.7777777777777778,
          0.7777777777777778,
          0.7777777777777778,
          1.0555555555555556,
          1.0555555555555556,
          1.0555555555555556,
          1.0555555555555556,
          1.0555555555555556,
          1.0555555555555556,
          1.0555555555555556,
          1.0555555555555556,
          1.0555555555555556,
          1.0555555555555556,
          1.3333333333333335,
          1.3333333333333335,
          1.3333333333333335,
          1.3333333333333335,
          1.3333333333333335,
          1.3333333333333335,
          1.3333333333333335,
          1.3333333333333335,
          1.3333333333333335,
          1.3333333333333335,
          1.6111111111111112,
          1.6111111111111112,
          1.6111111111111112,
          1.6111111111111112,
          1.6111111111111112,
          1.6111111111111112,
          1.6111111111111112,
          1.6111111111111112,
          1.6111111111111112,
          1.6111111111111112,
          1.8888888888888888,
          1.8888888888888888,
          1.8888888888888888,
          1.8888888888888888,
          1.8888888888888888,
          1.8888888888888888,
          1.8888888888888888,
          1.8888888888888888,
          1.8888888888888888,
          1.8888888888888888,
          2.166666666666667,
          2.166666666666667,
          2.166666666666667,
          2.166666666666667,
          2.166666666666667,
          2.166666666666667,
          2.166666666666667,
          2.166666666666667,
          2.166666666666667,
          2.166666666666667,
          2.4444444444444446,
          2.4444444444444446,
          2.4444444444444446,
          2.4444444444444446,
          2.4444444444444446,
          2.4444444444444446,
          2.4444444444444446,
          2.4444444444444446,
          2.4444444444444446,
          2.4444444444444446,
          2.7222222222222223,
          2.7222222222222223,
          2.7222222222222223,
          2.7222222222222223,
          2.7222222222222223,
          2.7222222222222223,
          2.7222222222222223,
          2.7222222222222223,
          2.7222222222222223,
          2.7222222222222223,
          3,
          3,
          3,
          3,
          3,
          3,
          3,
          3,
          3,
          3
         ],
         "y": [
          0,
          0.1111111111111111,
          0.2222222222222222,
          0.3333333333333333,
          0.4444444444444444,
          0.5555555555555556,
          0.6666666666666666,
          0.7777777777777777,
          0.8888888888888888,
          1,
          0,
          0.1111111111111111,
          0.2222222222222222,
          0.3333333333333333,
          0.4444444444444444,
          0.5555555555555556,
          0.6666666666666666,
          0.7777777777777777,
          0.8888888888888888,
          1,
          0,
          0.1111111111111111,
          0.2222222222222222,
          0.3333333333333333,
          0.4444444444444444,
          0.5555555555555556,
          0.6666666666666666,
          0.7777777777777777,
          0.8888888888888888,
          1,
          0,
          0.1111111111111111,
          0.2222222222222222,
          0.3333333333333333,
          0.4444444444444444,
          0.5555555555555556,
          0.6666666666666666,
          0.7777777777777777,
          0.8888888888888888,
          1,
          0,
          0.1111111111111111,
          0.2222222222222222,
          0.3333333333333333,
          0.4444444444444444,
          0.5555555555555556,
          0.6666666666666666,
          0.7777777777777777,
          0.8888888888888888,
          1,
          0,
          0.1111111111111111,
          0.2222222222222222,
          0.3333333333333333,
          0.4444444444444444,
          0.5555555555555556,
          0.6666666666666666,
          0.7777777777777777,
          0.8888888888888888,
          1,
          0,
          0.1111111111111111,
          0.2222222222222222,
          0.3333333333333333,
          0.4444444444444444,
          0.5555555555555556,
          0.6666666666666666,
          0.7777777777777777,
          0.8888888888888888,
          1,
          0,
          0.1111111111111111,
          0.2222222222222222,
          0.3333333333333333,
          0.4444444444444444,
          0.5555555555555556,
          0.6666666666666666,
          0.7777777777777777,
          0.8888888888888888,
          1,
          0,
          0.1111111111111111,
          0.2222222222222222,
          0.3333333333333333,
          0.4444444444444444,
          0.5555555555555556,
          0.6666666666666666,
          0.7777777777777777,
          0.8888888888888888,
          1
         ],
         "z": [
          0.419835223748502,
          0.37018509113631015,
          0.37003466931973,
          0.3977278348256815,
          0.4410830182005569,
          0.49324808662670216,
          0.5503687153941866,
          0.6102768468536746,
          0.6495307263551919,
          0.6716110335747955,
          0.392752858032526,
          0.34838341527622674,
          0.359402313566384,
          0.3973668912845472,
          0.44844017791363217,
          0.5058906742831657,
          0.5664435970129174,
          0.6285058082422343,
          0.6652190418475734,
          0.6830795338717925,
          0.3662177594144417,
          0.33200715766287864,
          0.353626650336245,
          0.3991733263345812,
          0.45497450947219004,
          0.5151704813837731,
          0.5772499341984878,
          0.6401365931145446,
          0.6743442541919477,
          0.6890046803679776,
          0.3432054398977665,
          0.320464359623123,
          0.3509309638002774,
          0.40177497904407783,
          0.46042310916446605,
          0.5220600492375902,
          0.584841639930911,
          0.6480616074574984,
          0.6801087007284036,
          0.692382055598112,
          0.3237366456191267,
          0.3123679353272557,
          0.3499466540479572,
          0.40446871358070313,
          0.4648557757022336,
          0.5272730310275741,
          0.5903930455388489,
          0.6537563228452546,
          0.6839925732925882,
          0.6944589676782036,
          0.30727275671041016,
          0.30664085383169176,
          0.34988324373298196,
          0.40698067345953814,
          0.4684533789203888,
          0.5313077504025957,
          0.5945984374704938,
          0.6580269084075577,
          0.6867453394971235,
          0.6958143177359338,
          0.2932548480062849,
          0.3025476184431969,
          0.35030440330634544,
          0.40922816009969165,
          0.47139394100180493,
          0.5345009547096894,
          0.5978812295547332,
          0.661340838278307,
          0.6887763724033795,
          0.6967415274719488,
          0.28121414170888176,
          0.29959650241598484,
          0.3509695412792529,
          0.41120574740835647,
          0.473823102952162,
          0.537080170279022,
          0.6005091004729711,
          0.6639842027804664,
          0.6903241141798268,
          0.6974005082871176,
          0.27077869850035086,
          0.2974565793869925,
          0.3517450972277005,
          0.4129362743069251,
          0.4758531161957788,
          0.53920137428704,
          0.6026574864289028,
          0.6661405620834161,
          0.691535140520854,
          0.6978837851302134
         ]
        }
       ],
       "layout": {
        "coloraxis": {
         "colorbar": {
          "title": {
           "text": "color"
          }
         },
         "colorscale": [
          [
           0,
           "#0d0887"
          ],
          [
           0.1111111111111111,
           "#46039f"
          ],
          [
           0.2222222222222222,
           "#7201a8"
          ],
          [
           0.3333333333333333,
           "#9c179e"
          ],
          [
           0.4444444444444444,
           "#bd3786"
          ],
          [
           0.5555555555555556,
           "#d8576b"
          ],
          [
           0.6666666666666666,
           "#ed7953"
          ],
          [
           0.7777777777777778,
           "#fb9f3a"
          ],
          [
           0.8888888888888888,
           "#fdca26"
          ],
          [
           1,
           "#f0f921"
          ]
         ]
        },
        "legend": {
         "tracegroupgap": 0
        },
        "scene": {
         "domain": {
          "x": [
           0,
           1
          ],
          "y": [
           0,
           1
          ]
         },
         "xaxis": {
          "title": {
           "text": "Weight of Parent Node"
          }
         },
         "yaxis": {
          "title": {
           "text": "Probability of Correct Answer"
          }
         },
         "zaxis": {
          "title": {
           "text": "Final Probability"
          }
         }
        },
        "template": {
         "data": {
          "bar": [
           {
            "error_x": {
             "color": "#2a3f5f"
            },
            "error_y": {
             "color": "#2a3f5f"
            },
            "marker": {
             "line": {
              "color": "#E5ECF6",
              "width": 0.5
             },
             "pattern": {
              "fillmode": "overlay",
              "size": 10,
              "solidity": 0.2
             }
            },
            "type": "bar"
           }
          ],
          "barpolar": [
           {
            "marker": {
             "line": {
              "color": "#E5ECF6",
              "width": 0.5
             },
             "pattern": {
              "fillmode": "overlay",
              "size": 10,
              "solidity": 0.2
             }
            },
            "type": "barpolar"
           }
          ],
          "carpet": [
           {
            "aaxis": {
             "endlinecolor": "#2a3f5f",
             "gridcolor": "white",
             "linecolor": "white",
             "minorgridcolor": "white",
             "startlinecolor": "#2a3f5f"
            },
            "baxis": {
             "endlinecolor": "#2a3f5f",
             "gridcolor": "white",
             "linecolor": "white",
             "minorgridcolor": "white",
             "startlinecolor": "#2a3f5f"
            },
            "type": "carpet"
           }
          ],
          "choropleth": [
           {
            "colorbar": {
             "outlinewidth": 0,
             "ticks": ""
            },
            "type": "choropleth"
           }
          ],
          "contour": [
           {
            "colorbar": {
             "outlinewidth": 0,
             "ticks": ""
            },
            "colorscale": [
             [
              0,
              "#0d0887"
             ],
             [
              0.1111111111111111,
              "#46039f"
             ],
             [
              0.2222222222222222,
              "#7201a8"
             ],
             [
              0.3333333333333333,
              "#9c179e"
             ],
             [
              0.4444444444444444,
              "#bd3786"
             ],
             [
              0.5555555555555556,
              "#d8576b"
             ],
             [
              0.6666666666666666,
              "#ed7953"
             ],
             [
              0.7777777777777778,
              "#fb9f3a"
             ],
             [
              0.8888888888888888,
              "#fdca26"
             ],
             [
              1,
              "#f0f921"
             ]
            ],
            "type": "contour"
           }
          ],
          "contourcarpet": [
           {
            "colorbar": {
             "outlinewidth": 0,
             "ticks": ""
            },
            "type": "contourcarpet"
           }
          ],
          "heatmap": [
           {
            "colorbar": {
             "outlinewidth": 0,
             "ticks": ""
            },
            "colorscale": [
             [
              0,
              "#0d0887"
             ],
             [
              0.1111111111111111,
              "#46039f"
             ],
             [
              0.2222222222222222,
              "#7201a8"
             ],
             [
              0.3333333333333333,
              "#9c179e"
             ],
             [
              0.4444444444444444,
              "#bd3786"
             ],
             [
              0.5555555555555556,
              "#d8576b"
             ],
             [
              0.6666666666666666,
              "#ed7953"
             ],
             [
              0.7777777777777778,
              "#fb9f3a"
             ],
             [
              0.8888888888888888,
              "#fdca26"
             ],
             [
              1,
              "#f0f921"
             ]
            ],
            "type": "heatmap"
           }
          ],
          "heatmapgl": [
           {
            "colorbar": {
             "outlinewidth": 0,
             "ticks": ""
            },
            "colorscale": [
             [
              0,
              "#0d0887"
             ],
             [
              0.1111111111111111,
              "#46039f"
             ],
             [
              0.2222222222222222,
              "#7201a8"
             ],
             [
              0.3333333333333333,
              "#9c179e"
             ],
             [
              0.4444444444444444,
              "#bd3786"
             ],
             [
              0.5555555555555556,
              "#d8576b"
             ],
             [
              0.6666666666666666,
              "#ed7953"
             ],
             [
              0.7777777777777778,
              "#fb9f3a"
             ],
             [
              0.8888888888888888,
              "#fdca26"
             ],
             [
              1,
              "#f0f921"
             ]
            ],
            "type": "heatmapgl"
           }
          ],
          "histogram": [
           {
            "marker": {
             "pattern": {
              "fillmode": "overlay",
              "size": 10,
              "solidity": 0.2
             }
            },
            "type": "histogram"
           }
          ],
          "histogram2d": [
           {
            "colorbar": {
             "outlinewidth": 0,
             "ticks": ""
            },
            "colorscale": [
             [
              0,
              "#0d0887"
             ],
             [
              0.1111111111111111,
              "#46039f"
             ],
             [
              0.2222222222222222,
              "#7201a8"
             ],
             [
              0.3333333333333333,
              "#9c179e"
             ],
             [
              0.4444444444444444,
              "#bd3786"
             ],
             [
              0.5555555555555556,
              "#d8576b"
             ],
             [
              0.6666666666666666,
              "#ed7953"
             ],
             [
              0.7777777777777778,
              "#fb9f3a"
             ],
             [
              0.8888888888888888,
              "#fdca26"
             ],
             [
              1,
              "#f0f921"
             ]
            ],
            "type": "histogram2d"
           }
          ],
          "histogram2dcontour": [
           {
            "colorbar": {
             "outlinewidth": 0,
             "ticks": ""
            },
            "colorscale": [
             [
              0,
              "#0d0887"
             ],
             [
              0.1111111111111111,
              "#46039f"
             ],
             [
              0.2222222222222222,
              "#7201a8"
             ],
             [
              0.3333333333333333,
              "#9c179e"
             ],
             [
              0.4444444444444444,
              "#bd3786"
             ],
             [
              0.5555555555555556,
              "#d8576b"
             ],
             [
              0.6666666666666666,
              "#ed7953"
             ],
             [
              0.7777777777777778,
              "#fb9f3a"
             ],
             [
              0.8888888888888888,
              "#fdca26"
             ],
             [
              1,
              "#f0f921"
             ]
            ],
            "type": "histogram2dcontour"
           }
          ],
          "mesh3d": [
           {
            "colorbar": {
             "outlinewidth": 0,
             "ticks": ""
            },
            "type": "mesh3d"
           }
          ],
          "parcoords": [
           {
            "line": {
             "colorbar": {
              "outlinewidth": 0,
              "ticks": ""
             }
            },
            "type": "parcoords"
           }
          ],
          "pie": [
           {
            "automargin": true,
            "type": "pie"
           }
          ],
          "scatter": [
           {
            "fillpattern": {
             "fillmode": "overlay",
             "size": 10,
             "solidity": 0.2
            },
            "type": "scatter"
           }
          ],
          "scatter3d": [
           {
            "line": {
             "colorbar": {
              "outlinewidth": 0,
              "ticks": ""
             }
            },
            "marker": {
             "colorbar": {
              "outlinewidth": 0,
              "ticks": ""
             }
            },
            "type": "scatter3d"
           }
          ],
          "scattercarpet": [
           {
            "marker": {
             "colorbar": {
              "outlinewidth": 0,
              "ticks": ""
             }
            },
            "type": "scattercarpet"
           }
          ],
          "scattergeo": [
           {
            "marker": {
             "colorbar": {
              "outlinewidth": 0,
              "ticks": ""
             }
            },
            "type": "scattergeo"
           }
          ],
          "scattergl": [
           {
            "marker": {
             "colorbar": {
              "outlinewidth": 0,
              "ticks": ""
             }
            },
            "type": "scattergl"
           }
          ],
          "scattermapbox": [
           {
            "marker": {
             "colorbar": {
              "outlinewidth": 0,
              "ticks": ""
             }
            },
            "type": "scattermapbox"
           }
          ],
          "scatterpolar": [
           {
            "marker": {
             "colorbar": {
              "outlinewidth": 0,
              "ticks": ""
             }
            },
            "type": "scatterpolar"
           }
          ],
          "scatterpolargl": [
           {
            "marker": {
             "colorbar": {
              "outlinewidth": 0,
              "ticks": ""
             }
            },
            "type": "scatterpolargl"
           }
          ],
          "scatterternary": [
           {
            "marker": {
             "colorbar": {
              "outlinewidth": 0,
              "ticks": ""
             }
            },
            "type": "scatterternary"
           }
          ],
          "surface": [
           {
            "colorbar": {
             "outlinewidth": 0,
             "ticks": ""
            },
            "colorscale": [
             [
              0,
              "#0d0887"
             ],
             [
              0.1111111111111111,
              "#46039f"
             ],
             [
              0.2222222222222222,
              "#7201a8"
             ],
             [
              0.3333333333333333,
              "#9c179e"
             ],
             [
              0.4444444444444444,
              "#bd3786"
             ],
             [
              0.5555555555555556,
              "#d8576b"
             ],
             [
              0.6666666666666666,
              "#ed7953"
             ],
             [
              0.7777777777777778,
              "#fb9f3a"
             ],
             [
              0.8888888888888888,
              "#fdca26"
             ],
             [
              1,
              "#f0f921"
             ]
            ],
            "type": "surface"
           }
          ],
          "table": [
           {
            "cells": {
             "fill": {
              "color": "#EBF0F8"
             },
             "line": {
              "color": "white"
             }
            },
            "header": {
             "fill": {
              "color": "#C8D4E3"
             },
             "line": {
              "color": "white"
             }
            },
            "type": "table"
           }
          ]
         },
         "layout": {
          "annotationdefaults": {
           "arrowcolor": "#2a3f5f",
           "arrowhead": 0,
           "arrowwidth": 1
          },
          "autotypenumbers": "strict",
          "coloraxis": {
           "colorbar": {
            "outlinewidth": 0,
            "ticks": ""
           }
          },
          "colorscale": {
           "diverging": [
            [
             0,
             "#8e0152"
            ],
            [
             0.1,
             "#c51b7d"
            ],
            [
             0.2,
             "#de77ae"
            ],
            [
             0.3,
             "#f1b6da"
            ],
            [
             0.4,
             "#fde0ef"
            ],
            [
             0.5,
             "#f7f7f7"
            ],
            [
             0.6,
             "#e6f5d0"
            ],
            [
             0.7,
             "#b8e186"
            ],
            [
             0.8,
             "#7fbc41"
            ],
            [
             0.9,
             "#4d9221"
            ],
            [
             1,
             "#276419"
            ]
           ],
           "sequential": [
            [
             0,
             "#0d0887"
            ],
            [
             0.1111111111111111,
             "#46039f"
            ],
            [
             0.2222222222222222,
             "#7201a8"
            ],
            [
             0.3333333333333333,
             "#9c179e"
            ],
            [
             0.4444444444444444,
             "#bd3786"
            ],
            [
             0.5555555555555556,
             "#d8576b"
            ],
            [
             0.6666666666666666,
             "#ed7953"
            ],
            [
             0.7777777777777778,
             "#fb9f3a"
            ],
            [
             0.8888888888888888,
             "#fdca26"
            ],
            [
             1,
             "#f0f921"
            ]
           ],
           "sequentialminus": [
            [
             0,
             "#0d0887"
            ],
            [
             0.1111111111111111,
             "#46039f"
            ],
            [
             0.2222222222222222,
             "#7201a8"
            ],
            [
             0.3333333333333333,
             "#9c179e"
            ],
            [
             0.4444444444444444,
             "#bd3786"
            ],
            [
             0.5555555555555556,
             "#d8576b"
            ],
            [
             0.6666666666666666,
             "#ed7953"
            ],
            [
             0.7777777777777778,
             "#fb9f3a"
            ],
            [
             0.8888888888888888,
             "#fdca26"
            ],
            [
             1,
             "#f0f921"
            ]
           ]
          },
          "colorway": [
           "#636efa",
           "#EF553B",
           "#00cc96",
           "#ab63fa",
           "#FFA15A",
           "#19d3f3",
           "#FF6692",
           "#B6E880",
           "#FF97FF",
           "#FECB52"
          ],
          "font": {
           "color": "#2a3f5f"
          },
          "geo": {
           "bgcolor": "white",
           "lakecolor": "white",
           "landcolor": "#E5ECF6",
           "showlakes": true,
           "showland": true,
           "subunitcolor": "white"
          },
          "hoverlabel": {
           "align": "left"
          },
          "hovermode": "closest",
          "mapbox": {
           "style": "light"
          },
          "paper_bgcolor": "white",
          "plot_bgcolor": "#E5ECF6",
          "polar": {
           "angularaxis": {
            "gridcolor": "white",
            "linecolor": "white",
            "ticks": ""
           },
           "bgcolor": "#E5ECF6",
           "radialaxis": {
            "gridcolor": "white",
            "linecolor": "white",
            "ticks": ""
           }
          },
          "scene": {
           "xaxis": {
            "backgroundcolor": "#E5ECF6",
            "gridcolor": "white",
            "gridwidth": 2,
            "linecolor": "white",
            "showbackground": true,
            "ticks": "",
            "zerolinecolor": "white"
           },
           "yaxis": {
            "backgroundcolor": "#E5ECF6",
            "gridcolor": "white",
            "gridwidth": 2,
            "linecolor": "white",
            "showbackground": true,
            "ticks": "",
            "zerolinecolor": "white"
           },
           "zaxis": {
            "backgroundcolor": "#E5ECF6",
            "gridcolor": "white",
            "gridwidth": 2,
            "linecolor": "white",
            "showbackground": true,
            "ticks": "",
            "zerolinecolor": "white"
           }
          },
          "shapedefaults": {
           "line": {
            "color": "#2a3f5f"
           }
          },
          "ternary": {
           "aaxis": {
            "gridcolor": "white",
            "linecolor": "white",
            "ticks": ""
           },
           "baxis": {
            "gridcolor": "white",
            "linecolor": "white",
            "ticks": ""
           },
           "bgcolor": "#E5ECF6",
           "caxis": {
            "gridcolor": "white",
            "linecolor": "white",
            "ticks": ""
           }
          },
          "title": {
           "x": 0.05
          },
          "xaxis": {
           "automargin": true,
           "gridcolor": "white",
           "linecolor": "white",
           "ticks": "",
           "title": {
            "standoff": 15
           },
           "zerolinecolor": "white",
           "zerolinewidth": 2
          },
          "yaxis": {
           "automargin": true,
           "gridcolor": "white",
           "linecolor": "white",
           "ticks": "",
           "title": {
            "standoff": 15
           },
           "zerolinecolor": "white",
           "zerolinewidth": 2
          }
         }
        },
        "title": {
         "text": "3D Scatter Plot for Operators (Parent of Loops)"
        }
       }
      }
     },
     "metadata": {},
     "output_type": "display_data"
    },
    {
     "data": {
      "application/vnd.plotly.v1+json": {
       "config": {
        "plotlyServerURL": "https://plot.ly"
       },
       "data": [
        {
         "hovertemplate": "Weight of Parent Node=%{x}<br>Probability of Correct Answer=%{y}<br>Final Probability=%{z}<br>color=%{marker.color}<extra></extra>",
         "legendgroup": "",
         "marker": {
          "color": [
           0.4060693098718496,
           0.3969958297576224,
           0.40100658052670296,
           0.4123772111676441,
           0.4278877742365068,
           0.44572704929607543,
           0.46487622485041613,
           0.4783820110997327,
           0.48597901586497333,
           0.49025233104542115,
           0.39678992523791756,
           0.39090506115138435,
           0.3987403524966745,
           0.4132503140520409,
           0.4310074124663632,
           0.45034419908233986,
           0.47044948266128345,
           0.4834398908888777,
           0.48975954894554513,
           0.49283397718932925,
           0.3873554721784454,
           0.38619801764997147,
           0.39760672761395877,
           0.41440093664614386,
           0.4335032167075564,
           0.4535946700672095,
           0.4741100548403941,
           0.486473791171759,
           0.49177253531377246,
           0.49404342566034964,
           0.379402827044138,
           0.38305997367339034,
           0.39731519294984163,
           0.41562924855926264,
           0.4354977521259913,
           0.4559615761870079,
           0.4766533953309434,
           0.4884343047903229,
           0.4929461424556172,
           0.49467408028487875,
           0.3727791850272582,
           0.38098543923295364,
           0.3974478605605662,
           0.4167681858919192,
           0.43707778568610556,
           0.45772982664050343,
           0.47850040491958984,
           0.4897767589392736,
           0.49368011225377945,
           0.495031273016493,
           0.3672312290822438,
           0.37961454854160365,
           0.3977794564410506,
           0.41777012911105144,
           0.43833735907701665,
           0.45908665976802315,
           0.47989345647746384,
           0.49074033964886615,
           0.4941656711766774,
           0.49524735481703885,
           0.3625371370515989,
           0.3787126652272239,
           0.398193732547029,
           0.4186344725215961,
           0.4393538271378682,
           0.4601540698759257,
           0.4809777962622435,
           0.49145887811633576,
           0.49450177284816904,
           0.49538519389934643,
           0.35852263534003115,
           0.3781279678663842,
           0.39863139053515567,
           0.41937609115263663,
           0.4401856127115618,
           0.46101254885177056,
           0.48184416353620474,
           0.49201161225739604,
           0.4947431656451788,
           0.49547701580906073,
           0.35505419901747715,
           0.37776099481958125,
           0.3990626937701073,
           0.4200131185077388,
           0.44087572469214664,
           0.4617163762382486,
           0.4825515391247741,
           0.49244782984640545,
           0.4949219025268133,
           0.49554042069691523
          ],
          "coloraxis": "coloraxis",
          "symbol": "circle"
         },
         "mode": "markers",
         "name": "",
         "scene": "scene",
         "showlegend": false,
         "type": "scatter3d",
         "x": [
          0.7777777777777778,
          0.7777777777777778,
          0.7777777777777778,
          0.7777777777777778,
          0.7777777777777778,
          0.7777777777777778,
          0.7777777777777778,
          0.7777777777777778,
          0.7777777777777778,
          0.7777777777777778,
          1.0555555555555556,
          1.0555555555555556,
          1.0555555555555556,
          1.0555555555555556,
          1.0555555555555556,
          1.0555555555555556,
          1.0555555555555556,
          1.0555555555555556,
          1.0555555555555556,
          1.0555555555555556,
          1.3333333333333335,
          1.3333333333333335,
          1.3333333333333335,
          1.3333333333333335,
          1.3333333333333335,
          1.3333333333333335,
          1.3333333333333335,
          1.3333333333333335,
          1.3333333333333335,
          1.3333333333333335,
          1.6111111111111112,
          1.6111111111111112,
          1.6111111111111112,
          1.6111111111111112,
          1.6111111111111112,
          1.6111111111111112,
          1.6111111111111112,
          1.6111111111111112,
          1.6111111111111112,
          1.6111111111111112,
          1.8888888888888888,
          1.8888888888888888,
          1.8888888888888888,
          1.8888888888888888,
          1.8888888888888888,
          1.8888888888888888,
          1.8888888888888888,
          1.8888888888888888,
          1.8888888888888888,
          1.8888888888888888,
          2.166666666666667,
          2.166666666666667,
          2.166666666666667,
          2.166666666666667,
          2.166666666666667,
          2.166666666666667,
          2.166666666666667,
          2.166666666666667,
          2.166666666666667,
          2.166666666666667,
          2.4444444444444446,
          2.4444444444444446,
          2.4444444444444446,
          2.4444444444444446,
          2.4444444444444446,
          2.4444444444444446,
          2.4444444444444446,
          2.4444444444444446,
          2.4444444444444446,
          2.4444444444444446,
          2.7222222222222223,
          2.7222222222222223,
          2.7222222222222223,
          2.7222222222222223,
          2.7222222222222223,
          2.7222222222222223,
          2.7222222222222223,
          2.7222222222222223,
          2.7222222222222223,
          2.7222222222222223,
          3,
          3,
          3,
          3,
          3,
          3,
          3,
          3,
          3,
          3
         ],
         "y": [
          0,
          0.1111111111111111,
          0.2222222222222222,
          0.3333333333333333,
          0.4444444444444444,
          0.5555555555555556,
          0.6666666666666666,
          0.7777777777777777,
          0.8888888888888888,
          1,
          0,
          0.1111111111111111,
          0.2222222222222222,
          0.3333333333333333,
          0.4444444444444444,
          0.5555555555555556,
          0.6666666666666666,
          0.7777777777777777,
          0.8888888888888888,
          1,
          0,
          0.1111111111111111,
          0.2222222222222222,
          0.3333333333333333,
          0.4444444444444444,
          0.5555555555555556,
          0.6666666666666666,
          0.7777777777777777,
          0.8888888888888888,
          1,
          0,
          0.1111111111111111,
          0.2222222222222222,
          0.3333333333333333,
          0.4444444444444444,
          0.5555555555555556,
          0.6666666666666666,
          0.7777777777777777,
          0.8888888888888888,
          1,
          0,
          0.1111111111111111,
          0.2222222222222222,
          0.3333333333333333,
          0.4444444444444444,
          0.5555555555555556,
          0.6666666666666666,
          0.7777777777777777,
          0.8888888888888888,
          1,
          0,
          0.1111111111111111,
          0.2222222222222222,
          0.3333333333333333,
          0.4444444444444444,
          0.5555555555555556,
          0.6666666666666666,
          0.7777777777777777,
          0.8888888888888888,
          1,
          0,
          0.1111111111111111,
          0.2222222222222222,
          0.3333333333333333,
          0.4444444444444444,
          0.5555555555555556,
          0.6666666666666666,
          0.7777777777777777,
          0.8888888888888888,
          1,
          0,
          0.1111111111111111,
          0.2222222222222222,
          0.3333333333333333,
          0.4444444444444444,
          0.5555555555555556,
          0.6666666666666666,
          0.7777777777777777,
          0.8888888888888888,
          1,
          0,
          0.1111111111111111,
          0.2222222222222222,
          0.3333333333333333,
          0.4444444444444444,
          0.5555555555555556,
          0.6666666666666666,
          0.7777777777777777,
          0.8888888888888888,
          1
         ],
         "z": [
          0.4060693098718496,
          0.3969958297576224,
          0.40100658052670296,
          0.4123772111676441,
          0.4278877742365068,
          0.44572704929607543,
          0.46487622485041613,
          0.4783820110997327,
          0.48597901586497333,
          0.49025233104542115,
          0.39678992523791756,
          0.39090506115138435,
          0.3987403524966745,
          0.4132503140520409,
          0.4310074124663632,
          0.45034419908233986,
          0.47044948266128345,
          0.4834398908888777,
          0.48975954894554513,
          0.49283397718932925,
          0.3873554721784454,
          0.38619801764997147,
          0.39760672761395877,
          0.41440093664614386,
          0.4335032167075564,
          0.4535946700672095,
          0.4741100548403941,
          0.486473791171759,
          0.49177253531377246,
          0.49404342566034964,
          0.379402827044138,
          0.38305997367339034,
          0.39731519294984163,
          0.41562924855926264,
          0.4354977521259913,
          0.4559615761870079,
          0.4766533953309434,
          0.4884343047903229,
          0.4929461424556172,
          0.49467408028487875,
          0.3727791850272582,
          0.38098543923295364,
          0.3974478605605662,
          0.4167681858919192,
          0.43707778568610556,
          0.45772982664050343,
          0.47850040491958984,
          0.4897767589392736,
          0.49368011225377945,
          0.495031273016493,
          0.3672312290822438,
          0.37961454854160365,
          0.3977794564410506,
          0.41777012911105144,
          0.43833735907701665,
          0.45908665976802315,
          0.47989345647746384,
          0.49074033964886615,
          0.4941656711766774,
          0.49524735481703885,
          0.3625371370515989,
          0.3787126652272239,
          0.398193732547029,
          0.4186344725215961,
          0.4393538271378682,
          0.4601540698759257,
          0.4809777962622435,
          0.49145887811633576,
          0.49450177284816904,
          0.49538519389934643,
          0.35852263534003115,
          0.3781279678663842,
          0.39863139053515567,
          0.41937609115263663,
          0.4401856127115618,
          0.46101254885177056,
          0.48184416353620474,
          0.49201161225739604,
          0.4947431656451788,
          0.49547701580906073,
          0.35505419901747715,
          0.37776099481958125,
          0.3990626937701073,
          0.4200131185077388,
          0.44087572469214664,
          0.4617163762382486,
          0.4825515391247741,
          0.49244782984640545,
          0.4949219025268133,
          0.49554042069691523
         ]
        }
       ],
       "layout": {
        "coloraxis": {
         "colorbar": {
          "title": {
           "text": "color"
          }
         },
         "colorscale": [
          [
           0,
           "#0d0887"
          ],
          [
           0.1111111111111111,
           "#46039f"
          ],
          [
           0.2222222222222222,
           "#7201a8"
          ],
          [
           0.3333333333333333,
           "#9c179e"
          ],
          [
           0.4444444444444444,
           "#bd3786"
          ],
          [
           0.5555555555555556,
           "#d8576b"
          ],
          [
           0.6666666666666666,
           "#ed7953"
          ],
          [
           0.7777777777777778,
           "#fb9f3a"
          ],
          [
           0.8888888888888888,
           "#fdca26"
          ],
          [
           1,
           "#f0f921"
          ]
         ]
        },
        "legend": {
         "tracegroupgap": 0
        },
        "scene": {
         "domain": {
          "x": [
           0,
           1
          ],
          "y": [
           0,
           1
          ]
         },
         "xaxis": {
          "title": {
           "text": "Weight of Parent Node"
          }
         },
         "yaxis": {
          "title": {
           "text": "Probability of Correct Answer"
          }
         },
         "zaxis": {
          "title": {
           "text": "Final Probability"
          }
         }
        },
        "template": {
         "data": {
          "bar": [
           {
            "error_x": {
             "color": "#2a3f5f"
            },
            "error_y": {
             "color": "#2a3f5f"
            },
            "marker": {
             "line": {
              "color": "#E5ECF6",
              "width": 0.5
             },
             "pattern": {
              "fillmode": "overlay",
              "size": 10,
              "solidity": 0.2
             }
            },
            "type": "bar"
           }
          ],
          "barpolar": [
           {
            "marker": {
             "line": {
              "color": "#E5ECF6",
              "width": 0.5
             },
             "pattern": {
              "fillmode": "overlay",
              "size": 10,
              "solidity": 0.2
             }
            },
            "type": "barpolar"
           }
          ],
          "carpet": [
           {
            "aaxis": {
             "endlinecolor": "#2a3f5f",
             "gridcolor": "white",
             "linecolor": "white",
             "minorgridcolor": "white",
             "startlinecolor": "#2a3f5f"
            },
            "baxis": {
             "endlinecolor": "#2a3f5f",
             "gridcolor": "white",
             "linecolor": "white",
             "minorgridcolor": "white",
             "startlinecolor": "#2a3f5f"
            },
            "type": "carpet"
           }
          ],
          "choropleth": [
           {
            "colorbar": {
             "outlinewidth": 0,
             "ticks": ""
            },
            "type": "choropleth"
           }
          ],
          "contour": [
           {
            "colorbar": {
             "outlinewidth": 0,
             "ticks": ""
            },
            "colorscale": [
             [
              0,
              "#0d0887"
             ],
             [
              0.1111111111111111,
              "#46039f"
             ],
             [
              0.2222222222222222,
              "#7201a8"
             ],
             [
              0.3333333333333333,
              "#9c179e"
             ],
             [
              0.4444444444444444,
              "#bd3786"
             ],
             [
              0.5555555555555556,
              "#d8576b"
             ],
             [
              0.6666666666666666,
              "#ed7953"
             ],
             [
              0.7777777777777778,
              "#fb9f3a"
             ],
             [
              0.8888888888888888,
              "#fdca26"
             ],
             [
              1,
              "#f0f921"
             ]
            ],
            "type": "contour"
           }
          ],
          "contourcarpet": [
           {
            "colorbar": {
             "outlinewidth": 0,
             "ticks": ""
            },
            "type": "contourcarpet"
           }
          ],
          "heatmap": [
           {
            "colorbar": {
             "outlinewidth": 0,
             "ticks": ""
            },
            "colorscale": [
             [
              0,
              "#0d0887"
             ],
             [
              0.1111111111111111,
              "#46039f"
             ],
             [
              0.2222222222222222,
              "#7201a8"
             ],
             [
              0.3333333333333333,
              "#9c179e"
             ],
             [
              0.4444444444444444,
              "#bd3786"
             ],
             [
              0.5555555555555556,
              "#d8576b"
             ],
             [
              0.6666666666666666,
              "#ed7953"
             ],
             [
              0.7777777777777778,
              "#fb9f3a"
             ],
             [
              0.8888888888888888,
              "#fdca26"
             ],
             [
              1,
              "#f0f921"
             ]
            ],
            "type": "heatmap"
           }
          ],
          "heatmapgl": [
           {
            "colorbar": {
             "outlinewidth": 0,
             "ticks": ""
            },
            "colorscale": [
             [
              0,
              "#0d0887"
             ],
             [
              0.1111111111111111,
              "#46039f"
             ],
             [
              0.2222222222222222,
              "#7201a8"
             ],
             [
              0.3333333333333333,
              "#9c179e"
             ],
             [
              0.4444444444444444,
              "#bd3786"
             ],
             [
              0.5555555555555556,
              "#d8576b"
             ],
             [
              0.6666666666666666,
              "#ed7953"
             ],
             [
              0.7777777777777778,
              "#fb9f3a"
             ],
             [
              0.8888888888888888,
              "#fdca26"
             ],
             [
              1,
              "#f0f921"
             ]
            ],
            "type": "heatmapgl"
           }
          ],
          "histogram": [
           {
            "marker": {
             "pattern": {
              "fillmode": "overlay",
              "size": 10,
              "solidity": 0.2
             }
            },
            "type": "histogram"
           }
          ],
          "histogram2d": [
           {
            "colorbar": {
             "outlinewidth": 0,
             "ticks": ""
            },
            "colorscale": [
             [
              0,
              "#0d0887"
             ],
             [
              0.1111111111111111,
              "#46039f"
             ],
             [
              0.2222222222222222,
              "#7201a8"
             ],
             [
              0.3333333333333333,
              "#9c179e"
             ],
             [
              0.4444444444444444,
              "#bd3786"
             ],
             [
              0.5555555555555556,
              "#d8576b"
             ],
             [
              0.6666666666666666,
              "#ed7953"
             ],
             [
              0.7777777777777778,
              "#fb9f3a"
             ],
             [
              0.8888888888888888,
              "#fdca26"
             ],
             [
              1,
              "#f0f921"
             ]
            ],
            "type": "histogram2d"
           }
          ],
          "histogram2dcontour": [
           {
            "colorbar": {
             "outlinewidth": 0,
             "ticks": ""
            },
            "colorscale": [
             [
              0,
              "#0d0887"
             ],
             [
              0.1111111111111111,
              "#46039f"
             ],
             [
              0.2222222222222222,
              "#7201a8"
             ],
             [
              0.3333333333333333,
              "#9c179e"
             ],
             [
              0.4444444444444444,
              "#bd3786"
             ],
             [
              0.5555555555555556,
              "#d8576b"
             ],
             [
              0.6666666666666666,
              "#ed7953"
             ],
             [
              0.7777777777777778,
              "#fb9f3a"
             ],
             [
              0.8888888888888888,
              "#fdca26"
             ],
             [
              1,
              "#f0f921"
             ]
            ],
            "type": "histogram2dcontour"
           }
          ],
          "mesh3d": [
           {
            "colorbar": {
             "outlinewidth": 0,
             "ticks": ""
            },
            "type": "mesh3d"
           }
          ],
          "parcoords": [
           {
            "line": {
             "colorbar": {
              "outlinewidth": 0,
              "ticks": ""
             }
            },
            "type": "parcoords"
           }
          ],
          "pie": [
           {
            "automargin": true,
            "type": "pie"
           }
          ],
          "scatter": [
           {
            "fillpattern": {
             "fillmode": "overlay",
             "size": 10,
             "solidity": 0.2
            },
            "type": "scatter"
           }
          ],
          "scatter3d": [
           {
            "line": {
             "colorbar": {
              "outlinewidth": 0,
              "ticks": ""
             }
            },
            "marker": {
             "colorbar": {
              "outlinewidth": 0,
              "ticks": ""
             }
            },
            "type": "scatter3d"
           }
          ],
          "scattercarpet": [
           {
            "marker": {
             "colorbar": {
              "outlinewidth": 0,
              "ticks": ""
             }
            },
            "type": "scattercarpet"
           }
          ],
          "scattergeo": [
           {
            "marker": {
             "colorbar": {
              "outlinewidth": 0,
              "ticks": ""
             }
            },
            "type": "scattergeo"
           }
          ],
          "scattergl": [
           {
            "marker": {
             "colorbar": {
              "outlinewidth": 0,
              "ticks": ""
             }
            },
            "type": "scattergl"
           }
          ],
          "scattermapbox": [
           {
            "marker": {
             "colorbar": {
              "outlinewidth": 0,
              "ticks": ""
             }
            },
            "type": "scattermapbox"
           }
          ],
          "scatterpolar": [
           {
            "marker": {
             "colorbar": {
              "outlinewidth": 0,
              "ticks": ""
             }
            },
            "type": "scatterpolar"
           }
          ],
          "scatterpolargl": [
           {
            "marker": {
             "colorbar": {
              "outlinewidth": 0,
              "ticks": ""
             }
            },
            "type": "scatterpolargl"
           }
          ],
          "scatterternary": [
           {
            "marker": {
             "colorbar": {
              "outlinewidth": 0,
              "ticks": ""
             }
            },
            "type": "scatterternary"
           }
          ],
          "surface": [
           {
            "colorbar": {
             "outlinewidth": 0,
             "ticks": ""
            },
            "colorscale": [
             [
              0,
              "#0d0887"
             ],
             [
              0.1111111111111111,
              "#46039f"
             ],
             [
              0.2222222222222222,
              "#7201a8"
             ],
             [
              0.3333333333333333,
              "#9c179e"
             ],
             [
              0.4444444444444444,
              "#bd3786"
             ],
             [
              0.5555555555555556,
              "#d8576b"
             ],
             [
              0.6666666666666666,
              "#ed7953"
             ],
             [
              0.7777777777777778,
              "#fb9f3a"
             ],
             [
              0.8888888888888888,
              "#fdca26"
             ],
             [
              1,
              "#f0f921"
             ]
            ],
            "type": "surface"
           }
          ],
          "table": [
           {
            "cells": {
             "fill": {
              "color": "#EBF0F8"
             },
             "line": {
              "color": "white"
             }
            },
            "header": {
             "fill": {
              "color": "#C8D4E3"
             },
             "line": {
              "color": "white"
             }
            },
            "type": "table"
           }
          ]
         },
         "layout": {
          "annotationdefaults": {
           "arrowcolor": "#2a3f5f",
           "arrowhead": 0,
           "arrowwidth": 1
          },
          "autotypenumbers": "strict",
          "coloraxis": {
           "colorbar": {
            "outlinewidth": 0,
            "ticks": ""
           }
          },
          "colorscale": {
           "diverging": [
            [
             0,
             "#8e0152"
            ],
            [
             0.1,
             "#c51b7d"
            ],
            [
             0.2,
             "#de77ae"
            ],
            [
             0.3,
             "#f1b6da"
            ],
            [
             0.4,
             "#fde0ef"
            ],
            [
             0.5,
             "#f7f7f7"
            ],
            [
             0.6,
             "#e6f5d0"
            ],
            [
             0.7,
             "#b8e186"
            ],
            [
             0.8,
             "#7fbc41"
            ],
            [
             0.9,
             "#4d9221"
            ],
            [
             1,
             "#276419"
            ]
           ],
           "sequential": [
            [
             0,
             "#0d0887"
            ],
            [
             0.1111111111111111,
             "#46039f"
            ],
            [
             0.2222222222222222,
             "#7201a8"
            ],
            [
             0.3333333333333333,
             "#9c179e"
            ],
            [
             0.4444444444444444,
             "#bd3786"
            ],
            [
             0.5555555555555556,
             "#d8576b"
            ],
            [
             0.6666666666666666,
             "#ed7953"
            ],
            [
             0.7777777777777778,
             "#fb9f3a"
            ],
            [
             0.8888888888888888,
             "#fdca26"
            ],
            [
             1,
             "#f0f921"
            ]
           ],
           "sequentialminus": [
            [
             0,
             "#0d0887"
            ],
            [
             0.1111111111111111,
             "#46039f"
            ],
            [
             0.2222222222222222,
             "#7201a8"
            ],
            [
             0.3333333333333333,
             "#9c179e"
            ],
            [
             0.4444444444444444,
             "#bd3786"
            ],
            [
             0.5555555555555556,
             "#d8576b"
            ],
            [
             0.6666666666666666,
             "#ed7953"
            ],
            [
             0.7777777777777778,
             "#fb9f3a"
            ],
            [
             0.8888888888888888,
             "#fdca26"
            ],
            [
             1,
             "#f0f921"
            ]
           ]
          },
          "colorway": [
           "#636efa",
           "#EF553B",
           "#00cc96",
           "#ab63fa",
           "#FFA15A",
           "#19d3f3",
           "#FF6692",
           "#B6E880",
           "#FF97FF",
           "#FECB52"
          ],
          "font": {
           "color": "#2a3f5f"
          },
          "geo": {
           "bgcolor": "white",
           "lakecolor": "white",
           "landcolor": "#E5ECF6",
           "showlakes": true,
           "showland": true,
           "subunitcolor": "white"
          },
          "hoverlabel": {
           "align": "left"
          },
          "hovermode": "closest",
          "mapbox": {
           "style": "light"
          },
          "paper_bgcolor": "white",
          "plot_bgcolor": "#E5ECF6",
          "polar": {
           "angularaxis": {
            "gridcolor": "white",
            "linecolor": "white",
            "ticks": ""
           },
           "bgcolor": "#E5ECF6",
           "radialaxis": {
            "gridcolor": "white",
            "linecolor": "white",
            "ticks": ""
           }
          },
          "scene": {
           "xaxis": {
            "backgroundcolor": "#E5ECF6",
            "gridcolor": "white",
            "gridwidth": 2,
            "linecolor": "white",
            "showbackground": true,
            "ticks": "",
            "zerolinecolor": "white"
           },
           "yaxis": {
            "backgroundcolor": "#E5ECF6",
            "gridcolor": "white",
            "gridwidth": 2,
            "linecolor": "white",
            "showbackground": true,
            "ticks": "",
            "zerolinecolor": "white"
           },
           "zaxis": {
            "backgroundcolor": "#E5ECF6",
            "gridcolor": "white",
            "gridwidth": 2,
            "linecolor": "white",
            "showbackground": true,
            "ticks": "",
            "zerolinecolor": "white"
           }
          },
          "shapedefaults": {
           "line": {
            "color": "#2a3f5f"
           }
          },
          "ternary": {
           "aaxis": {
            "gridcolor": "white",
            "linecolor": "white",
            "ticks": ""
           },
           "baxis": {
            "gridcolor": "white",
            "linecolor": "white",
            "ticks": ""
           },
           "bgcolor": "#E5ECF6",
           "caxis": {
            "gridcolor": "white",
            "linecolor": "white",
            "ticks": ""
           }
          },
          "title": {
           "x": 0.05
          },
          "xaxis": {
           "automargin": true,
           "gridcolor": "white",
           "linecolor": "white",
           "ticks": "",
           "title": {
            "standoff": 15
           },
           "zerolinecolor": "white",
           "zerolinewidth": 2
          },
          "yaxis": {
           "automargin": true,
           "gridcolor": "white",
           "linecolor": "white",
           "ticks": "",
           "title": {
            "standoff": 15
           },
           "zerolinecolor": "white",
           "zerolinewidth": 2
          }
         }
        },
        "title": {
         "text": "3D Scatter Plot for Data Types (Parent of Object-Oriented Programming)"
        }
       }
      }
     },
     "metadata": {},
     "output_type": "display_data"
    },
    {
     "data": {
      "image/png": "[encoded data removed]",
      "text/plain": [
       "<Figure size 1000x700 with 2 Axes>"
      ]
     },
     "metadata": {},
     "output_type": "display_data"
    }
   ],
   "source": [
    "import numpy as np\n",
    "import matplotlib.pyplot as plt\n",
    "import plotly.graph_objs as go\n",
    "import plotly.express as px\n",
    "from pgmpy.models import BayesianNetwork\n",
    "from pgmpy.factors.discrete import TabularCPD\n",
    "from pgmpy.inference import VariableElimination\n",
    "import seaborn as sns\n",
    "\n",
    "# Create the Bayesian Model with the defined edges (from the previous code)\n",
    "edges = [\n",
    "    ('Introduction to Programming', 'Basic Syntax'),\n",
    "    ('Basic Syntax', 'Data Types'),\n",
    "    ('Data Types', 'Variables and Constants'),\n",
    "    ('Variables and Constants', 'Operators'),\n",
    "    ('Operators', 'Control Structures'),\n",
    "    ('Control Structures', 'If-else statements'),\n",
    "    ('Control Structures', 'Switch statements'),\n",
    "    ('Operators', 'Loops'),\n",
    "    ('Loops', 'For loop'),\n",
    "    ('Loops', 'While loop'),\n",
    "    ('Loops', 'Do-while loop'),\n",
    "    ('Data Types', 'Functions'),\n",
    "    ('Data Types', 'Arrays and Vectors'),\n",
    "    ('Data Types', 'Pointers'),\n",
    "    ('Data Types', 'Strings'),\n",
    "    ('Data Types', 'File I/O'),\n",
    "    ('Data Types', 'Object-Oriented Programming'),\n",
    "    ('Object-Oriented Programming', 'Classes and Objects'),\n",
    "    ('Object-Oriented Programming', 'Inheritance and Polymorphism'),\n",
    "]\n",
    "model = BayesianNetwork(edges)\n",
    "\n",
    "# Define the Conditional Probability Distributions (CPDs) for each node\n",
    "cpd_intro_prog = TabularCPD(variable='Introduction to Programming',variable_card=2,\n",
    "                            values=[[0.5], [0.5]])\n",
    "\n",
    "cpd_basic_syntax = TabularCPD(variable='Basic Syntax', variable_card=2,\n",
    "                              values=[[0.8, 0.2], [0.2, 0.8]],\n",
    "                              evidence=['Introduction to Programming'],\n",
    "                              evidence_card=[2])\n",
    "\n",
    "cpd_data_types = TabularCPD(variable='Data Types', variable_card=2,\n",
    "                            values=[[0.9, 0.3], [0.1, 0.7]],\n",
    "                            evidence=['Basic Syntax'],\n",
    "                            evidence_card=[2])\n",
    "\n",
    "cpd_variables_constants = TabularCPD(variable='Variables and Constants', variable_card=2,\n",
    "                                     values=[[0.8, 0.2], [0.2, 0.8]],\n",
    "                                     evidence=['Data Types'],\n",
    "                                     evidence_card=[2])\n",
    "\n",
    "cpd_operators = TabularCPD(variable='Operators', variable_card=2,\n",
    "                           values=[[0.9, 0.3], [0.1, 0.7]],\n",
    "                           evidence=['Variables and Constants'],\n",
    "                           evidence_card=[2])\n",
    "\n",
    "cpd_control_structures = TabularCPD(variable='Control Structures', variable_card=2,\n",
    "                                    values=[[0.8, 0.2], [0.2, 0.8]],\n",
    "                                    evidence=['Operators'],\n",
    "                                    evidence_card=[2])\n",
    "\n",
    "cpd_if_else = TabularCPD(variable='If-else statements', variable_card=2,\n",
    "                         values=[[0.9, 0.4], [0.1, 0.6]],\n",
    "                         evidence=['Control Structures'],\n",
    "                         evidence_card=[2])\n",
    "\n",
    "cpd_switch = TabularCPD(variable='Switch statements', variable_card=2,\n",
    "                         values=[[0.9, 0.4], [0.1, 0.6]],\n",
    "                         evidence=['Control Structures'],\n",
    "                         evidence_card=[2])\n",
    "\n",
    "cpd_loops = TabularCPD(variable='Loops', variable_card=2,\n",
    "                       values=[[0.8, 0.2], [0.2, 0.8]],\n",
    "                       evidence=['Operators'],\n",
    "                       evidence_card=[2])\n",
    "\n",
    "cpd_for = TabularCPD(variable='For loop', variable_card=2,\n",
    "                     values=[[0.9, 0.4], [0.1, 0.6]],\n",
    "                     evidence=['Loops'],\n",
    "                     evidence_card=[2])\n",
    "\n",
    "cpd_while = TabularCPD(variable='While loop', variable_card=2,\n",
    "                       values=[[0.9, 0.4], [0.1, 0.6]],\n",
    "                       evidence=['Loops'],\n",
    "                       evidence_card=[2])\n",
    "\n",
    "cpd_do_while = TabularCPD(variable='Do-while loop', variable_card=2,\n",
    "                          values=[[0.9, 0.4], [0.1, 0.6]],\n",
    "                          evidence=['Loops'],\n",
    "                          evidence_card=[2])\n",
    "\n",
    "cpd_functions = TabularCPD(variable='Functions', variable_card=2,\n",
    "                           values=[[0.9, 0.4], [0.1, 0.6]],\n",
    "                           evidence=['Data Types'],\n",
    "                           evidence_card=[2])\n",
    "\n",
    "cpd_arrays_vectors = TabularCPD(variable='Arrays and Vectors', variable_card=2,\n",
    "                                values=[[0.9, 0.4], [0.1, 0.6]],\n",
    "                                evidence=['Data Types'],\n",
    "                                evidence_card=[2])\n",
    "\n",
    "cpd_pointers = TabularCPD(variable='Pointers', variable_card=2,\n",
    "                          values=[[0.9, 0.4], [0.1, 0.6]],\n",
    "                          evidence=['Data Types'],\n",
    "                          evidence_card=[2])\n",
    "\n",
    "cpd_strings = TabularCPD(variable='Strings',variable_card=2,\n",
    "                         values=[[0.9, 0.4], [0.1, 0.6]],\n",
    "                         evidence=['Data Types'],\n",
    "                         evidence_card=[2])\n",
    "\n",
    "cpd_file_io = TabularCPD(variable='File I/O', variable_card=2,\n",
    "                         values=[[0.9, 0.4], [0.1, 0.6]],\n",
    "                         evidence=['Data Types'],\n",
    "                         evidence_card=[2])\n",
    "\n",
    "cpd_oop = TabularCPD(variable='Object-Oriented Programming', variable_card=2,\n",
    "                      values=[[0.8, 0.2], [0.2, 0.8]], \n",
    "                      evidence=['Data Types'],\n",
    "                      evidence_card=[2])\n",
    "\n",
    "cpd_classes = TabularCPD(variable='Classes and Objects', variable_card=2,\n",
    "                         values=[[0.9, 0.3], [0.1, 0.7]], \n",
    "                         evidence=['Object-Oriented Programming'], \n",
    "                         evidence_card=[2])\n",
    "\n",
    "cpd_inheritance = TabularCPD(variable='Inheritance and Polymorphism', variable_card=2,\n",
    "                             values=[[0.9, 0.3], [0.1, 0.7]], \n",
    "                             evidence=['Object-Oriented Programming'],\n",
    "                             evidence_card=[2])\n",
    "# Add the CPDs to the model\n",
    "model.add_cpds(cpd_intro_prog, cpd_basic_syntax, cpd_data_types, cpd_variables_constants, cpd_operators,\n",
    "                cpd_control_structures, cpd_if_else, cpd_switch, cpd_loops, cpd_for, cpd_while, cpd_do_while, \n",
    "                cpd_functions, cpd_arrays_vectors, cpd_pointers, cpd_strings, cpd_file_io, cpd_oop, cpd_classes, cpd_inheritance)\n",
    "\n",
    "# Check if the model is consistent\n",
    "print(\"Model is consistent: \", model.check_model())\n",
    "\n",
    "# Print the nodes in the model\n",
    "print(\"\\nNodes in the Bayesian Network:\")\n",
    "print(model.nodes())\n",
    "\n",
    "# Print the edges in the model\n",
    "print(\"\\nEdges in the Bayesian Network:\")\n",
    "print(model.edges())\n",
    "\n",
    "nodes_name = ['Introduction to Programming','Basic Syntax','Data Types','Variables and Constants','Operators',\n",
    "    'Control Structures','If-else statements','Switch statements','Loops','For loop','While loop',\n",
    "    'Do-while loop','Functions','Arrays and Vectors','Pointers','Strings','File I/O','Object-Oriented Programming',\n",
    "    'Classes and Objects','Inheritance and Polymorphism']\n",
    "\n",
    "weight = [1,1,1.5,1.5,1,1.5,1.5,1.5,2,2,2,2,2,2.5,2.5,2.5,2,3,3,3]\n",
    "\n",
    "# Adding content to the nodes\n",
    "for x in nodes_name:\n",
    "    model._node[x]['content'] = f'Content for {x}'\n",
    "\n",
    "# Adding initial probability to the nodes\n",
    "for x in nodes_name:\n",
    "    model._node[x]['probability_known'] = 0.3\n",
    "\n",
    "# Adding weights to the nodes\n",
    "for x,i in zip(nodes_name,weight):\n",
    "    model._node[x]['weight'] = i\n",
    "\n",
    "# Accessing and printing content of the nodes\n",
    "for node in model.nodes():\n",
    "    print(f\"Node: {node}\")\n",
    "    print(f\"Content: {model._node[node]['content']}\\n\")\n",
    "\n",
    "    \n",
    "def update_child_cpd(node, correct_answer):\n",
    "    update_factor = model._node[node]['weight']\n",
    "    if correct_answer:\n",
    "        model._node[node]['probability_known'] += update_factor * 0.1\n",
    "    else:\n",
    "        model._node[node]['probability_known'] -= update_factor * 0.1\n",
    "\n",
    "    model._node[node]['probability_known'] = max(0, min(1, model._node[node]['probability_known']))\n",
    "\n",
    "    cpd = TabularCPD(node, 2, [[1 - model._node[node]['probability_known']], [model._node[node]['probability_known']]])\n",
    "    model.add_cpds(cpd)\n",
    "\n",
    "def update_parent_cpd(node):\n",
    "    child_nodes = model.get_children(node)\n",
    "    total_weight = sum([model._node[child]['weight'] for child in child_nodes])\n",
    "    \n",
    "    updated_probability_known = 0\n",
    "    for child in child_nodes:\n",
    "        weight = model._node[child]['weight']\n",
    "        updated_probability_known += (weight / total_weight) * model._node[child]['probability_known']\n",
    "    \n",
    "    parent_weight = model._node[node]['weight']\n",
    "    model._node[node]['probability_known'] = (parent_weight * updated_probability_known + model._node[node]['probability_known']) / (parent_weight + 1)\n",
    "    cpd = TabularCPD(node, 2, [[1 - model._node[node]['probability_known']], [model._node[node]['probability_known']]])\n",
    "    model.add_cpds(cpd)\n",
    "\n",
    "\n",
    "def update_cpd(node, correct_answer):\n",
    "    update_child_cpd(node, correct_answer)\n",
    "    parent_nodes = model.get_parents(node)\n",
    "    for parent_node in parent_nodes:\n",
    "        update_parent_cpd(parent_node)\n",
    "\n",
    "\n",
    "def can_access_node(node):\n",
    "    \"\"\"\n",
    "    Checks if the user can access a node based on the satisfaction of its parent nodes.\n",
    "    \"\"\"\n",
    "    parents = model.get_parents(node)\n",
    "    if not parents:\n",
    "        return True\n",
    "\n",
    "    inference = VariableElimination(model)\n",
    "    for parent in parents:\n",
    "        probability_known = inference.query([parent]).values[1]\n",
    "        if probability_known < 0.7:\n",
    "            return False\n",
    "    return True\n",
    "\n",
    "# Simulate user's interaction with the system\n",
    "nodes = model.nodes()\n",
    "\n",
    "def simulate_user_interaction(node, prob_correct):\n",
    "    if can_access_node(node):\n",
    "        print(f\"Node: {node}\")\n",
    "        print(f\"Content: {model._node[node]['content']}\\n\")\n",
    "        \n",
    "        # Update the CPD of the node based on the probability of the user's answer being correct\n",
    "        update_cpd(node, prob_correct)\n",
    "    else:\n",
    "        print(f\"Cannot access node: {node} due to unsatisfied parent requirements.\\n\")\n",
    "\n",
    "# Test with an example\n",
    "simulate_user_interaction('Data Types', 0.785)\n",
    "\n",
    "for cpd in model.get_cpds():\n",
    "    print(cpd)\n",
    "\n",
    "def print_final_probabilities():\n",
    "    # inference = VariableElimination(model)\n",
    "    for node in model.nodes():\n",
    "        # probability_known = inference.query([node]).values[1]\n",
    "        probability_known = model._node[node]['probability_known']\n",
    "        print(f\"Node: {node}, Probability known: {probability_known:.2f}\")\n",
    "\n",
    "# Call this function to print the final probabilities\n",
    "print_final_probabilities()\n",
    "\n",
    "\n",
    "def generate_plot_data(child_node, parent_node):\n",
    "    weights = np.linspace(0.5, 3, 10)\n",
    "    probabilities = np.linspace(0, 1, 10)\n",
    "\n",
    "    original_weight = model._node[parent_node]['weight']\n",
    "    original_probability_known = model._node[child_node]['probability_known']\n",
    "\n",
    "    final_probabilities = np.zeros((len(weights), len(probabilities)))\n",
    "\n",
    "    for i, weight in enumerate(weights):\n",
    "        model._node[parent_node]['weight'] = weight\n",
    "\n",
    "        for j, prob_correct in enumerate(probabilities):\n",
    "            model._node[child_node]['probability_known'] = prob_correct\n",
    "            update_cpd(child_node, prob_correct)\n",
    "\n",
    "            final_probabilities[i, j] = model._node[parent_node]['probability_known']\n",
    "\n",
    "    model._node[parent_node]['weight'] = original_weight\n",
    "    model._node[child_node]['probability_known'] = original_probability_known\n",
    "\n",
    "    return final_probabilities\n",
    "\n",
    "def plot_3d_scatter(child_node, parent_node):\n",
    "    weights = np.linspace(0.5, 3, 10)\n",
    "    probabilities = np.linspace(0, 1, 10)\n",
    "\n",
    "    final_probabilities = generate_plot_data(child_node, parent_node)\n",
    "\n",
    "    x_data = []\n",
    "    y_data = []\n",
    "    z_data = []\n",
    "\n",
    "    for i, weight in enumerate(weights):\n",
    "        for j, prob_correct in enumerate(probabilities):\n",
    "            if weight==0.5:\n",
    "                continue\n",
    "            x_data.append(weight)\n",
    "            y_data.append(prob_correct)\n",
    "            z_data.append(final_probabilities[i, j])\n",
    "\n",
    "    fig = px.scatter_3d(x=x_data, y=y_data, z=z_data, color=z_data, labels={'x': 'Weight of Parent Node', 'y': 'Probability of Correct Answer', 'z': 'Final Probability'}, title=f'3D Scatter Plot for {parent_node} (Parent of {child_node})')\n",
    "    fig.show()\n",
    "\n",
    "def process_node(node):\n",
    "    children_nodes = list(model.successors(node))\n",
    "    if not children_nodes:\n",
    "        return\n",
    "    \n",
    "    parent_nodes = model.predecessors(node)\n",
    "    for parent_node in parent_nodes:\n",
    "        plot_3d_scatter(node, parent_node)\n",
    "    \n",
    "    for child_node in children_nodes:\n",
    "        process_node(child_node)\n",
    "\n",
    "root_node = 'Introduction to Programming'  \n",
    "process_node(root_node)\n",
    "\n",
    "\n",
    "def exhaustive_simulation(weight_range, probability_range, num_simulations):\n",
    "    weights = np.linspace(*weight_range, num_simulations)\n",
    "    probabilities = np.linspace(*probability_range, num_simulations)\n",
    "    average_probability_changes = np.zeros((len(weights), len(probabilities)))\n",
    "\n",
    "    for node in model.nodes():\n",
    "        model._node[node]['original_probability_known'] = model._node[node]['probability_known']\n",
    "\n",
    "    for i, w in enumerate(weights):\n",
    "        for j, p in enumerate(probabilities):\n",
    "            for node in model.nodes():\n",
    "                model._node[node]['probability_known'] = p\n",
    "                model._node[node]['weight'] = w\n",
    "\n",
    "            total_change = 0\n",
    "\n",
    "            for _ in range(num_simulations):\n",
    "                selected_node = np.random.choice(model.nodes())\n",
    "                prob_correct = np.random.rand()\n",
    "                initial_probability_known = model._node[selected_node]['probability_known']\n",
    "\n",
    "                # Temporarily store the original CPDs\n",
    "                original_cpds = model.get_cpds()\n",
    "\n",
    "                # Update the CPDs without modifying the network structure\n",
    "                update_cpd(selected_node, prob_correct)\n",
    "\n",
    "                # Revert the CPDs to their original state\n",
    "                model.remove_cpds(*model.cpds)\n",
    "                model.add_cpds(*original_cpds)\n",
    "\n",
    "                final_probability_known = model._node[selected_node]['probability_known']\n",
    "                total_change += abs(final_probability_known - initial_probability_known)\n",
    "\n",
    "            average_probability_changes[i, j] = total_change / (num_simulations * len(model.nodes()))\n",
    "\n",
    "            # Reset the probabilities for the next iteration\n",
    "            for node in model.nodes():\n",
    "                model._node[node]['probability_known'] = model._node[node]['original_probability_known']\n",
    "\n",
    "    return average_probability_changes, weights, probabilities\n",
    "\n",
    "\n",
    "\n",
    "\n",
    "weight_range = (0.5, 3)\n",
    "probability_range = (0, 1)\n",
    "num_simulations = 10\n",
    "\n",
    "average_probability_changes, weights, probabilities = exhaustive_simulation(weight_range, probability_range, num_simulations)\n",
    "\n",
    "# Create the heatmap\n",
    "fig, ax = plt.subplots(figsize=(10, 7))\n",
    "sns.heatmap(average_probability_changes, annot=True, cmap=\"YlGnBu\", xticklabels=np.round(probabilities, 2), yticklabels=np.round(weights, 2), ax=ax)\n",
    "ax.set_xlabel(\"Initial Probability\")\n",
    "ax.set_ylabel(\"Weight\")\n",
    "ax.set_title(\"Average Change in Probability Across All Nodes\")\n",
    "plt.show()\n",
    "\n"
   ]
  },
  {
   "cell_type": "code",
   "execution_count": null,
   "metadata": {},
   "outputs": [],
   "source": []
  }
 ],
 "metadata": {
  "kernelspec": {
   "display_name": "Python 3",
   "language": "python",
   "name": "python3"
  },
  "language_info": {
   "codemirror_mode": {
    "name": "ipython",
    "version": 3
   },
   "file_extension": ".py",
   "mimetype": "text/x-python",
   "name": "python",
   "nbconvert_exporter": "python",
   "pygments_lexer": "ipython3",
   "version": "3.10.4"
  },
  "orig_nbformat": 4
 },
 "nbformat": 4,
 "nbformat_minor": 2
}
